{
  "cells": [
    {
      "cell_type": "markdown",
      "source": [
        "# California Home Price"
      ],
      "metadata": {
        "nteract": {
          "transient": {
            "deleting": false
          }
        }
      }
    },
    {
      "cell_type": "markdown",
      "source": [
        "## Clean Data"
      ],
      "metadata": {
        "nteract": {
          "transient": {
            "deleting": false
          }
        }
      }
    },
    {
      "cell_type": "code",
      "source": [
        "import pandas as pd\n",
        "import matplotlib.pyplot as plt\n",
        "import seaborn as sns"
      ],
      "outputs": [],
      "execution_count": 1,
      "metadata": {
        "collapsed": true,
        "jupyter": {
          "source_hidden": false,
          "outputs_hidden": false
        },
        "nteract": {
          "transient": {
            "deleting": false
          }
        },
        "execution": {
          "iopub.status.busy": "2021-03-16T03:27:27.231Z",
          "iopub.execute_input": "2021-03-16T03:27:27.235Z",
          "iopub.status.idle": "2021-03-16T03:27:27.244Z",
          "shell.execute_reply": "2021-03-16T03:27:27.363Z"
        }
      }
    },
    {
      "cell_type": "code",
      "source": [
        "df = pd.read_csv('CAMedianPricesHomePrice_Clean.csv')"
      ],
      "outputs": [],
      "execution_count": 2,
      "metadata": {
        "collapsed": true,
        "jupyter": {
          "source_hidden": false,
          "outputs_hidden": false
        },
        "nteract": {
          "transient": {
            "deleting": false
          }
        },
        "execution": {
          "iopub.status.busy": "2021-03-16T03:27:27.252Z",
          "iopub.execute_input": "2021-03-16T03:27:27.257Z",
          "shell.execute_reply": "2021-03-16T03:27:27.367Z",
          "iopub.status.idle": "2021-03-16T03:27:27.268Z"
        }
      }
    },
    {
      "cell_type": "code",
      "source": [
        "df.head()\n"
      ],
      "outputs": [
        {
          "output_type": "execute_result",
          "execution_count": 3,
          "data": {
            "text/plain": "     Date        CA   Alameda    Amador     Butte Calaveras Contra-Costa  \\\n0  Jan-16  $467,160  $700,000  $215,500  $260,000  $258,750     $500,000   \n1  Feb-16  $444,780  $715,000  $275,000  $264,960  $262,500     $529,000   \n2  Mar-16  $484,120  $758,000  $307,000  $286,810  $270,000     $548,780   \n3  Apr-16  $509,240  $800,000  $235,000  $272,750  $276,000     $565,000   \n4  May-16  $519,930  $828,000  $268,500  $271,000  $287,500     $595,000   \n\n  Del Norte El Dorado    Fresno  ...   Ventura      Yolo      Yuba  \\\n0  $157,000  $405,000  $216,000  ...  $638,590  $345,000  $210,000   \n1  $175,000  $422,000  $214,250  ...  $610,820  $379,500  $225,000   \n2  $199,000  $435,010  $231,000  ...  $620,020  $362,500  $235,450   \n3  $315,000  $432,000  $229,000  ...  $630,100  $419,000  $240,000   \n4  $189,500  $429,500  $232,000  ...  $617,740  $398,000  $225,000   \n\n  Unnamed: 53 Los Angeles Metropolitan Area S.F. Bay Area Inland Empire  \\\n0         NaN                      $434,000      $690,000      $291,920   \n1         NaN                      $429,980      $698,950      $290,270   \n2         NaN                      $448,420      $761,090      $309,890   \n3         NaN                      $460,940      $831,180      $310,840   \n4         NaN                      $469,090      $848,580      $315,980   \n\n  Unnamed: 57 Unnamed: 58 Unnamed: 59  \n0         NaN         NaN         NaN  \n1         NaN         NaN         NaN  \n2         NaN         NaN         NaN  \n3         NaN         NaN         NaN  \n4         NaN         NaN         NaN  \n\n[5 rows x 60 columns]",
            "text/html": "<div>\n<style scoped>\n    .dataframe tbody tr th:only-of-type {\n        vertical-align: middle;\n    }\n\n    .dataframe tbody tr th {\n        vertical-align: top;\n    }\n\n    .dataframe thead th {\n        text-align: right;\n    }\n</style>\n<table border=\"1\" class=\"dataframe\">\n  <thead>\n    <tr style=\"text-align: right;\">\n      <th></th>\n      <th>Date</th>\n      <th>CA</th>\n      <th>Alameda</th>\n      <th>Amador</th>\n      <th>Butte</th>\n      <th>Calaveras</th>\n      <th>Contra-Costa</th>\n      <th>Del Norte</th>\n      <th>El Dorado</th>\n      <th>Fresno</th>\n      <th>...</th>\n      <th>Ventura</th>\n      <th>Yolo</th>\n      <th>Yuba</th>\n      <th>Unnamed: 53</th>\n      <th>Los Angeles Metropolitan Area</th>\n      <th>S.F. Bay Area</th>\n      <th>Inland Empire</th>\n      <th>Unnamed: 57</th>\n      <th>Unnamed: 58</th>\n      <th>Unnamed: 59</th>\n    </tr>\n  </thead>\n  <tbody>\n    <tr>\n      <th>0</th>\n      <td>Jan-16</td>\n      <td>$467,160</td>\n      <td>$700,000</td>\n      <td>$215,500</td>\n      <td>$260,000</td>\n      <td>$258,750</td>\n      <td>$500,000</td>\n      <td>$157,000</td>\n      <td>$405,000</td>\n      <td>$216,000</td>\n      <td>...</td>\n      <td>$638,590</td>\n      <td>$345,000</td>\n      <td>$210,000</td>\n      <td>NaN</td>\n      <td>$434,000</td>\n      <td>$690,000</td>\n      <td>$291,920</td>\n      <td>NaN</td>\n      <td>NaN</td>\n      <td>NaN</td>\n    </tr>\n    <tr>\n      <th>1</th>\n      <td>Feb-16</td>\n      <td>$444,780</td>\n      <td>$715,000</td>\n      <td>$275,000</td>\n      <td>$264,960</td>\n      <td>$262,500</td>\n      <td>$529,000</td>\n      <td>$175,000</td>\n      <td>$422,000</td>\n      <td>$214,250</td>\n      <td>...</td>\n      <td>$610,820</td>\n      <td>$379,500</td>\n      <td>$225,000</td>\n      <td>NaN</td>\n      <td>$429,980</td>\n      <td>$698,950</td>\n      <td>$290,270</td>\n      <td>NaN</td>\n      <td>NaN</td>\n      <td>NaN</td>\n    </tr>\n    <tr>\n      <th>2</th>\n      <td>Mar-16</td>\n      <td>$484,120</td>\n      <td>$758,000</td>\n      <td>$307,000</td>\n      <td>$286,810</td>\n      <td>$270,000</td>\n      <td>$548,780</td>\n      <td>$199,000</td>\n      <td>$435,010</td>\n      <td>$231,000</td>\n      <td>...</td>\n      <td>$620,020</td>\n      <td>$362,500</td>\n      <td>$235,450</td>\n      <td>NaN</td>\n      <td>$448,420</td>\n      <td>$761,090</td>\n      <td>$309,890</td>\n      <td>NaN</td>\n      <td>NaN</td>\n      <td>NaN</td>\n    </tr>\n    <tr>\n      <th>3</th>\n      <td>Apr-16</td>\n      <td>$509,240</td>\n      <td>$800,000</td>\n      <td>$235,000</td>\n      <td>$272,750</td>\n      <td>$276,000</td>\n      <td>$565,000</td>\n      <td>$315,000</td>\n      <td>$432,000</td>\n      <td>$229,000</td>\n      <td>...</td>\n      <td>$630,100</td>\n      <td>$419,000</td>\n      <td>$240,000</td>\n      <td>NaN</td>\n      <td>$460,940</td>\n      <td>$831,180</td>\n      <td>$310,840</td>\n      <td>NaN</td>\n      <td>NaN</td>\n      <td>NaN</td>\n    </tr>\n    <tr>\n      <th>4</th>\n      <td>May-16</td>\n      <td>$519,930</td>\n      <td>$828,000</td>\n      <td>$268,500</td>\n      <td>$271,000</td>\n      <td>$287,500</td>\n      <td>$595,000</td>\n      <td>$189,500</td>\n      <td>$429,500</td>\n      <td>$232,000</td>\n      <td>...</td>\n      <td>$617,740</td>\n      <td>$398,000</td>\n      <td>$225,000</td>\n      <td>NaN</td>\n      <td>$469,090</td>\n      <td>$848,580</td>\n      <td>$315,980</td>\n      <td>NaN</td>\n      <td>NaN</td>\n      <td>NaN</td>\n    </tr>\n  </tbody>\n</table>\n<p>5 rows × 60 columns</p>\n</div>"
          },
          "metadata": {}
        }
      ],
      "execution_count": 3,
      "metadata": {
        "collapsed": true,
        "jupyter": {
          "source_hidden": false,
          "outputs_hidden": false
        },
        "nteract": {
          "transient": {
            "deleting": false
          }
        },
        "execution": {
          "iopub.status.busy": "2021-03-16T03:27:27.276Z",
          "iopub.execute_input": "2021-03-16T03:27:27.282Z",
          "iopub.status.idle": "2021-03-16T03:27:27.294Z",
          "shell.execute_reply": "2021-03-16T03:27:27.370Z"
        }
      }
    },
    {
      "cell_type": "code",
      "source": [
        "df.tail()"
      ],
      "outputs": [
        {
          "output_type": "execute_result",
          "execution_count": 4,
          "data": {
            "text/plain": "   Date   CA Alameda Amador Butte Calaveras Contra-Costa Del Norte El Dorado  \\\n74  NaN  NaN     NaN    NaN   NaN       NaN          NaN       NaN       NaN   \n75  NaN  NaN     NaN    NaN   NaN       NaN          NaN       NaN       NaN   \n76  NaN  NaN     NaN    NaN   NaN       NaN          NaN       NaN       NaN   \n77  NaN  NaN     NaN    NaN   NaN       NaN          NaN       NaN       NaN   \n78  NaN  NaN     NaN    NaN   NaN       NaN          NaN       NaN       NaN   \n\n   Fresno  ... Ventura Yolo Yuba Unnamed: 53 Los Angeles Metropolitan Area  \\\n74    NaN  ...     NaN  NaN  NaN         NaN                           NaN   \n75    NaN  ...     NaN  NaN  NaN         NaN                           NaN   \n76    NaN  ...     NaN  NaN  NaN         NaN                           NaN   \n77    NaN  ...     NaN  NaN  NaN         NaN                           NaN   \n78    NaN  ...     NaN  NaN  NaN         NaN                           NaN   \n\n   S.F. Bay Area Inland Empire Unnamed: 57 Unnamed: 58 Unnamed: 59  \n74           NaN           NaN         NaN         NaN         NaN  \n75           NaN           NaN         NaN         NaN         NaN  \n76           NaN           NaN         NaN         NaN         NaN  \n77           NaN           NaN         NaN         NaN         NaN  \n78           NaN           NaN         NaN         NaN         NaN  \n\n[5 rows x 60 columns]",
            "text/html": "<div>\n<style scoped>\n    .dataframe tbody tr th:only-of-type {\n        vertical-align: middle;\n    }\n\n    .dataframe tbody tr th {\n        vertical-align: top;\n    }\n\n    .dataframe thead th {\n        text-align: right;\n    }\n</style>\n<table border=\"1\" class=\"dataframe\">\n  <thead>\n    <tr style=\"text-align: right;\">\n      <th></th>\n      <th>Date</th>\n      <th>CA</th>\n      <th>Alameda</th>\n      <th>Amador</th>\n      <th>Butte</th>\n      <th>Calaveras</th>\n      <th>Contra-Costa</th>\n      <th>Del Norte</th>\n      <th>El Dorado</th>\n      <th>Fresno</th>\n      <th>...</th>\n      <th>Ventura</th>\n      <th>Yolo</th>\n      <th>Yuba</th>\n      <th>Unnamed: 53</th>\n      <th>Los Angeles Metropolitan Area</th>\n      <th>S.F. Bay Area</th>\n      <th>Inland Empire</th>\n      <th>Unnamed: 57</th>\n      <th>Unnamed: 58</th>\n      <th>Unnamed: 59</th>\n    </tr>\n  </thead>\n  <tbody>\n    <tr>\n      <th>74</th>\n      <td>NaN</td>\n      <td>NaN</td>\n      <td>NaN</td>\n      <td>NaN</td>\n      <td>NaN</td>\n      <td>NaN</td>\n      <td>NaN</td>\n      <td>NaN</td>\n      <td>NaN</td>\n      <td>NaN</td>\n      <td>...</td>\n      <td>NaN</td>\n      <td>NaN</td>\n      <td>NaN</td>\n      <td>NaN</td>\n      <td>NaN</td>\n      <td>NaN</td>\n      <td>NaN</td>\n      <td>NaN</td>\n      <td>NaN</td>\n      <td>NaN</td>\n    </tr>\n    <tr>\n      <th>75</th>\n      <td>NaN</td>\n      <td>NaN</td>\n      <td>NaN</td>\n      <td>NaN</td>\n      <td>NaN</td>\n      <td>NaN</td>\n      <td>NaN</td>\n      <td>NaN</td>\n      <td>NaN</td>\n      <td>NaN</td>\n      <td>...</td>\n      <td>NaN</td>\n      <td>NaN</td>\n      <td>NaN</td>\n      <td>NaN</td>\n      <td>NaN</td>\n      <td>NaN</td>\n      <td>NaN</td>\n      <td>NaN</td>\n      <td>NaN</td>\n      <td>NaN</td>\n    </tr>\n    <tr>\n      <th>76</th>\n      <td>NaN</td>\n      <td>NaN</td>\n      <td>NaN</td>\n      <td>NaN</td>\n      <td>NaN</td>\n      <td>NaN</td>\n      <td>NaN</td>\n      <td>NaN</td>\n      <td>NaN</td>\n      <td>NaN</td>\n      <td>...</td>\n      <td>NaN</td>\n      <td>NaN</td>\n      <td>NaN</td>\n      <td>NaN</td>\n      <td>NaN</td>\n      <td>NaN</td>\n      <td>NaN</td>\n      <td>NaN</td>\n      <td>NaN</td>\n      <td>NaN</td>\n    </tr>\n    <tr>\n      <th>77</th>\n      <td>NaN</td>\n      <td>NaN</td>\n      <td>NaN</td>\n      <td>NaN</td>\n      <td>NaN</td>\n      <td>NaN</td>\n      <td>NaN</td>\n      <td>NaN</td>\n      <td>NaN</td>\n      <td>NaN</td>\n      <td>...</td>\n      <td>NaN</td>\n      <td>NaN</td>\n      <td>NaN</td>\n      <td>NaN</td>\n      <td>NaN</td>\n      <td>NaN</td>\n      <td>NaN</td>\n      <td>NaN</td>\n      <td>NaN</td>\n      <td>NaN</td>\n    </tr>\n    <tr>\n      <th>78</th>\n      <td>NaN</td>\n      <td>NaN</td>\n      <td>NaN</td>\n      <td>NaN</td>\n      <td>NaN</td>\n      <td>NaN</td>\n      <td>NaN</td>\n      <td>NaN</td>\n      <td>NaN</td>\n      <td>NaN</td>\n      <td>...</td>\n      <td>NaN</td>\n      <td>NaN</td>\n      <td>NaN</td>\n      <td>NaN</td>\n      <td>NaN</td>\n      <td>NaN</td>\n      <td>NaN</td>\n      <td>NaN</td>\n      <td>NaN</td>\n      <td>NaN</td>\n    </tr>\n  </tbody>\n</table>\n<p>5 rows × 60 columns</p>\n</div>"
          },
          "metadata": {}
        }
      ],
      "execution_count": 4,
      "metadata": {
        "collapsed": true,
        "jupyter": {
          "source_hidden": false,
          "outputs_hidden": false
        },
        "nteract": {
          "transient": {
            "deleting": false
          }
        },
        "execution": {
          "iopub.status.busy": "2021-03-16T03:27:27.303Z",
          "iopub.execute_input": "2021-03-16T03:27:27.307Z",
          "iopub.status.idle": "2021-03-16T03:27:27.320Z",
          "shell.execute_reply": "2021-03-16T03:27:27.375Z"
        }
      }
    },
    {
      "cell_type": "code",
      "source": [
        "df.info()"
      ],
      "outputs": [
        {
          "output_type": "stream",
          "name": "stdout",
          "text": [
            "<class 'pandas.core.frame.DataFrame'>\n",
            "RangeIndex: 79 entries, 0 to 78\n",
            "Data columns (total 60 columns):\n",
            " #   Column                         Non-Null Count  Dtype  \n",
            "---  ------                         --------------  -----  \n",
            " 0   Date                           61 non-null     object \n",
            " 1   CA                             61 non-null     object \n",
            " 2   Alameda                        61 non-null     object \n",
            " 3   Amador                         61 non-null     object \n",
            " 4   Butte                          61 non-null     object \n",
            " 5   Calaveras                      61 non-null     object \n",
            " 6   Contra-Costa                   61 non-null     object \n",
            " 7   Del Norte                      61 non-null     object \n",
            " 8   El Dorado                      61 non-null     object \n",
            " 9   Fresno                         61 non-null     object \n",
            " 10  Glenn                          61 non-null     object \n",
            " 11  Humboldt                       61 non-null     object \n",
            " 12  Kern                           61 non-null     object \n",
            " 13  Kings                          61 non-null     object \n",
            " 14  Lake                           61 non-null     object \n",
            " 15  Lassen                         61 non-null     object \n",
            " 16  Los Angeles                    61 non-null     object \n",
            " 17  Madera                         61 non-null     object \n",
            " 18  Marin                          61 non-null     object \n",
            " 19  Mariposa                       61 non-null     object \n",
            " 20  Mendocino                      61 non-null     object \n",
            " 21  Merced                         61 non-null     object \n",
            " 22  Mono                           61 non-null     object \n",
            " 23  Monterey                       61 non-null     object \n",
            " 24  Napa                           61 non-null     object \n",
            " 25  Nevada                         61 non-null     object \n",
            " 26  Orange                         61 non-null     object \n",
            " 27  Placer                         61 non-null     object \n",
            " 28  Plumas                         61 non-null     object \n",
            " 29  Riverside                      61 non-null     object \n",
            " 30  Sacramento                     61 non-null     object \n",
            " 31  San Benito                     61 non-null     object \n",
            " 32  San Bernardino                 61 non-null     object \n",
            " 33  San Diego                      61 non-null     object \n",
            " 34  San Francisco                  61 non-null     object \n",
            " 35  San Joaquin                    61 non-null     object \n",
            " 36  San Luis Obispo                61 non-null     object \n",
            " 37  San Mateo                      61 non-null     object \n",
            " 38  Santa Barbara                  61 non-null     object \n",
            " 39  Santa Clara                    61 non-null     object \n",
            " 40  Santa Cruz                     61 non-null     object \n",
            " 41  Shasta                         61 non-null     object \n",
            " 42  Siskiyou                       61 non-null     object \n",
            " 43  Solano                         61 non-null     object \n",
            " 44  Sonoma                         61 non-null     object \n",
            " 45  Stanislaus                     61 non-null     object \n",
            " 46  Sutter                         61 non-null     object \n",
            " 47  Tehama                         61 non-null     object \n",
            " 48  Tulare                         61 non-null     object \n",
            " 49  Tuolumne                       61 non-null     object \n",
            " 50  Ventura                        61 non-null     object \n",
            " 51  Yolo                           61 non-null     object \n",
            " 52  Yuba                           61 non-null     object \n",
            " 53  Unnamed: 53                    0 non-null      float64\n",
            " 54  Los Angeles Metropolitan Area  61 non-null     object \n",
            " 55  S.F. Bay Area                  61 non-null     object \n",
            " 56  Inland Empire                  61 non-null     object \n",
            " 57  Unnamed: 57                    0 non-null      float64\n",
            " 58  Unnamed: 58                    0 non-null      float64\n",
            " 59  Unnamed: 59                    0 non-null      float64\n",
            "dtypes: float64(4), object(56)\n",
            "memory usage: 37.2+ KB\n"
          ]
        }
      ],
      "execution_count": 5,
      "metadata": {
        "collapsed": true,
        "jupyter": {
          "source_hidden": false,
          "outputs_hidden": false
        },
        "nteract": {
          "transient": {
            "deleting": false
          }
        },
        "execution": {
          "iopub.status.busy": "2021-03-16T03:27:27.328Z",
          "iopub.execute_input": "2021-03-16T03:27:27.333Z",
          "iopub.status.idle": "2021-03-16T03:27:27.390Z",
          "shell.execute_reply": "2021-03-16T03:27:27.379Z"
        }
      }
    },
    {
      "cell_type": "code",
      "source": [
        "df.iloc[60:79]"
      ],
      "outputs": [
        {
          "output_type": "execute_result",
          "execution_count": 6,
          "data": {
            "text/plain": "      Date        CA     Alameda    Amador     Butte Calaveras Contra-Costa  \\\n60  Jan-21  $699,890  $1,060,000  $386,360  $420,000  $398,500     $765,000   \n61     NaN       NaN         NaN       NaN       NaN       NaN          NaN   \n62     NaN       NaN         NaN       NaN       NaN       NaN          NaN   \n63     NaN       NaN         NaN       NaN       NaN       NaN          NaN   \n64     NaN       NaN         NaN       NaN       NaN       NaN          NaN   \n65     NaN       NaN         NaN       NaN       NaN       NaN          NaN   \n66     NaN       NaN         NaN       NaN       NaN       NaN          NaN   \n67     NaN       NaN         NaN       NaN       NaN       NaN          NaN   \n68     NaN       NaN         NaN       NaN       NaN       NaN          NaN   \n69     NaN       NaN         NaN       NaN       NaN       NaN          NaN   \n70     NaN       NaN         NaN       NaN       NaN       NaN          NaN   \n71     NaN       NaN         NaN       NaN       NaN       NaN          NaN   \n72     NaN       NaN         NaN       NaN       NaN       NaN          NaN   \n73     NaN       NaN         NaN       NaN       NaN       NaN          NaN   \n74     NaN       NaN         NaN       NaN       NaN       NaN          NaN   \n75     NaN       NaN         NaN       NaN       NaN       NaN          NaN   \n76     NaN       NaN         NaN       NaN       NaN       NaN          NaN   \n77     NaN       NaN         NaN       NaN       NaN       NaN          NaN   \n78     NaN       NaN         NaN       NaN       NaN       NaN          NaN   \n\n   Del Norte El Dorado    Fresno  ...   Ventura      Yolo      Yuba  \\\n60  $399,000  $604,510  $325,000  ...  $776,000  $490,320  $395,000   \n61       NaN       NaN       NaN  ...       NaN       NaN       NaN   \n62       NaN       NaN       NaN  ...       NaN       NaN       NaN   \n63       NaN       NaN       NaN  ...       NaN       NaN       NaN   \n64       NaN       NaN       NaN  ...       NaN       NaN       NaN   \n65       NaN       NaN       NaN  ...       NaN       NaN       NaN   \n66       NaN       NaN       NaN  ...       NaN       NaN       NaN   \n67       NaN       NaN       NaN  ...       NaN       NaN       NaN   \n68       NaN       NaN       NaN  ...       NaN       NaN       NaN   \n69       NaN       NaN       NaN  ...       NaN       NaN       NaN   \n70       NaN       NaN       NaN  ...       NaN       NaN       NaN   \n71       NaN       NaN       NaN  ...       NaN       NaN       NaN   \n72       NaN       NaN       NaN  ...       NaN       NaN       NaN   \n73       NaN       NaN       NaN  ...       NaN       NaN       NaN   \n74       NaN       NaN       NaN  ...       NaN       NaN       NaN   \n75       NaN       NaN       NaN  ...       NaN       NaN       NaN   \n76       NaN       NaN       NaN  ...       NaN       NaN       NaN   \n77       NaN       NaN       NaN  ...       NaN       NaN       NaN   \n78       NaN       NaN       NaN  ...       NaN       NaN       NaN   \n\n   Unnamed: 53 Los Angeles Metropolitan Area S.F. Bay Area Inland Empire  \\\n60         NaN                      $630,000    $1,025,000      $457,000   \n61         NaN                           NaN           NaN           NaN   \n62         NaN                           NaN           NaN           NaN   \n63         NaN                           NaN           NaN           NaN   \n64         NaN                           NaN           NaN           NaN   \n65         NaN                           NaN           NaN           NaN   \n66         NaN                           NaN           NaN           NaN   \n67         NaN                           NaN           NaN           NaN   \n68         NaN                           NaN           NaN           NaN   \n69         NaN                           NaN           NaN           NaN   \n70         NaN                           NaN           NaN           NaN   \n71         NaN                           NaN           NaN           NaN   \n72         NaN                           NaN           NaN           NaN   \n73         NaN                           NaN           NaN           NaN   \n74         NaN                           NaN           NaN           NaN   \n75         NaN                           NaN           NaN           NaN   \n76         NaN                           NaN           NaN           NaN   \n77         NaN                           NaN           NaN           NaN   \n78         NaN                           NaN           NaN           NaN   \n\n   Unnamed: 57 Unnamed: 58 Unnamed: 59  \n60         NaN         NaN         NaN  \n61         NaN         NaN         NaN  \n62         NaN         NaN         NaN  \n63         NaN         NaN         NaN  \n64         NaN         NaN         NaN  \n65         NaN         NaN         NaN  \n66         NaN         NaN         NaN  \n67         NaN         NaN         NaN  \n68         NaN         NaN         NaN  \n69         NaN         NaN         NaN  \n70         NaN         NaN         NaN  \n71         NaN         NaN         NaN  \n72         NaN         NaN         NaN  \n73         NaN         NaN         NaN  \n74         NaN         NaN         NaN  \n75         NaN         NaN         NaN  \n76         NaN         NaN         NaN  \n77         NaN         NaN         NaN  \n78         NaN         NaN         NaN  \n\n[19 rows x 60 columns]",
            "text/html": "<div>\n<style scoped>\n    .dataframe tbody tr th:only-of-type {\n        vertical-align: middle;\n    }\n\n    .dataframe tbody tr th {\n        vertical-align: top;\n    }\n\n    .dataframe thead th {\n        text-align: right;\n    }\n</style>\n<table border=\"1\" class=\"dataframe\">\n  <thead>\n    <tr style=\"text-align: right;\">\n      <th></th>\n      <th>Date</th>\n      <th>CA</th>\n      <th>Alameda</th>\n      <th>Amador</th>\n      <th>Butte</th>\n      <th>Calaveras</th>\n      <th>Contra-Costa</th>\n      <th>Del Norte</th>\n      <th>El Dorado</th>\n      <th>Fresno</th>\n      <th>...</th>\n      <th>Ventura</th>\n      <th>Yolo</th>\n      <th>Yuba</th>\n      <th>Unnamed: 53</th>\n      <th>Los Angeles Metropolitan Area</th>\n      <th>S.F. Bay Area</th>\n      <th>Inland Empire</th>\n      <th>Unnamed: 57</th>\n      <th>Unnamed: 58</th>\n      <th>Unnamed: 59</th>\n    </tr>\n  </thead>\n  <tbody>\n    <tr>\n      <th>60</th>\n      <td>Jan-21</td>\n      <td>$699,890</td>\n      <td>$1,060,000</td>\n      <td>$386,360</td>\n      <td>$420,000</td>\n      <td>$398,500</td>\n      <td>$765,000</td>\n      <td>$399,000</td>\n      <td>$604,510</td>\n      <td>$325,000</td>\n      <td>...</td>\n      <td>$776,000</td>\n      <td>$490,320</td>\n      <td>$395,000</td>\n      <td>NaN</td>\n      <td>$630,000</td>\n      <td>$1,025,000</td>\n      <td>$457,000</td>\n      <td>NaN</td>\n      <td>NaN</td>\n      <td>NaN</td>\n    </tr>\n    <tr>\n      <th>61</th>\n      <td>NaN</td>\n      <td>NaN</td>\n      <td>NaN</td>\n      <td>NaN</td>\n      <td>NaN</td>\n      <td>NaN</td>\n      <td>NaN</td>\n      <td>NaN</td>\n      <td>NaN</td>\n      <td>NaN</td>\n      <td>...</td>\n      <td>NaN</td>\n      <td>NaN</td>\n      <td>NaN</td>\n      <td>NaN</td>\n      <td>NaN</td>\n      <td>NaN</td>\n      <td>NaN</td>\n      <td>NaN</td>\n      <td>NaN</td>\n      <td>NaN</td>\n    </tr>\n    <tr>\n      <th>62</th>\n      <td>NaN</td>\n      <td>NaN</td>\n      <td>NaN</td>\n      <td>NaN</td>\n      <td>NaN</td>\n      <td>NaN</td>\n      <td>NaN</td>\n      <td>NaN</td>\n      <td>NaN</td>\n      <td>NaN</td>\n      <td>...</td>\n      <td>NaN</td>\n      <td>NaN</td>\n      <td>NaN</td>\n      <td>NaN</td>\n      <td>NaN</td>\n      <td>NaN</td>\n      <td>NaN</td>\n      <td>NaN</td>\n      <td>NaN</td>\n      <td>NaN</td>\n    </tr>\n    <tr>\n      <th>63</th>\n      <td>NaN</td>\n      <td>NaN</td>\n      <td>NaN</td>\n      <td>NaN</td>\n      <td>NaN</td>\n      <td>NaN</td>\n      <td>NaN</td>\n      <td>NaN</td>\n      <td>NaN</td>\n      <td>NaN</td>\n      <td>...</td>\n      <td>NaN</td>\n      <td>NaN</td>\n      <td>NaN</td>\n      <td>NaN</td>\n      <td>NaN</td>\n      <td>NaN</td>\n      <td>NaN</td>\n      <td>NaN</td>\n      <td>NaN</td>\n      <td>NaN</td>\n    </tr>\n    <tr>\n      <th>64</th>\n      <td>NaN</td>\n      <td>NaN</td>\n      <td>NaN</td>\n      <td>NaN</td>\n      <td>NaN</td>\n      <td>NaN</td>\n      <td>NaN</td>\n      <td>NaN</td>\n      <td>NaN</td>\n      <td>NaN</td>\n      <td>...</td>\n      <td>NaN</td>\n      <td>NaN</td>\n      <td>NaN</td>\n      <td>NaN</td>\n      <td>NaN</td>\n      <td>NaN</td>\n      <td>NaN</td>\n      <td>NaN</td>\n      <td>NaN</td>\n      <td>NaN</td>\n    </tr>\n    <tr>\n      <th>65</th>\n      <td>NaN</td>\n      <td>NaN</td>\n      <td>NaN</td>\n      <td>NaN</td>\n      <td>NaN</td>\n      <td>NaN</td>\n      <td>NaN</td>\n      <td>NaN</td>\n      <td>NaN</td>\n      <td>NaN</td>\n      <td>...</td>\n      <td>NaN</td>\n      <td>NaN</td>\n      <td>NaN</td>\n      <td>NaN</td>\n      <td>NaN</td>\n      <td>NaN</td>\n      <td>NaN</td>\n      <td>NaN</td>\n      <td>NaN</td>\n      <td>NaN</td>\n    </tr>\n    <tr>\n      <th>66</th>\n      <td>NaN</td>\n      <td>NaN</td>\n      <td>NaN</td>\n      <td>NaN</td>\n      <td>NaN</td>\n      <td>NaN</td>\n      <td>NaN</td>\n      <td>NaN</td>\n      <td>NaN</td>\n      <td>NaN</td>\n      <td>...</td>\n      <td>NaN</td>\n      <td>NaN</td>\n      <td>NaN</td>\n      <td>NaN</td>\n      <td>NaN</td>\n      <td>NaN</td>\n      <td>NaN</td>\n      <td>NaN</td>\n      <td>NaN</td>\n      <td>NaN</td>\n    </tr>\n    <tr>\n      <th>67</th>\n      <td>NaN</td>\n      <td>NaN</td>\n      <td>NaN</td>\n      <td>NaN</td>\n      <td>NaN</td>\n      <td>NaN</td>\n      <td>NaN</td>\n      <td>NaN</td>\n      <td>NaN</td>\n      <td>NaN</td>\n      <td>...</td>\n      <td>NaN</td>\n      <td>NaN</td>\n      <td>NaN</td>\n      <td>NaN</td>\n      <td>NaN</td>\n      <td>NaN</td>\n      <td>NaN</td>\n      <td>NaN</td>\n      <td>NaN</td>\n      <td>NaN</td>\n    </tr>\n    <tr>\n      <th>68</th>\n      <td>NaN</td>\n      <td>NaN</td>\n      <td>NaN</td>\n      <td>NaN</td>\n      <td>NaN</td>\n      <td>NaN</td>\n      <td>NaN</td>\n      <td>NaN</td>\n      <td>NaN</td>\n      <td>NaN</td>\n      <td>...</td>\n      <td>NaN</td>\n      <td>NaN</td>\n      <td>NaN</td>\n      <td>NaN</td>\n      <td>NaN</td>\n      <td>NaN</td>\n      <td>NaN</td>\n      <td>NaN</td>\n      <td>NaN</td>\n      <td>NaN</td>\n    </tr>\n    <tr>\n      <th>69</th>\n      <td>NaN</td>\n      <td>NaN</td>\n      <td>NaN</td>\n      <td>NaN</td>\n      <td>NaN</td>\n      <td>NaN</td>\n      <td>NaN</td>\n      <td>NaN</td>\n      <td>NaN</td>\n      <td>NaN</td>\n      <td>...</td>\n      <td>NaN</td>\n      <td>NaN</td>\n      <td>NaN</td>\n      <td>NaN</td>\n      <td>NaN</td>\n      <td>NaN</td>\n      <td>NaN</td>\n      <td>NaN</td>\n      <td>NaN</td>\n      <td>NaN</td>\n    </tr>\n    <tr>\n      <th>70</th>\n      <td>NaN</td>\n      <td>NaN</td>\n      <td>NaN</td>\n      <td>NaN</td>\n      <td>NaN</td>\n      <td>NaN</td>\n      <td>NaN</td>\n      <td>NaN</td>\n      <td>NaN</td>\n      <td>NaN</td>\n      <td>...</td>\n      <td>NaN</td>\n      <td>NaN</td>\n      <td>NaN</td>\n      <td>NaN</td>\n      <td>NaN</td>\n      <td>NaN</td>\n      <td>NaN</td>\n      <td>NaN</td>\n      <td>NaN</td>\n      <td>NaN</td>\n    </tr>\n    <tr>\n      <th>71</th>\n      <td>NaN</td>\n      <td>NaN</td>\n      <td>NaN</td>\n      <td>NaN</td>\n      <td>NaN</td>\n      <td>NaN</td>\n      <td>NaN</td>\n      <td>NaN</td>\n      <td>NaN</td>\n      <td>NaN</td>\n      <td>...</td>\n      <td>NaN</td>\n      <td>NaN</td>\n      <td>NaN</td>\n      <td>NaN</td>\n      <td>NaN</td>\n      <td>NaN</td>\n      <td>NaN</td>\n      <td>NaN</td>\n      <td>NaN</td>\n      <td>NaN</td>\n    </tr>\n    <tr>\n      <th>72</th>\n      <td>NaN</td>\n      <td>NaN</td>\n      <td>NaN</td>\n      <td>NaN</td>\n      <td>NaN</td>\n      <td>NaN</td>\n      <td>NaN</td>\n      <td>NaN</td>\n      <td>NaN</td>\n      <td>NaN</td>\n      <td>...</td>\n      <td>NaN</td>\n      <td>NaN</td>\n      <td>NaN</td>\n      <td>NaN</td>\n      <td>NaN</td>\n      <td>NaN</td>\n      <td>NaN</td>\n      <td>NaN</td>\n      <td>NaN</td>\n      <td>NaN</td>\n    </tr>\n    <tr>\n      <th>73</th>\n      <td>NaN</td>\n      <td>NaN</td>\n      <td>NaN</td>\n      <td>NaN</td>\n      <td>NaN</td>\n      <td>NaN</td>\n      <td>NaN</td>\n      <td>NaN</td>\n      <td>NaN</td>\n      <td>NaN</td>\n      <td>...</td>\n      <td>NaN</td>\n      <td>NaN</td>\n      <td>NaN</td>\n      <td>NaN</td>\n      <td>NaN</td>\n      <td>NaN</td>\n      <td>NaN</td>\n      <td>NaN</td>\n      <td>NaN</td>\n      <td>NaN</td>\n    </tr>\n    <tr>\n      <th>74</th>\n      <td>NaN</td>\n      <td>NaN</td>\n      <td>NaN</td>\n      <td>NaN</td>\n      <td>NaN</td>\n      <td>NaN</td>\n      <td>NaN</td>\n      <td>NaN</td>\n      <td>NaN</td>\n      <td>NaN</td>\n      <td>...</td>\n      <td>NaN</td>\n      <td>NaN</td>\n      <td>NaN</td>\n      <td>NaN</td>\n      <td>NaN</td>\n      <td>NaN</td>\n      <td>NaN</td>\n      <td>NaN</td>\n      <td>NaN</td>\n      <td>NaN</td>\n    </tr>\n    <tr>\n      <th>75</th>\n      <td>NaN</td>\n      <td>NaN</td>\n      <td>NaN</td>\n      <td>NaN</td>\n      <td>NaN</td>\n      <td>NaN</td>\n      <td>NaN</td>\n      <td>NaN</td>\n      <td>NaN</td>\n      <td>NaN</td>\n      <td>...</td>\n      <td>NaN</td>\n      <td>NaN</td>\n      <td>NaN</td>\n      <td>NaN</td>\n      <td>NaN</td>\n      <td>NaN</td>\n      <td>NaN</td>\n      <td>NaN</td>\n      <td>NaN</td>\n      <td>NaN</td>\n    </tr>\n    <tr>\n      <th>76</th>\n      <td>NaN</td>\n      <td>NaN</td>\n      <td>NaN</td>\n      <td>NaN</td>\n      <td>NaN</td>\n      <td>NaN</td>\n      <td>NaN</td>\n      <td>NaN</td>\n      <td>NaN</td>\n      <td>NaN</td>\n      <td>...</td>\n      <td>NaN</td>\n      <td>NaN</td>\n      <td>NaN</td>\n      <td>NaN</td>\n      <td>NaN</td>\n      <td>NaN</td>\n      <td>NaN</td>\n      <td>NaN</td>\n      <td>NaN</td>\n      <td>NaN</td>\n    </tr>\n    <tr>\n      <th>77</th>\n      <td>NaN</td>\n      <td>NaN</td>\n      <td>NaN</td>\n      <td>NaN</td>\n      <td>NaN</td>\n      <td>NaN</td>\n      <td>NaN</td>\n      <td>NaN</td>\n      <td>NaN</td>\n      <td>NaN</td>\n      <td>...</td>\n      <td>NaN</td>\n      <td>NaN</td>\n      <td>NaN</td>\n      <td>NaN</td>\n      <td>NaN</td>\n      <td>NaN</td>\n      <td>NaN</td>\n      <td>NaN</td>\n      <td>NaN</td>\n      <td>NaN</td>\n    </tr>\n    <tr>\n      <th>78</th>\n      <td>NaN</td>\n      <td>NaN</td>\n      <td>NaN</td>\n      <td>NaN</td>\n      <td>NaN</td>\n      <td>NaN</td>\n      <td>NaN</td>\n      <td>NaN</td>\n      <td>NaN</td>\n      <td>NaN</td>\n      <td>...</td>\n      <td>NaN</td>\n      <td>NaN</td>\n      <td>NaN</td>\n      <td>NaN</td>\n      <td>NaN</td>\n      <td>NaN</td>\n      <td>NaN</td>\n      <td>NaN</td>\n      <td>NaN</td>\n      <td>NaN</td>\n    </tr>\n  </tbody>\n</table>\n<p>19 rows × 60 columns</p>\n</div>"
          },
          "metadata": {}
        }
      ],
      "execution_count": 6,
      "metadata": {
        "collapsed": true,
        "jupyter": {
          "source_hidden": false,
          "outputs_hidden": false
        },
        "nteract": {
          "transient": {
            "deleting": false
          }
        },
        "execution": {
          "iopub.status.busy": "2021-03-16T03:27:27.399Z",
          "iopub.execute_input": "2021-03-16T03:27:27.404Z",
          "iopub.status.idle": "2021-03-16T03:27:27.416Z",
          "shell.execute_reply": "2021-03-16T03:27:27.383Z"
        }
      }
    },
    {
      "cell_type": "code",
      "source": [
        "# drop rows\n",
        "df.drop(df.iloc[61:79].index, inplace=True)"
      ],
      "outputs": [],
      "execution_count": 7,
      "metadata": {
        "collapsed": true,
        "jupyter": {
          "source_hidden": false,
          "outputs_hidden": false
        },
        "nteract": {
          "transient": {
            "deleting": false
          }
        },
        "execution": {
          "iopub.status.busy": "2021-03-16T03:27:27.426Z",
          "iopub.execute_input": "2021-03-16T03:27:27.431Z",
          "iopub.status.idle": "2021-03-16T03:27:27.440Z",
          "shell.execute_reply": "2021-03-16T03:27:27.541Z"
        }
      }
    },
    {
      "cell_type": "code",
      "source": [
        "\n",
        "# drop columns\n",
        "df= df.dropna(axis='columns')"
      ],
      "outputs": [],
      "execution_count": 8,
      "metadata": {
        "collapsed": true,
        "jupyter": {
          "source_hidden": false,
          "outputs_hidden": false
        },
        "nteract": {
          "transient": {
            "deleting": false
          }
        },
        "execution": {
          "iopub.status.busy": "2021-03-16T03:27:27.449Z",
          "iopub.execute_input": "2021-03-16T03:27:27.454Z",
          "shell.execute_reply": "2021-03-16T03:27:27.546Z",
          "iopub.status.idle": "2021-03-16T03:27:27.462Z"
        }
      }
    },
    {
      "cell_type": "code",
      "source": [
        "df"
      ],
      "outputs": [
        {
          "output_type": "execute_result",
          "execution_count": 9,
          "data": {
            "text/plain": "      Date        CA     Alameda    Amador     Butte Calaveras Contra-Costa  \\\n0   Jan-16  $467,160    $700,000  $215,500  $260,000  $258,750     $500,000   \n1   Feb-16  $444,780    $715,000  $275,000  $264,960  $262,500     $529,000   \n2   Mar-16  $484,120    $758,000  $307,000  $286,810  $270,000     $548,780   \n3   Apr-16  $509,240    $800,000  $235,000  $272,750  $276,000     $565,000   \n4   May-16  $519,930    $828,000  $268,500  $271,000  $287,500     $595,000   \n..     ...       ...         ...       ...       ...       ...          ...   \n56  Sep-20  $712,430  $1,050,000  $359,900  $403,300  $392,000     $783,000   \n57  Oct-20  $711,300  $1,049,000  $366,500  $401,500  $393,640     $787,250   \n58  Nov-20  $698,980  $1,049,040  $360,000  $405,000  $407,120     $810,000   \n59  Dec-20  $717,930  $1,060,000  $355,000  $408,460  $397,500     $763,000   \n60  Jan-21  $699,890  $1,060,000  $386,360  $420,000  $398,500     $765,000   \n\n   Del Norte El Dorado    Fresno  ...    Sutter    Tehama    Tulare  Tuolumne  \\\n0   $157,000  $405,000  $216,000  ...  $213,700  $190,000  $195,000  $210,000   \n1   $175,000  $422,000  $214,250  ...  $230,000  $170,750  $190,000  $256,500   \n2   $199,000  $435,010  $231,000  ...  $232,000  $189,500  $198,000  $244,900   \n3   $315,000  $432,000  $229,000  ...  $232,000  $184,000  $207,250  $253,750   \n4   $189,500  $429,500  $232,000  ...  $235,000  $170,000  $205,000  $242,500   \n..       ...       ...       ...  ...       ...       ...       ...       ...   \n56  $308,000  $588,000  $325,000  ...  $351,000  $285,000  $275,000  $325,000   \n57  $325,000  $559,000  $331,500  ...  $346,050  $283,500  $283,000  $349,500   \n58  $308,750  $585,000  $323,500  ...  $370,000  $371,000  $280,000  $337,500   \n59  $346,000  $538,350  $325,500  ...  $369,900  $273,250  $295,000  $330,000   \n60  $399,000  $604,510  $325,000  ...  $350,000  $250,000  $306,920  $350,500   \n\n     Ventura      Yolo      Yuba Los Angeles Metropolitan Area S.F. Bay Area  \\\n0   $638,590  $345,000  $210,000                      $434,000      $690,000   \n1   $610,820  $379,500  $225,000                      $429,980      $698,950   \n2   $620,020  $362,500  $235,450                      $448,420      $761,090   \n3   $630,100  $419,000  $240,000                      $460,940      $831,180   \n4   $617,740  $398,000  $225,000                      $469,090      $848,580   \n..       ...       ...       ...                           ...           ...   \n56  $787,500  $530,000  $342,000                      $630,000    $1,060,000   \n57  $750,000  $517,250  $350,000                      $632,710    $1,100,000   \n58  $760,000  $511,000  $352,500                      $630,000    $1,100,000   \n59  $740,000  $515,000  $360,000                      $625,250    $1,058,000   \n60  $776,000  $490,320  $395,000                      $630,000    $1,025,000   \n\n   Inland Empire  \n0       $291,920  \n1       $290,270  \n2       $309,890  \n3       $310,840  \n4       $315,980  \n..           ...  \n56      $445,000  \n57      $445,000  \n58      $450,000  \n59      $450,000  \n60      $457,000  \n\n[61 rows x 56 columns]",
            "text/html": "<div>\n<style scoped>\n    .dataframe tbody tr th:only-of-type {\n        vertical-align: middle;\n    }\n\n    .dataframe tbody tr th {\n        vertical-align: top;\n    }\n\n    .dataframe thead th {\n        text-align: right;\n    }\n</style>\n<table border=\"1\" class=\"dataframe\">\n  <thead>\n    <tr style=\"text-align: right;\">\n      <th></th>\n      <th>Date</th>\n      <th>CA</th>\n      <th>Alameda</th>\n      <th>Amador</th>\n      <th>Butte</th>\n      <th>Calaveras</th>\n      <th>Contra-Costa</th>\n      <th>Del Norte</th>\n      <th>El Dorado</th>\n      <th>Fresno</th>\n      <th>...</th>\n      <th>Sutter</th>\n      <th>Tehama</th>\n      <th>Tulare</th>\n      <th>Tuolumne</th>\n      <th>Ventura</th>\n      <th>Yolo</th>\n      <th>Yuba</th>\n      <th>Los Angeles Metropolitan Area</th>\n      <th>S.F. Bay Area</th>\n      <th>Inland Empire</th>\n    </tr>\n  </thead>\n  <tbody>\n    <tr>\n      <th>0</th>\n      <td>Jan-16</td>\n      <td>$467,160</td>\n      <td>$700,000</td>\n      <td>$215,500</td>\n      <td>$260,000</td>\n      <td>$258,750</td>\n      <td>$500,000</td>\n      <td>$157,000</td>\n      <td>$405,000</td>\n      <td>$216,000</td>\n      <td>...</td>\n      <td>$213,700</td>\n      <td>$190,000</td>\n      <td>$195,000</td>\n      <td>$210,000</td>\n      <td>$638,590</td>\n      <td>$345,000</td>\n      <td>$210,000</td>\n      <td>$434,000</td>\n      <td>$690,000</td>\n      <td>$291,920</td>\n    </tr>\n    <tr>\n      <th>1</th>\n      <td>Feb-16</td>\n      <td>$444,780</td>\n      <td>$715,000</td>\n      <td>$275,000</td>\n      <td>$264,960</td>\n      <td>$262,500</td>\n      <td>$529,000</td>\n      <td>$175,000</td>\n      <td>$422,000</td>\n      <td>$214,250</td>\n      <td>...</td>\n      <td>$230,000</td>\n      <td>$170,750</td>\n      <td>$190,000</td>\n      <td>$256,500</td>\n      <td>$610,820</td>\n      <td>$379,500</td>\n      <td>$225,000</td>\n      <td>$429,980</td>\n      <td>$698,950</td>\n      <td>$290,270</td>\n    </tr>\n    <tr>\n      <th>2</th>\n      <td>Mar-16</td>\n      <td>$484,120</td>\n      <td>$758,000</td>\n      <td>$307,000</td>\n      <td>$286,810</td>\n      <td>$270,000</td>\n      <td>$548,780</td>\n      <td>$199,000</td>\n      <td>$435,010</td>\n      <td>$231,000</td>\n      <td>...</td>\n      <td>$232,000</td>\n      <td>$189,500</td>\n      <td>$198,000</td>\n      <td>$244,900</td>\n      <td>$620,020</td>\n      <td>$362,500</td>\n      <td>$235,450</td>\n      <td>$448,420</td>\n      <td>$761,090</td>\n      <td>$309,890</td>\n    </tr>\n    <tr>\n      <th>3</th>\n      <td>Apr-16</td>\n      <td>$509,240</td>\n      <td>$800,000</td>\n      <td>$235,000</td>\n      <td>$272,750</td>\n      <td>$276,000</td>\n      <td>$565,000</td>\n      <td>$315,000</td>\n      <td>$432,000</td>\n      <td>$229,000</td>\n      <td>...</td>\n      <td>$232,000</td>\n      <td>$184,000</td>\n      <td>$207,250</td>\n      <td>$253,750</td>\n      <td>$630,100</td>\n      <td>$419,000</td>\n      <td>$240,000</td>\n      <td>$460,940</td>\n      <td>$831,180</td>\n      <td>$310,840</td>\n    </tr>\n    <tr>\n      <th>4</th>\n      <td>May-16</td>\n      <td>$519,930</td>\n      <td>$828,000</td>\n      <td>$268,500</td>\n      <td>$271,000</td>\n      <td>$287,500</td>\n      <td>$595,000</td>\n      <td>$189,500</td>\n      <td>$429,500</td>\n      <td>$232,000</td>\n      <td>...</td>\n      <td>$235,000</td>\n      <td>$170,000</td>\n      <td>$205,000</td>\n      <td>$242,500</td>\n      <td>$617,740</td>\n      <td>$398,000</td>\n      <td>$225,000</td>\n      <td>$469,090</td>\n      <td>$848,580</td>\n      <td>$315,980</td>\n    </tr>\n    <tr>\n      <th>...</th>\n      <td>...</td>\n      <td>...</td>\n      <td>...</td>\n      <td>...</td>\n      <td>...</td>\n      <td>...</td>\n      <td>...</td>\n      <td>...</td>\n      <td>...</td>\n      <td>...</td>\n      <td>...</td>\n      <td>...</td>\n      <td>...</td>\n      <td>...</td>\n      <td>...</td>\n      <td>...</td>\n      <td>...</td>\n      <td>...</td>\n      <td>...</td>\n      <td>...</td>\n      <td>...</td>\n    </tr>\n    <tr>\n      <th>56</th>\n      <td>Sep-20</td>\n      <td>$712,430</td>\n      <td>$1,050,000</td>\n      <td>$359,900</td>\n      <td>$403,300</td>\n      <td>$392,000</td>\n      <td>$783,000</td>\n      <td>$308,000</td>\n      <td>$588,000</td>\n      <td>$325,000</td>\n      <td>...</td>\n      <td>$351,000</td>\n      <td>$285,000</td>\n      <td>$275,000</td>\n      <td>$325,000</td>\n      <td>$787,500</td>\n      <td>$530,000</td>\n      <td>$342,000</td>\n      <td>$630,000</td>\n      <td>$1,060,000</td>\n      <td>$445,000</td>\n    </tr>\n    <tr>\n      <th>57</th>\n      <td>Oct-20</td>\n      <td>$711,300</td>\n      <td>$1,049,000</td>\n      <td>$366,500</td>\n      <td>$401,500</td>\n      <td>$393,640</td>\n      <td>$787,250</td>\n      <td>$325,000</td>\n      <td>$559,000</td>\n      <td>$331,500</td>\n      <td>...</td>\n      <td>$346,050</td>\n      <td>$283,500</td>\n      <td>$283,000</td>\n      <td>$349,500</td>\n      <td>$750,000</td>\n      <td>$517,250</td>\n      <td>$350,000</td>\n      <td>$632,710</td>\n      <td>$1,100,000</td>\n      <td>$445,000</td>\n    </tr>\n    <tr>\n      <th>58</th>\n      <td>Nov-20</td>\n      <td>$698,980</td>\n      <td>$1,049,040</td>\n      <td>$360,000</td>\n      <td>$405,000</td>\n      <td>$407,120</td>\n      <td>$810,000</td>\n      <td>$308,750</td>\n      <td>$585,000</td>\n      <td>$323,500</td>\n      <td>...</td>\n      <td>$370,000</td>\n      <td>$371,000</td>\n      <td>$280,000</td>\n      <td>$337,500</td>\n      <td>$760,000</td>\n      <td>$511,000</td>\n      <td>$352,500</td>\n      <td>$630,000</td>\n      <td>$1,100,000</td>\n      <td>$450,000</td>\n    </tr>\n    <tr>\n      <th>59</th>\n      <td>Dec-20</td>\n      <td>$717,930</td>\n      <td>$1,060,000</td>\n      <td>$355,000</td>\n      <td>$408,460</td>\n      <td>$397,500</td>\n      <td>$763,000</td>\n      <td>$346,000</td>\n      <td>$538,350</td>\n      <td>$325,500</td>\n      <td>...</td>\n      <td>$369,900</td>\n      <td>$273,250</td>\n      <td>$295,000</td>\n      <td>$330,000</td>\n      <td>$740,000</td>\n      <td>$515,000</td>\n      <td>$360,000</td>\n      <td>$625,250</td>\n      <td>$1,058,000</td>\n      <td>$450,000</td>\n    </tr>\n    <tr>\n      <th>60</th>\n      <td>Jan-21</td>\n      <td>$699,890</td>\n      <td>$1,060,000</td>\n      <td>$386,360</td>\n      <td>$420,000</td>\n      <td>$398,500</td>\n      <td>$765,000</td>\n      <td>$399,000</td>\n      <td>$604,510</td>\n      <td>$325,000</td>\n      <td>...</td>\n      <td>$350,000</td>\n      <td>$250,000</td>\n      <td>$306,920</td>\n      <td>$350,500</td>\n      <td>$776,000</td>\n      <td>$490,320</td>\n      <td>$395,000</td>\n      <td>$630,000</td>\n      <td>$1,025,000</td>\n      <td>$457,000</td>\n    </tr>\n  </tbody>\n</table>\n<p>61 rows × 56 columns</p>\n</div>"
          },
          "metadata": {}
        }
      ],
      "execution_count": 9,
      "metadata": {
        "collapsed": true,
        "jupyter": {
          "source_hidden": false,
          "outputs_hidden": false
        },
        "nteract": {
          "transient": {
            "deleting": false
          }
        },
        "execution": {
          "iopub.status.busy": "2021-03-16T03:27:27.469Z",
          "iopub.execute_input": "2021-03-16T03:27:27.474Z",
          "shell.execute_reply": "2021-03-16T03:27:27.559Z",
          "iopub.status.idle": "2021-03-16T03:27:27.487Z"
        }
      }
    },
    {
      "cell_type": "code",
      "source": [
        "df.describe(include='all')"
      ],
      "outputs": [
        {
          "output_type": "execute_result",
          "execution_count": 10,
          "data": {
            "text/plain": "          Date        CA   Alameda    Amador     Butte Calaveras Contra-Costa  \\\ncount       61        61        61        61        61        61           61   \nunique      61        60        48        47        57        48           56   \ntop     May-17  $555,410  $900,000  $335,000  $315,000  $340,000     $650,000   \nfreq         1         2         4         5         4         5            2   \n\n       Del Norte El Dorado    Fresno  ...    Sutter    Tehama    Tulare  \\\ncount         61        61        61  ...        61        61        61   \nunique        57        51        52  ...        52        51        51   \ntop     $214,000  $465,000  $280,000  ...  $270,000  $210,000  $240,000   \nfreq           2         3         3  ...         2         3         3   \n\n        Tuolumne   Ventura      Yolo      Yuba Los Angeles Metropolitan Area  \\\ncount         61        61        61        61                            61   \nunique        48        49        57        53                            48   \ntop     $300,000  $640,000  $450,000  $298,000                      $550,000   \nfreq           4         4         3         3                             5   \n\n       S.F. Bay Area Inland Empire  \ncount             61            61  \nunique            54            49  \ntop         $980,000      $380,000  \nfreq               3             3  \n\n[4 rows x 56 columns]",
            "text/html": "<div>\n<style scoped>\n    .dataframe tbody tr th:only-of-type {\n        vertical-align: middle;\n    }\n\n    .dataframe tbody tr th {\n        vertical-align: top;\n    }\n\n    .dataframe thead th {\n        text-align: right;\n    }\n</style>\n<table border=\"1\" class=\"dataframe\">\n  <thead>\n    <tr style=\"text-align: right;\">\n      <th></th>\n      <th>Date</th>\n      <th>CA</th>\n      <th>Alameda</th>\n      <th>Amador</th>\n      <th>Butte</th>\n      <th>Calaveras</th>\n      <th>Contra-Costa</th>\n      <th>Del Norte</th>\n      <th>El Dorado</th>\n      <th>Fresno</th>\n      <th>...</th>\n      <th>Sutter</th>\n      <th>Tehama</th>\n      <th>Tulare</th>\n      <th>Tuolumne</th>\n      <th>Ventura</th>\n      <th>Yolo</th>\n      <th>Yuba</th>\n      <th>Los Angeles Metropolitan Area</th>\n      <th>S.F. Bay Area</th>\n      <th>Inland Empire</th>\n    </tr>\n  </thead>\n  <tbody>\n    <tr>\n      <th>count</th>\n      <td>61</td>\n      <td>61</td>\n      <td>61</td>\n      <td>61</td>\n      <td>61</td>\n      <td>61</td>\n      <td>61</td>\n      <td>61</td>\n      <td>61</td>\n      <td>61</td>\n      <td>...</td>\n      <td>61</td>\n      <td>61</td>\n      <td>61</td>\n      <td>61</td>\n      <td>61</td>\n      <td>61</td>\n      <td>61</td>\n      <td>61</td>\n      <td>61</td>\n      <td>61</td>\n    </tr>\n    <tr>\n      <th>unique</th>\n      <td>61</td>\n      <td>60</td>\n      <td>48</td>\n      <td>47</td>\n      <td>57</td>\n      <td>48</td>\n      <td>56</td>\n      <td>57</td>\n      <td>51</td>\n      <td>52</td>\n      <td>...</td>\n      <td>52</td>\n      <td>51</td>\n      <td>51</td>\n      <td>48</td>\n      <td>49</td>\n      <td>57</td>\n      <td>53</td>\n      <td>48</td>\n      <td>54</td>\n      <td>49</td>\n    </tr>\n    <tr>\n      <th>top</th>\n      <td>May-17</td>\n      <td>$555,410</td>\n      <td>$900,000</td>\n      <td>$335,000</td>\n      <td>$315,000</td>\n      <td>$340,000</td>\n      <td>$650,000</td>\n      <td>$214,000</td>\n      <td>$465,000</td>\n      <td>$280,000</td>\n      <td>...</td>\n      <td>$270,000</td>\n      <td>$210,000</td>\n      <td>$240,000</td>\n      <td>$300,000</td>\n      <td>$640,000</td>\n      <td>$450,000</td>\n      <td>$298,000</td>\n      <td>$550,000</td>\n      <td>$980,000</td>\n      <td>$380,000</td>\n    </tr>\n    <tr>\n      <th>freq</th>\n      <td>1</td>\n      <td>2</td>\n      <td>4</td>\n      <td>5</td>\n      <td>4</td>\n      <td>5</td>\n      <td>2</td>\n      <td>2</td>\n      <td>3</td>\n      <td>3</td>\n      <td>...</td>\n      <td>2</td>\n      <td>3</td>\n      <td>3</td>\n      <td>4</td>\n      <td>4</td>\n      <td>3</td>\n      <td>3</td>\n      <td>5</td>\n      <td>3</td>\n      <td>3</td>\n    </tr>\n  </tbody>\n</table>\n<p>4 rows × 56 columns</p>\n</div>"
          },
          "metadata": {}
        }
      ],
      "execution_count": 10,
      "metadata": {
        "collapsed": true,
        "jupyter": {
          "source_hidden": false,
          "outputs_hidden": false
        },
        "nteract": {
          "transient": {
            "deleting": false
          }
        },
        "execution": {
          "iopub.status.busy": "2021-03-16T03:27:27.494Z",
          "iopub.execute_input": "2021-03-16T03:27:27.499Z",
          "iopub.status.idle": "2021-03-16T03:27:27.582Z",
          "shell.execute_reply": "2021-03-16T03:27:27.564Z"
        }
      }
    },
    {
      "cell_type": "code",
      "source": [
        "df = df.set_index('Date')"
      ],
      "outputs": [],
      "execution_count": 11,
      "metadata": {
        "collapsed": true,
        "jupyter": {
          "source_hidden": false,
          "outputs_hidden": false
        },
        "nteract": {
          "transient": {
            "deleting": false
          }
        },
        "execution": {
          "iopub.status.busy": "2021-03-16T03:27:27.590Z",
          "iopub.execute_input": "2021-03-16T03:27:27.595Z",
          "iopub.status.idle": "2021-03-16T03:27:27.601Z",
          "shell.execute_reply": "2021-03-16T03:27:27.567Z"
        }
      }
    },
    {
      "cell_type": "code",
      "source": [
        "df"
      ],
      "outputs": [
        {
          "output_type": "execute_result",
          "execution_count": 12,
          "data": {
            "text/plain": "              CA     Alameda    Amador     Butte Calaveras Contra-Costa  \\\nDate                                                                      \nJan-16  $467,160    $700,000  $215,500  $260,000  $258,750     $500,000   \nFeb-16  $444,780    $715,000  $275,000  $264,960  $262,500     $529,000   \nMar-16  $484,120    $758,000  $307,000  $286,810  $270,000     $548,780   \nApr-16  $509,240    $800,000  $235,000  $272,750  $276,000     $565,000   \nMay-16  $519,930    $828,000  $268,500  $271,000  $287,500     $595,000   \n...          ...         ...       ...       ...       ...          ...   \nSep-20  $712,430  $1,050,000  $359,900  $403,300  $392,000     $783,000   \nOct-20  $711,300  $1,049,000  $366,500  $401,500  $393,640     $787,250   \nNov-20  $698,980  $1,049,040  $360,000  $405,000  $407,120     $810,000   \nDec-20  $717,930  $1,060,000  $355,000  $408,460  $397,500     $763,000   \nJan-21  $699,890  $1,060,000  $386,360  $420,000  $398,500     $765,000   \n\n       Del Norte El Dorado    Fresno     Glenn  ...    Sutter    Tehama  \\\nDate                                            ...                       \nJan-16  $157,000  $405,000  $216,000  $159,975  ...  $213,700  $190,000   \nFeb-16  $175,000  $422,000  $214,250  $197,500  ...  $230,000  $170,750   \nMar-16  $199,000  $435,010  $231,000  $196,000  ...  $232,000  $189,500   \nApr-16  $315,000  $432,000  $229,000  $225,000  ...  $232,000  $184,000   \nMay-16  $189,500  $429,500  $232,000  $175,000  ...  $235,000  $170,000   \n...          ...       ...       ...       ...  ...       ...       ...   \nSep-20  $308,000  $588,000  $325,000  $347,520  ...  $351,000  $285,000   \nOct-20  $325,000  $559,000  $331,500  $287,500  ...  $346,050  $283,500   \nNov-20  $308,750  $585,000  $323,500  $334,750  ...  $370,000  $371,000   \nDec-20  $346,000  $538,350  $325,500  $297,500  ...  $369,900  $273,250   \nJan-21  $399,000  $604,510  $325,000  $247,500  ...  $350,000  $250,000   \n\n          Tulare  Tuolumne   Ventura      Yolo      Yuba  \\\nDate                                                       \nJan-16  $195,000  $210,000  $638,590  $345,000  $210,000   \nFeb-16  $190,000  $256,500  $610,820  $379,500  $225,000   \nMar-16  $198,000  $244,900  $620,020  $362,500  $235,450   \nApr-16  $207,250  $253,750  $630,100  $419,000  $240,000   \nMay-16  $205,000  $242,500  $617,740  $398,000  $225,000   \n...          ...       ...       ...       ...       ...   \nSep-20  $275,000  $325,000  $787,500  $530,000  $342,000   \nOct-20  $283,000  $349,500  $750,000  $517,250  $350,000   \nNov-20  $280,000  $337,500  $760,000  $511,000  $352,500   \nDec-20  $295,000  $330,000  $740,000  $515,000  $360,000   \nJan-21  $306,920  $350,500  $776,000  $490,320  $395,000   \n\n       Los Angeles Metropolitan Area S.F. Bay Area Inland Empire  \nDate                                                              \nJan-16                      $434,000      $690,000      $291,920  \nFeb-16                      $429,980      $698,950      $290,270  \nMar-16                      $448,420      $761,090      $309,890  \nApr-16                      $460,940      $831,180      $310,840  \nMay-16                      $469,090      $848,580      $315,980  \n...                              ...           ...           ...  \nSep-20                      $630,000    $1,060,000      $445,000  \nOct-20                      $632,710    $1,100,000      $445,000  \nNov-20                      $630,000    $1,100,000      $450,000  \nDec-20                      $625,250    $1,058,000      $450,000  \nJan-21                      $630,000    $1,025,000      $457,000  \n\n[61 rows x 55 columns]",
            "text/html": "<div>\n<style scoped>\n    .dataframe tbody tr th:only-of-type {\n        vertical-align: middle;\n    }\n\n    .dataframe tbody tr th {\n        vertical-align: top;\n    }\n\n    .dataframe thead th {\n        text-align: right;\n    }\n</style>\n<table border=\"1\" class=\"dataframe\">\n  <thead>\n    <tr style=\"text-align: right;\">\n      <th></th>\n      <th>CA</th>\n      <th>Alameda</th>\n      <th>Amador</th>\n      <th>Butte</th>\n      <th>Calaveras</th>\n      <th>Contra-Costa</th>\n      <th>Del Norte</th>\n      <th>El Dorado</th>\n      <th>Fresno</th>\n      <th>Glenn</th>\n      <th>...</th>\n      <th>Sutter</th>\n      <th>Tehama</th>\n      <th>Tulare</th>\n      <th>Tuolumne</th>\n      <th>Ventura</th>\n      <th>Yolo</th>\n      <th>Yuba</th>\n      <th>Los Angeles Metropolitan Area</th>\n      <th>S.F. Bay Area</th>\n      <th>Inland Empire</th>\n    </tr>\n    <tr>\n      <th>Date</th>\n      <th></th>\n      <th></th>\n      <th></th>\n      <th></th>\n      <th></th>\n      <th></th>\n      <th></th>\n      <th></th>\n      <th></th>\n      <th></th>\n      <th></th>\n      <th></th>\n      <th></th>\n      <th></th>\n      <th></th>\n      <th></th>\n      <th></th>\n      <th></th>\n      <th></th>\n      <th></th>\n      <th></th>\n    </tr>\n  </thead>\n  <tbody>\n    <tr>\n      <th>Jan-16</th>\n      <td>$467,160</td>\n      <td>$700,000</td>\n      <td>$215,500</td>\n      <td>$260,000</td>\n      <td>$258,750</td>\n      <td>$500,000</td>\n      <td>$157,000</td>\n      <td>$405,000</td>\n      <td>$216,000</td>\n      <td>$159,975</td>\n      <td>...</td>\n      <td>$213,700</td>\n      <td>$190,000</td>\n      <td>$195,000</td>\n      <td>$210,000</td>\n      <td>$638,590</td>\n      <td>$345,000</td>\n      <td>$210,000</td>\n      <td>$434,000</td>\n      <td>$690,000</td>\n      <td>$291,920</td>\n    </tr>\n    <tr>\n      <th>Feb-16</th>\n      <td>$444,780</td>\n      <td>$715,000</td>\n      <td>$275,000</td>\n      <td>$264,960</td>\n      <td>$262,500</td>\n      <td>$529,000</td>\n      <td>$175,000</td>\n      <td>$422,000</td>\n      <td>$214,250</td>\n      <td>$197,500</td>\n      <td>...</td>\n      <td>$230,000</td>\n      <td>$170,750</td>\n      <td>$190,000</td>\n      <td>$256,500</td>\n      <td>$610,820</td>\n      <td>$379,500</td>\n      <td>$225,000</td>\n      <td>$429,980</td>\n      <td>$698,950</td>\n      <td>$290,270</td>\n    </tr>\n    <tr>\n      <th>Mar-16</th>\n      <td>$484,120</td>\n      <td>$758,000</td>\n      <td>$307,000</td>\n      <td>$286,810</td>\n      <td>$270,000</td>\n      <td>$548,780</td>\n      <td>$199,000</td>\n      <td>$435,010</td>\n      <td>$231,000</td>\n      <td>$196,000</td>\n      <td>...</td>\n      <td>$232,000</td>\n      <td>$189,500</td>\n      <td>$198,000</td>\n      <td>$244,900</td>\n      <td>$620,020</td>\n      <td>$362,500</td>\n      <td>$235,450</td>\n      <td>$448,420</td>\n      <td>$761,090</td>\n      <td>$309,890</td>\n    </tr>\n    <tr>\n      <th>Apr-16</th>\n      <td>$509,240</td>\n      <td>$800,000</td>\n      <td>$235,000</td>\n      <td>$272,750</td>\n      <td>$276,000</td>\n      <td>$565,000</td>\n      <td>$315,000</td>\n      <td>$432,000</td>\n      <td>$229,000</td>\n      <td>$225,000</td>\n      <td>...</td>\n      <td>$232,000</td>\n      <td>$184,000</td>\n      <td>$207,250</td>\n      <td>$253,750</td>\n      <td>$630,100</td>\n      <td>$419,000</td>\n      <td>$240,000</td>\n      <td>$460,940</td>\n      <td>$831,180</td>\n      <td>$310,840</td>\n    </tr>\n    <tr>\n      <th>May-16</th>\n      <td>$519,930</td>\n      <td>$828,000</td>\n      <td>$268,500</td>\n      <td>$271,000</td>\n      <td>$287,500</td>\n      <td>$595,000</td>\n      <td>$189,500</td>\n      <td>$429,500</td>\n      <td>$232,000</td>\n      <td>$175,000</td>\n      <td>...</td>\n      <td>$235,000</td>\n      <td>$170,000</td>\n      <td>$205,000</td>\n      <td>$242,500</td>\n      <td>$617,740</td>\n      <td>$398,000</td>\n      <td>$225,000</td>\n      <td>$469,090</td>\n      <td>$848,580</td>\n      <td>$315,980</td>\n    </tr>\n    <tr>\n      <th>...</th>\n      <td>...</td>\n      <td>...</td>\n      <td>...</td>\n      <td>...</td>\n      <td>...</td>\n      <td>...</td>\n      <td>...</td>\n      <td>...</td>\n      <td>...</td>\n      <td>...</td>\n      <td>...</td>\n      <td>...</td>\n      <td>...</td>\n      <td>...</td>\n      <td>...</td>\n      <td>...</td>\n      <td>...</td>\n      <td>...</td>\n      <td>...</td>\n      <td>...</td>\n      <td>...</td>\n    </tr>\n    <tr>\n      <th>Sep-20</th>\n      <td>$712,430</td>\n      <td>$1,050,000</td>\n      <td>$359,900</td>\n      <td>$403,300</td>\n      <td>$392,000</td>\n      <td>$783,000</td>\n      <td>$308,000</td>\n      <td>$588,000</td>\n      <td>$325,000</td>\n      <td>$347,520</td>\n      <td>...</td>\n      <td>$351,000</td>\n      <td>$285,000</td>\n      <td>$275,000</td>\n      <td>$325,000</td>\n      <td>$787,500</td>\n      <td>$530,000</td>\n      <td>$342,000</td>\n      <td>$630,000</td>\n      <td>$1,060,000</td>\n      <td>$445,000</td>\n    </tr>\n    <tr>\n      <th>Oct-20</th>\n      <td>$711,300</td>\n      <td>$1,049,000</td>\n      <td>$366,500</td>\n      <td>$401,500</td>\n      <td>$393,640</td>\n      <td>$787,250</td>\n      <td>$325,000</td>\n      <td>$559,000</td>\n      <td>$331,500</td>\n      <td>$287,500</td>\n      <td>...</td>\n      <td>$346,050</td>\n      <td>$283,500</td>\n      <td>$283,000</td>\n      <td>$349,500</td>\n      <td>$750,000</td>\n      <td>$517,250</td>\n      <td>$350,000</td>\n      <td>$632,710</td>\n      <td>$1,100,000</td>\n      <td>$445,000</td>\n    </tr>\n    <tr>\n      <th>Nov-20</th>\n      <td>$698,980</td>\n      <td>$1,049,040</td>\n      <td>$360,000</td>\n      <td>$405,000</td>\n      <td>$407,120</td>\n      <td>$810,000</td>\n      <td>$308,750</td>\n      <td>$585,000</td>\n      <td>$323,500</td>\n      <td>$334,750</td>\n      <td>...</td>\n      <td>$370,000</td>\n      <td>$371,000</td>\n      <td>$280,000</td>\n      <td>$337,500</td>\n      <td>$760,000</td>\n      <td>$511,000</td>\n      <td>$352,500</td>\n      <td>$630,000</td>\n      <td>$1,100,000</td>\n      <td>$450,000</td>\n    </tr>\n    <tr>\n      <th>Dec-20</th>\n      <td>$717,930</td>\n      <td>$1,060,000</td>\n      <td>$355,000</td>\n      <td>$408,460</td>\n      <td>$397,500</td>\n      <td>$763,000</td>\n      <td>$346,000</td>\n      <td>$538,350</td>\n      <td>$325,500</td>\n      <td>$297,500</td>\n      <td>...</td>\n      <td>$369,900</td>\n      <td>$273,250</td>\n      <td>$295,000</td>\n      <td>$330,000</td>\n      <td>$740,000</td>\n      <td>$515,000</td>\n      <td>$360,000</td>\n      <td>$625,250</td>\n      <td>$1,058,000</td>\n      <td>$450,000</td>\n    </tr>\n    <tr>\n      <th>Jan-21</th>\n      <td>$699,890</td>\n      <td>$1,060,000</td>\n      <td>$386,360</td>\n      <td>$420,000</td>\n      <td>$398,500</td>\n      <td>$765,000</td>\n      <td>$399,000</td>\n      <td>$604,510</td>\n      <td>$325,000</td>\n      <td>$247,500</td>\n      <td>...</td>\n      <td>$350,000</td>\n      <td>$250,000</td>\n      <td>$306,920</td>\n      <td>$350,500</td>\n      <td>$776,000</td>\n      <td>$490,320</td>\n      <td>$395,000</td>\n      <td>$630,000</td>\n      <td>$1,025,000</td>\n      <td>$457,000</td>\n    </tr>\n  </tbody>\n</table>\n<p>61 rows × 55 columns</p>\n</div>"
          },
          "metadata": {}
        }
      ],
      "execution_count": 12,
      "metadata": {
        "collapsed": true,
        "jupyter": {
          "source_hidden": false,
          "outputs_hidden": false
        },
        "nteract": {
          "transient": {
            "deleting": false
          }
        },
        "execution": {
          "iopub.status.busy": "2021-03-16T03:27:27.609Z",
          "iopub.execute_input": "2021-03-16T03:27:27.615Z",
          "iopub.status.idle": "2021-03-16T03:27:27.628Z",
          "shell.execute_reply": "2021-03-16T03:27:27.670Z"
        }
      }
    },
    {
      "cell_type": "code",
      "source": [
        "df.describe(include='all')  "
      ],
      "outputs": [
        {
          "output_type": "execute_result",
          "execution_count": 13,
          "data": {
            "text/plain": "              CA   Alameda    Amador     Butte Calaveras Contra-Costa  \\\ncount         61        61        61        61        61           61   \nunique        60        48        47        57        48           56   \ntop     $555,410  $900,000  $335,000  $315,000  $340,000     $650,000   \nfreq           2         4         5         4         5            2   \n\n       Del Norte El Dorado    Fresno     Glenn  ...    Sutter    Tehama  \\\ncount         61        61        61        61  ...        61        61   \nunique        57        51        52        49  ...        52        51   \ntop     $214,000  $465,000  $280,000  $225,000  ...  $270,000  $210,000   \nfreq           2         3         3         5  ...         2         3   \n\n          Tulare  Tuolumne   Ventura      Yolo      Yuba  \\\ncount         61        61        61        61        61   \nunique        51        48        49        57        53   \ntop     $240,000  $300,000  $640,000  $450,000  $298,000   \nfreq           3         4         4         3         3   \n\n       Los Angeles Metropolitan Area S.F. Bay Area Inland Empire  \ncount                             61            61            61  \nunique                            48            54            49  \ntop                         $550,000      $980,000      $380,000  \nfreq                               5             3             3  \n\n[4 rows x 55 columns]",
            "text/html": "<div>\n<style scoped>\n    .dataframe tbody tr th:only-of-type {\n        vertical-align: middle;\n    }\n\n    .dataframe tbody tr th {\n        vertical-align: top;\n    }\n\n    .dataframe thead th {\n        text-align: right;\n    }\n</style>\n<table border=\"1\" class=\"dataframe\">\n  <thead>\n    <tr style=\"text-align: right;\">\n      <th></th>\n      <th>CA</th>\n      <th>Alameda</th>\n      <th>Amador</th>\n      <th>Butte</th>\n      <th>Calaveras</th>\n      <th>Contra-Costa</th>\n      <th>Del Norte</th>\n      <th>El Dorado</th>\n      <th>Fresno</th>\n      <th>Glenn</th>\n      <th>...</th>\n      <th>Sutter</th>\n      <th>Tehama</th>\n      <th>Tulare</th>\n      <th>Tuolumne</th>\n      <th>Ventura</th>\n      <th>Yolo</th>\n      <th>Yuba</th>\n      <th>Los Angeles Metropolitan Area</th>\n      <th>S.F. Bay Area</th>\n      <th>Inland Empire</th>\n    </tr>\n  </thead>\n  <tbody>\n    <tr>\n      <th>count</th>\n      <td>61</td>\n      <td>61</td>\n      <td>61</td>\n      <td>61</td>\n      <td>61</td>\n      <td>61</td>\n      <td>61</td>\n      <td>61</td>\n      <td>61</td>\n      <td>61</td>\n      <td>...</td>\n      <td>61</td>\n      <td>61</td>\n      <td>61</td>\n      <td>61</td>\n      <td>61</td>\n      <td>61</td>\n      <td>61</td>\n      <td>61</td>\n      <td>61</td>\n      <td>61</td>\n    </tr>\n    <tr>\n      <th>unique</th>\n      <td>60</td>\n      <td>48</td>\n      <td>47</td>\n      <td>57</td>\n      <td>48</td>\n      <td>56</td>\n      <td>57</td>\n      <td>51</td>\n      <td>52</td>\n      <td>49</td>\n      <td>...</td>\n      <td>52</td>\n      <td>51</td>\n      <td>51</td>\n      <td>48</td>\n      <td>49</td>\n      <td>57</td>\n      <td>53</td>\n      <td>48</td>\n      <td>54</td>\n      <td>49</td>\n    </tr>\n    <tr>\n      <th>top</th>\n      <td>$555,410</td>\n      <td>$900,000</td>\n      <td>$335,000</td>\n      <td>$315,000</td>\n      <td>$340,000</td>\n      <td>$650,000</td>\n      <td>$214,000</td>\n      <td>$465,000</td>\n      <td>$280,000</td>\n      <td>$225,000</td>\n      <td>...</td>\n      <td>$270,000</td>\n      <td>$210,000</td>\n      <td>$240,000</td>\n      <td>$300,000</td>\n      <td>$640,000</td>\n      <td>$450,000</td>\n      <td>$298,000</td>\n      <td>$550,000</td>\n      <td>$980,000</td>\n      <td>$380,000</td>\n    </tr>\n    <tr>\n      <th>freq</th>\n      <td>2</td>\n      <td>4</td>\n      <td>5</td>\n      <td>4</td>\n      <td>5</td>\n      <td>2</td>\n      <td>2</td>\n      <td>3</td>\n      <td>3</td>\n      <td>5</td>\n      <td>...</td>\n      <td>2</td>\n      <td>3</td>\n      <td>3</td>\n      <td>4</td>\n      <td>4</td>\n      <td>3</td>\n      <td>3</td>\n      <td>5</td>\n      <td>3</td>\n      <td>3</td>\n    </tr>\n  </tbody>\n</table>\n<p>4 rows × 55 columns</p>\n</div>"
          },
          "metadata": {}
        }
      ],
      "execution_count": 13,
      "metadata": {
        "collapsed": true,
        "jupyter": {
          "source_hidden": false,
          "outputs_hidden": false
        },
        "nteract": {
          "transient": {
            "deleting": false
          }
        },
        "execution": {
          "iopub.status.busy": "2021-03-16T03:27:27.637Z",
          "iopub.execute_input": "2021-03-16T03:27:27.642Z",
          "iopub.status.idle": "2021-03-16T03:27:27.685Z",
          "shell.execute_reply": "2021-03-16T03:27:27.706Z"
        }
      }
    },
    {
      "cell_type": "code",
      "source": [
        "df.info()"
      ],
      "outputs": [
        {
          "output_type": "stream",
          "name": "stdout",
          "text": [
            "<class 'pandas.core.frame.DataFrame'>\n",
            "Index: 61 entries, Jan-16 to Jan-21\n",
            "Data columns (total 55 columns):\n",
            " #   Column                         Non-Null Count  Dtype \n",
            "---  ------                         --------------  ----- \n",
            " 0   CA                             61 non-null     object\n",
            " 1   Alameda                        61 non-null     object\n",
            " 2   Amador                         61 non-null     object\n",
            " 3   Butte                          61 non-null     object\n",
            " 4   Calaveras                      61 non-null     object\n",
            " 5   Contra-Costa                   61 non-null     object\n",
            " 6   Del Norte                      61 non-null     object\n",
            " 7   El Dorado                      61 non-null     object\n",
            " 8   Fresno                         61 non-null     object\n",
            " 9   Glenn                          61 non-null     object\n",
            " 10  Humboldt                       61 non-null     object\n",
            " 11  Kern                           61 non-null     object\n",
            " 12  Kings                          61 non-null     object\n",
            " 13  Lake                           61 non-null     object\n",
            " 14  Lassen                         61 non-null     object\n",
            " 15  Los Angeles                    61 non-null     object\n",
            " 16  Madera                         61 non-null     object\n",
            " 17  Marin                          61 non-null     object\n",
            " 18  Mariposa                       61 non-null     object\n",
            " 19  Mendocino                      61 non-null     object\n",
            " 20  Merced                         61 non-null     object\n",
            " 21  Mono                           61 non-null     object\n",
            " 22  Monterey                       61 non-null     object\n",
            " 23  Napa                           61 non-null     object\n",
            " 24  Nevada                         61 non-null     object\n",
            " 25  Orange                         61 non-null     object\n",
            " 26  Placer                         61 non-null     object\n",
            " 27  Plumas                         61 non-null     object\n",
            " 28  Riverside                      61 non-null     object\n",
            " 29  Sacramento                     61 non-null     object\n",
            " 30  San Benito                     61 non-null     object\n",
            " 31  San Bernardino                 61 non-null     object\n",
            " 32  San Diego                      61 non-null     object\n",
            " 33  San Francisco                  61 non-null     object\n",
            " 34  San Joaquin                    61 non-null     object\n",
            " 35  San Luis Obispo                61 non-null     object\n",
            " 36  San Mateo                      61 non-null     object\n",
            " 37  Santa Barbara                  61 non-null     object\n",
            " 38  Santa Clara                    61 non-null     object\n",
            " 39  Santa Cruz                     61 non-null     object\n",
            " 40  Shasta                         61 non-null     object\n",
            " 41  Siskiyou                       61 non-null     object\n",
            " 42  Solano                         61 non-null     object\n",
            " 43  Sonoma                         61 non-null     object\n",
            " 44  Stanislaus                     61 non-null     object\n",
            " 45  Sutter                         61 non-null     object\n",
            " 46  Tehama                         61 non-null     object\n",
            " 47  Tulare                         61 non-null     object\n",
            " 48  Tuolumne                       61 non-null     object\n",
            " 49  Ventura                        61 non-null     object\n",
            " 50  Yolo                           61 non-null     object\n",
            " 51  Yuba                           61 non-null     object\n",
            " 52  Los Angeles Metropolitan Area  61 non-null     object\n",
            " 53  S.F. Bay Area                  61 non-null     object\n",
            " 54  Inland Empire                  61 non-null     object\n",
            "dtypes: object(55)\n",
            "memory usage: 26.7+ KB\n"
          ]
        }
      ],
      "execution_count": 14,
      "metadata": {
        "collapsed": true,
        "jupyter": {
          "source_hidden": false,
          "outputs_hidden": false
        },
        "nteract": {
          "transient": {
            "deleting": false
          }
        },
        "execution": {
          "iopub.status.busy": "2021-03-16T03:27:27.721Z",
          "iopub.execute_input": "2021-03-16T03:27:27.726Z",
          "iopub.status.idle": "2021-03-16T03:27:27.737Z",
          "shell.execute_reply": "2021-03-16T03:27:27.710Z"
        }
      }
    },
    {
      "cell_type": "code",
      "source": [
        "# remove '$'\n",
        "df = df.replace({'\\$':''}, regex = True)\n",
        "df"
      ],
      "outputs": [
        {
          "output_type": "execute_result",
          "execution_count": 15,
          "data": {
            "text/plain": "             CA    Alameda   Amador    Butte Calaveras Contra-Costa Del Norte  \\\nDate                                                                            \nJan-16  467,160    700,000  215,500  260,000   258,750      500,000   157,000   \nFeb-16  444,780    715,000  275,000  264,960   262,500      529,000   175,000   \nMar-16  484,120    758,000  307,000  286,810   270,000      548,780   199,000   \nApr-16  509,240    800,000  235,000  272,750   276,000      565,000   315,000   \nMay-16  519,930    828,000  268,500  271,000   287,500      595,000   189,500   \n...         ...        ...      ...      ...       ...          ...       ...   \nSep-20  712,430  1,050,000  359,900  403,300   392,000      783,000   308,000   \nOct-20  711,300  1,049,000  366,500  401,500   393,640      787,250   325,000   \nNov-20  698,980  1,049,040  360,000  405,000   407,120      810,000   308,750   \nDec-20  717,930  1,060,000  355,000  408,460   397,500      763,000   346,000   \nJan-21  699,890  1,060,000  386,360  420,000   398,500      765,000   399,000   \n\n       El Dorado   Fresno    Glenn  ...   Sutter   Tehama   Tulare Tuolumne  \\\nDate                                ...                                       \nJan-16   405,000  216,000  159,975  ...  213,700  190,000  195,000  210,000   \nFeb-16   422,000  214,250  197,500  ...  230,000  170,750  190,000  256,500   \nMar-16   435,010  231,000  196,000  ...  232,000  189,500  198,000  244,900   \nApr-16   432,000  229,000  225,000  ...  232,000  184,000  207,250  253,750   \nMay-16   429,500  232,000  175,000  ...  235,000  170,000  205,000  242,500   \n...          ...      ...      ...  ...      ...      ...      ...      ...   \nSep-20   588,000  325,000  347,520  ...  351,000  285,000  275,000  325,000   \nOct-20   559,000  331,500  287,500  ...  346,050  283,500  283,000  349,500   \nNov-20   585,000  323,500  334,750  ...  370,000  371,000  280,000  337,500   \nDec-20   538,350  325,500  297,500  ...  369,900  273,250  295,000  330,000   \nJan-21   604,510  325,000  247,500  ...  350,000  250,000  306,920  350,500   \n\n        Ventura     Yolo     Yuba Los Angeles Metropolitan Area S.F. Bay Area  \\\nDate                                                                            \nJan-16  638,590  345,000  210,000                       434,000       690,000   \nFeb-16  610,820  379,500  225,000                       429,980       698,950   \nMar-16  620,020  362,500  235,450                       448,420       761,090   \nApr-16  630,100  419,000  240,000                       460,940       831,180   \nMay-16  617,740  398,000  225,000                       469,090       848,580   \n...         ...      ...      ...                           ...           ...   \nSep-20  787,500  530,000  342,000                       630,000     1,060,000   \nOct-20  750,000  517,250  350,000                       632,710     1,100,000   \nNov-20  760,000  511,000  352,500                       630,000     1,100,000   \nDec-20  740,000  515,000  360,000                       625,250     1,058,000   \nJan-21  776,000  490,320  395,000                       630,000     1,025,000   \n\n       Inland Empire  \nDate                  \nJan-16       291,920  \nFeb-16       290,270  \nMar-16       309,890  \nApr-16       310,840  \nMay-16       315,980  \n...              ...  \nSep-20       445,000  \nOct-20       445,000  \nNov-20       450,000  \nDec-20       450,000  \nJan-21       457,000  \n\n[61 rows x 55 columns]",
            "text/html": "<div>\n<style scoped>\n    .dataframe tbody tr th:only-of-type {\n        vertical-align: middle;\n    }\n\n    .dataframe tbody tr th {\n        vertical-align: top;\n    }\n\n    .dataframe thead th {\n        text-align: right;\n    }\n</style>\n<table border=\"1\" class=\"dataframe\">\n  <thead>\n    <tr style=\"text-align: right;\">\n      <th></th>\n      <th>CA</th>\n      <th>Alameda</th>\n      <th>Amador</th>\n      <th>Butte</th>\n      <th>Calaveras</th>\n      <th>Contra-Costa</th>\n      <th>Del Norte</th>\n      <th>El Dorado</th>\n      <th>Fresno</th>\n      <th>Glenn</th>\n      <th>...</th>\n      <th>Sutter</th>\n      <th>Tehama</th>\n      <th>Tulare</th>\n      <th>Tuolumne</th>\n      <th>Ventura</th>\n      <th>Yolo</th>\n      <th>Yuba</th>\n      <th>Los Angeles Metropolitan Area</th>\n      <th>S.F. Bay Area</th>\n      <th>Inland Empire</th>\n    </tr>\n    <tr>\n      <th>Date</th>\n      <th></th>\n      <th></th>\n      <th></th>\n      <th></th>\n      <th></th>\n      <th></th>\n      <th></th>\n      <th></th>\n      <th></th>\n      <th></th>\n      <th></th>\n      <th></th>\n      <th></th>\n      <th></th>\n      <th></th>\n      <th></th>\n      <th></th>\n      <th></th>\n      <th></th>\n      <th></th>\n      <th></th>\n    </tr>\n  </thead>\n  <tbody>\n    <tr>\n      <th>Jan-16</th>\n      <td>467,160</td>\n      <td>700,000</td>\n      <td>215,500</td>\n      <td>260,000</td>\n      <td>258,750</td>\n      <td>500,000</td>\n      <td>157,000</td>\n      <td>405,000</td>\n      <td>216,000</td>\n      <td>159,975</td>\n      <td>...</td>\n      <td>213,700</td>\n      <td>190,000</td>\n      <td>195,000</td>\n      <td>210,000</td>\n      <td>638,590</td>\n      <td>345,000</td>\n      <td>210,000</td>\n      <td>434,000</td>\n      <td>690,000</td>\n      <td>291,920</td>\n    </tr>\n    <tr>\n      <th>Feb-16</th>\n      <td>444,780</td>\n      <td>715,000</td>\n      <td>275,000</td>\n      <td>264,960</td>\n      <td>262,500</td>\n      <td>529,000</td>\n      <td>175,000</td>\n      <td>422,000</td>\n      <td>214,250</td>\n      <td>197,500</td>\n      <td>...</td>\n      <td>230,000</td>\n      <td>170,750</td>\n      <td>190,000</td>\n      <td>256,500</td>\n      <td>610,820</td>\n      <td>379,500</td>\n      <td>225,000</td>\n      <td>429,980</td>\n      <td>698,950</td>\n      <td>290,270</td>\n    </tr>\n    <tr>\n      <th>Mar-16</th>\n      <td>484,120</td>\n      <td>758,000</td>\n      <td>307,000</td>\n      <td>286,810</td>\n      <td>270,000</td>\n      <td>548,780</td>\n      <td>199,000</td>\n      <td>435,010</td>\n      <td>231,000</td>\n      <td>196,000</td>\n      <td>...</td>\n      <td>232,000</td>\n      <td>189,500</td>\n      <td>198,000</td>\n      <td>244,900</td>\n      <td>620,020</td>\n      <td>362,500</td>\n      <td>235,450</td>\n      <td>448,420</td>\n      <td>761,090</td>\n      <td>309,890</td>\n    </tr>\n    <tr>\n      <th>Apr-16</th>\n      <td>509,240</td>\n      <td>800,000</td>\n      <td>235,000</td>\n      <td>272,750</td>\n      <td>276,000</td>\n      <td>565,000</td>\n      <td>315,000</td>\n      <td>432,000</td>\n      <td>229,000</td>\n      <td>225,000</td>\n      <td>...</td>\n      <td>232,000</td>\n      <td>184,000</td>\n      <td>207,250</td>\n      <td>253,750</td>\n      <td>630,100</td>\n      <td>419,000</td>\n      <td>240,000</td>\n      <td>460,940</td>\n      <td>831,180</td>\n      <td>310,840</td>\n    </tr>\n    <tr>\n      <th>May-16</th>\n      <td>519,930</td>\n      <td>828,000</td>\n      <td>268,500</td>\n      <td>271,000</td>\n      <td>287,500</td>\n      <td>595,000</td>\n      <td>189,500</td>\n      <td>429,500</td>\n      <td>232,000</td>\n      <td>175,000</td>\n      <td>...</td>\n      <td>235,000</td>\n      <td>170,000</td>\n      <td>205,000</td>\n      <td>242,500</td>\n      <td>617,740</td>\n      <td>398,000</td>\n      <td>225,000</td>\n      <td>469,090</td>\n      <td>848,580</td>\n      <td>315,980</td>\n    </tr>\n    <tr>\n      <th>...</th>\n      <td>...</td>\n      <td>...</td>\n      <td>...</td>\n      <td>...</td>\n      <td>...</td>\n      <td>...</td>\n      <td>...</td>\n      <td>...</td>\n      <td>...</td>\n      <td>...</td>\n      <td>...</td>\n      <td>...</td>\n      <td>...</td>\n      <td>...</td>\n      <td>...</td>\n      <td>...</td>\n      <td>...</td>\n      <td>...</td>\n      <td>...</td>\n      <td>...</td>\n      <td>...</td>\n    </tr>\n    <tr>\n      <th>Sep-20</th>\n      <td>712,430</td>\n      <td>1,050,000</td>\n      <td>359,900</td>\n      <td>403,300</td>\n      <td>392,000</td>\n      <td>783,000</td>\n      <td>308,000</td>\n      <td>588,000</td>\n      <td>325,000</td>\n      <td>347,520</td>\n      <td>...</td>\n      <td>351,000</td>\n      <td>285,000</td>\n      <td>275,000</td>\n      <td>325,000</td>\n      <td>787,500</td>\n      <td>530,000</td>\n      <td>342,000</td>\n      <td>630,000</td>\n      <td>1,060,000</td>\n      <td>445,000</td>\n    </tr>\n    <tr>\n      <th>Oct-20</th>\n      <td>711,300</td>\n      <td>1,049,000</td>\n      <td>366,500</td>\n      <td>401,500</td>\n      <td>393,640</td>\n      <td>787,250</td>\n      <td>325,000</td>\n      <td>559,000</td>\n      <td>331,500</td>\n      <td>287,500</td>\n      <td>...</td>\n      <td>346,050</td>\n      <td>283,500</td>\n      <td>283,000</td>\n      <td>349,500</td>\n      <td>750,000</td>\n      <td>517,250</td>\n      <td>350,000</td>\n      <td>632,710</td>\n      <td>1,100,000</td>\n      <td>445,000</td>\n    </tr>\n    <tr>\n      <th>Nov-20</th>\n      <td>698,980</td>\n      <td>1,049,040</td>\n      <td>360,000</td>\n      <td>405,000</td>\n      <td>407,120</td>\n      <td>810,000</td>\n      <td>308,750</td>\n      <td>585,000</td>\n      <td>323,500</td>\n      <td>334,750</td>\n      <td>...</td>\n      <td>370,000</td>\n      <td>371,000</td>\n      <td>280,000</td>\n      <td>337,500</td>\n      <td>760,000</td>\n      <td>511,000</td>\n      <td>352,500</td>\n      <td>630,000</td>\n      <td>1,100,000</td>\n      <td>450,000</td>\n    </tr>\n    <tr>\n      <th>Dec-20</th>\n      <td>717,930</td>\n      <td>1,060,000</td>\n      <td>355,000</td>\n      <td>408,460</td>\n      <td>397,500</td>\n      <td>763,000</td>\n      <td>346,000</td>\n      <td>538,350</td>\n      <td>325,500</td>\n      <td>297,500</td>\n      <td>...</td>\n      <td>369,900</td>\n      <td>273,250</td>\n      <td>295,000</td>\n      <td>330,000</td>\n      <td>740,000</td>\n      <td>515,000</td>\n      <td>360,000</td>\n      <td>625,250</td>\n      <td>1,058,000</td>\n      <td>450,000</td>\n    </tr>\n    <tr>\n      <th>Jan-21</th>\n      <td>699,890</td>\n      <td>1,060,000</td>\n      <td>386,360</td>\n      <td>420,000</td>\n      <td>398,500</td>\n      <td>765,000</td>\n      <td>399,000</td>\n      <td>604,510</td>\n      <td>325,000</td>\n      <td>247,500</td>\n      <td>...</td>\n      <td>350,000</td>\n      <td>250,000</td>\n      <td>306,920</td>\n      <td>350,500</td>\n      <td>776,000</td>\n      <td>490,320</td>\n      <td>395,000</td>\n      <td>630,000</td>\n      <td>1,025,000</td>\n      <td>457,000</td>\n    </tr>\n  </tbody>\n</table>\n<p>61 rows × 55 columns</p>\n</div>"
          },
          "metadata": {}
        }
      ],
      "execution_count": 15,
      "metadata": {
        "collapsed": true,
        "jupyter": {
          "source_hidden": false,
          "outputs_hidden": false
        },
        "nteract": {
          "transient": {
            "deleting": false
          }
        },
        "execution": {
          "iopub.status.busy": "2021-03-16T03:27:27.745Z",
          "iopub.execute_input": "2021-03-16T03:27:27.751Z",
          "iopub.status.idle": "2021-03-16T03:27:27.764Z",
          "shell.execute_reply": "2021-03-16T03:27:27.824Z"
        }
      }
    },
    {
      "cell_type": "code",
      "source": [
        "df = df.replace({',':''}, regex = True)\n",
        "df"
      ],
      "outputs": [
        {
          "output_type": "execute_result",
          "execution_count": 16,
          "data": {
            "text/plain": "            CA  Alameda  Amador   Butte Calaveras Contra-Costa Del Norte  \\\nDate                                                                       \nJan-16  467160   700000  215500  260000    258750       500000    157000   \nFeb-16  444780   715000  275000  264960    262500       529000    175000   \nMar-16  484120   758000  307000  286810    270000       548780    199000   \nApr-16  509240   800000  235000  272750    276000       565000    315000   \nMay-16  519930   828000  268500  271000    287500       595000    189500   \n...        ...      ...     ...     ...       ...          ...       ...   \nSep-20  712430  1050000  359900  403300    392000       783000    308000   \nOct-20  711300  1049000  366500  401500    393640       787250    325000   \nNov-20  698980  1049040  360000  405000    407120       810000    308750   \nDec-20  717930  1060000  355000  408460    397500       763000    346000   \nJan-21  699890  1060000  386360  420000    398500       765000    399000   \n\n       El Dorado  Fresno   Glenn  ...  Sutter  Tehama  Tulare Tuolumne  \\\nDate                              ...                                    \nJan-16    405000  216000  159975  ...  213700  190000  195000   210000   \nFeb-16    422000  214250  197500  ...  230000  170750  190000   256500   \nMar-16    435010  231000  196000  ...  232000  189500  198000   244900   \nApr-16    432000  229000  225000  ...  232000  184000  207250   253750   \nMay-16    429500  232000  175000  ...  235000  170000  205000   242500   \n...          ...     ...     ...  ...     ...     ...     ...      ...   \nSep-20    588000  325000  347520  ...  351000  285000  275000   325000   \nOct-20    559000  331500  287500  ...  346050  283500  283000   349500   \nNov-20    585000  323500  334750  ...  370000  371000  280000   337500   \nDec-20    538350  325500  297500  ...  369900  273250  295000   330000   \nJan-21    604510  325000  247500  ...  350000  250000  306920   350500   \n\n       Ventura    Yolo    Yuba Los Angeles Metropolitan Area S.F. Bay Area  \\\nDate                                                                         \nJan-16  638590  345000  210000                        434000        690000   \nFeb-16  610820  379500  225000                        429980        698950   \nMar-16  620020  362500  235450                        448420        761090   \nApr-16  630100  419000  240000                        460940        831180   \nMay-16  617740  398000  225000                        469090        848580   \n...        ...     ...     ...                           ...           ...   \nSep-20  787500  530000  342000                        630000       1060000   \nOct-20  750000  517250  350000                        632710       1100000   \nNov-20  760000  511000  352500                        630000       1100000   \nDec-20  740000  515000  360000                        625250       1058000   \nJan-21  776000  490320  395000                        630000       1025000   \n\n       Inland Empire  \nDate                  \nJan-16        291920  \nFeb-16        290270  \nMar-16        309890  \nApr-16        310840  \nMay-16        315980  \n...              ...  \nSep-20        445000  \nOct-20        445000  \nNov-20        450000  \nDec-20        450000  \nJan-21        457000  \n\n[61 rows x 55 columns]",
            "text/html": "<div>\n<style scoped>\n    .dataframe tbody tr th:only-of-type {\n        vertical-align: middle;\n    }\n\n    .dataframe tbody tr th {\n        vertical-align: top;\n    }\n\n    .dataframe thead th {\n        text-align: right;\n    }\n</style>\n<table border=\"1\" class=\"dataframe\">\n  <thead>\n    <tr style=\"text-align: right;\">\n      <th></th>\n      <th>CA</th>\n      <th>Alameda</th>\n      <th>Amador</th>\n      <th>Butte</th>\n      <th>Calaveras</th>\n      <th>Contra-Costa</th>\n      <th>Del Norte</th>\n      <th>El Dorado</th>\n      <th>Fresno</th>\n      <th>Glenn</th>\n      <th>...</th>\n      <th>Sutter</th>\n      <th>Tehama</th>\n      <th>Tulare</th>\n      <th>Tuolumne</th>\n      <th>Ventura</th>\n      <th>Yolo</th>\n      <th>Yuba</th>\n      <th>Los Angeles Metropolitan Area</th>\n      <th>S.F. Bay Area</th>\n      <th>Inland Empire</th>\n    </tr>\n    <tr>\n      <th>Date</th>\n      <th></th>\n      <th></th>\n      <th></th>\n      <th></th>\n      <th></th>\n      <th></th>\n      <th></th>\n      <th></th>\n      <th></th>\n      <th></th>\n      <th></th>\n      <th></th>\n      <th></th>\n      <th></th>\n      <th></th>\n      <th></th>\n      <th></th>\n      <th></th>\n      <th></th>\n      <th></th>\n      <th></th>\n    </tr>\n  </thead>\n  <tbody>\n    <tr>\n      <th>Jan-16</th>\n      <td>467160</td>\n      <td>700000</td>\n      <td>215500</td>\n      <td>260000</td>\n      <td>258750</td>\n      <td>500000</td>\n      <td>157000</td>\n      <td>405000</td>\n      <td>216000</td>\n      <td>159975</td>\n      <td>...</td>\n      <td>213700</td>\n      <td>190000</td>\n      <td>195000</td>\n      <td>210000</td>\n      <td>638590</td>\n      <td>345000</td>\n      <td>210000</td>\n      <td>434000</td>\n      <td>690000</td>\n      <td>291920</td>\n    </tr>\n    <tr>\n      <th>Feb-16</th>\n      <td>444780</td>\n      <td>715000</td>\n      <td>275000</td>\n      <td>264960</td>\n      <td>262500</td>\n      <td>529000</td>\n      <td>175000</td>\n      <td>422000</td>\n      <td>214250</td>\n      <td>197500</td>\n      <td>...</td>\n      <td>230000</td>\n      <td>170750</td>\n      <td>190000</td>\n      <td>256500</td>\n      <td>610820</td>\n      <td>379500</td>\n      <td>225000</td>\n      <td>429980</td>\n      <td>698950</td>\n      <td>290270</td>\n    </tr>\n    <tr>\n      <th>Mar-16</th>\n      <td>484120</td>\n      <td>758000</td>\n      <td>307000</td>\n      <td>286810</td>\n      <td>270000</td>\n      <td>548780</td>\n      <td>199000</td>\n      <td>435010</td>\n      <td>231000</td>\n      <td>196000</td>\n      <td>...</td>\n      <td>232000</td>\n      <td>189500</td>\n      <td>198000</td>\n      <td>244900</td>\n      <td>620020</td>\n      <td>362500</td>\n      <td>235450</td>\n      <td>448420</td>\n      <td>761090</td>\n      <td>309890</td>\n    </tr>\n    <tr>\n      <th>Apr-16</th>\n      <td>509240</td>\n      <td>800000</td>\n      <td>235000</td>\n      <td>272750</td>\n      <td>276000</td>\n      <td>565000</td>\n      <td>315000</td>\n      <td>432000</td>\n      <td>229000</td>\n      <td>225000</td>\n      <td>...</td>\n      <td>232000</td>\n      <td>184000</td>\n      <td>207250</td>\n      <td>253750</td>\n      <td>630100</td>\n      <td>419000</td>\n      <td>240000</td>\n      <td>460940</td>\n      <td>831180</td>\n      <td>310840</td>\n    </tr>\n    <tr>\n      <th>May-16</th>\n      <td>519930</td>\n      <td>828000</td>\n      <td>268500</td>\n      <td>271000</td>\n      <td>287500</td>\n      <td>595000</td>\n      <td>189500</td>\n      <td>429500</td>\n      <td>232000</td>\n      <td>175000</td>\n      <td>...</td>\n      <td>235000</td>\n      <td>170000</td>\n      <td>205000</td>\n      <td>242500</td>\n      <td>617740</td>\n      <td>398000</td>\n      <td>225000</td>\n      <td>469090</td>\n      <td>848580</td>\n      <td>315980</td>\n    </tr>\n    <tr>\n      <th>...</th>\n      <td>...</td>\n      <td>...</td>\n      <td>...</td>\n      <td>...</td>\n      <td>...</td>\n      <td>...</td>\n      <td>...</td>\n      <td>...</td>\n      <td>...</td>\n      <td>...</td>\n      <td>...</td>\n      <td>...</td>\n      <td>...</td>\n      <td>...</td>\n      <td>...</td>\n      <td>...</td>\n      <td>...</td>\n      <td>...</td>\n      <td>...</td>\n      <td>...</td>\n      <td>...</td>\n    </tr>\n    <tr>\n      <th>Sep-20</th>\n      <td>712430</td>\n      <td>1050000</td>\n      <td>359900</td>\n      <td>403300</td>\n      <td>392000</td>\n      <td>783000</td>\n      <td>308000</td>\n      <td>588000</td>\n      <td>325000</td>\n      <td>347520</td>\n      <td>...</td>\n      <td>351000</td>\n      <td>285000</td>\n      <td>275000</td>\n      <td>325000</td>\n      <td>787500</td>\n      <td>530000</td>\n      <td>342000</td>\n      <td>630000</td>\n      <td>1060000</td>\n      <td>445000</td>\n    </tr>\n    <tr>\n      <th>Oct-20</th>\n      <td>711300</td>\n      <td>1049000</td>\n      <td>366500</td>\n      <td>401500</td>\n      <td>393640</td>\n      <td>787250</td>\n      <td>325000</td>\n      <td>559000</td>\n      <td>331500</td>\n      <td>287500</td>\n      <td>...</td>\n      <td>346050</td>\n      <td>283500</td>\n      <td>283000</td>\n      <td>349500</td>\n      <td>750000</td>\n      <td>517250</td>\n      <td>350000</td>\n      <td>632710</td>\n      <td>1100000</td>\n      <td>445000</td>\n    </tr>\n    <tr>\n      <th>Nov-20</th>\n      <td>698980</td>\n      <td>1049040</td>\n      <td>360000</td>\n      <td>405000</td>\n      <td>407120</td>\n      <td>810000</td>\n      <td>308750</td>\n      <td>585000</td>\n      <td>323500</td>\n      <td>334750</td>\n      <td>...</td>\n      <td>370000</td>\n      <td>371000</td>\n      <td>280000</td>\n      <td>337500</td>\n      <td>760000</td>\n      <td>511000</td>\n      <td>352500</td>\n      <td>630000</td>\n      <td>1100000</td>\n      <td>450000</td>\n    </tr>\n    <tr>\n      <th>Dec-20</th>\n      <td>717930</td>\n      <td>1060000</td>\n      <td>355000</td>\n      <td>408460</td>\n      <td>397500</td>\n      <td>763000</td>\n      <td>346000</td>\n      <td>538350</td>\n      <td>325500</td>\n      <td>297500</td>\n      <td>...</td>\n      <td>369900</td>\n      <td>273250</td>\n      <td>295000</td>\n      <td>330000</td>\n      <td>740000</td>\n      <td>515000</td>\n      <td>360000</td>\n      <td>625250</td>\n      <td>1058000</td>\n      <td>450000</td>\n    </tr>\n    <tr>\n      <th>Jan-21</th>\n      <td>699890</td>\n      <td>1060000</td>\n      <td>386360</td>\n      <td>420000</td>\n      <td>398500</td>\n      <td>765000</td>\n      <td>399000</td>\n      <td>604510</td>\n      <td>325000</td>\n      <td>247500</td>\n      <td>...</td>\n      <td>350000</td>\n      <td>250000</td>\n      <td>306920</td>\n      <td>350500</td>\n      <td>776000</td>\n      <td>490320</td>\n      <td>395000</td>\n      <td>630000</td>\n      <td>1025000</td>\n      <td>457000</td>\n    </tr>\n  </tbody>\n</table>\n<p>61 rows × 55 columns</p>\n</div>"
          },
          "metadata": {}
        }
      ],
      "execution_count": 16,
      "metadata": {
        "collapsed": true,
        "jupyter": {
          "source_hidden": false,
          "outputs_hidden": false
        },
        "nteract": {
          "transient": {
            "deleting": false
          }
        },
        "execution": {
          "iopub.status.busy": "2021-03-16T03:27:27.772Z",
          "iopub.execute_input": "2021-03-16T03:27:27.777Z",
          "iopub.status.idle": "2021-03-16T03:27:27.840Z",
          "shell.execute_reply": "2021-03-16T03:27:27.828Z"
        }
      }
    },
    {
      "cell_type": "code",
      "source": [
        "df = df.astype(float)\n",
        "df"
      ],
      "outputs": [
        {
          "output_type": "execute_result",
          "execution_count": 17,
          "data": {
            "text/plain": "              CA    Alameda    Amador     Butte  Calaveras  Contra-Costa  \\\nDate                                                                       \nJan-16  467160.0   700000.0  215500.0  260000.0   258750.0      500000.0   \nFeb-16  444780.0   715000.0  275000.0  264960.0   262500.0      529000.0   \nMar-16  484120.0   758000.0  307000.0  286810.0   270000.0      548780.0   \nApr-16  509240.0   800000.0  235000.0  272750.0   276000.0      565000.0   \nMay-16  519930.0   828000.0  268500.0  271000.0   287500.0      595000.0   \n...          ...        ...       ...       ...        ...           ...   \nSep-20  712430.0  1050000.0  359900.0  403300.0   392000.0      783000.0   \nOct-20  711300.0  1049000.0  366500.0  401500.0   393640.0      787250.0   \nNov-20  698980.0  1049040.0  360000.0  405000.0   407120.0      810000.0   \nDec-20  717930.0  1060000.0  355000.0  408460.0   397500.0      763000.0   \nJan-21  699890.0  1060000.0  386360.0  420000.0   398500.0      765000.0   \n\n        Del Norte  El Dorado    Fresno     Glenn  ...    Sutter    Tehama  \\\nDate                                              ...                       \nJan-16   157000.0   405000.0  216000.0  159975.0  ...  213700.0  190000.0   \nFeb-16   175000.0   422000.0  214250.0  197500.0  ...  230000.0  170750.0   \nMar-16   199000.0   435010.0  231000.0  196000.0  ...  232000.0  189500.0   \nApr-16   315000.0   432000.0  229000.0  225000.0  ...  232000.0  184000.0   \nMay-16   189500.0   429500.0  232000.0  175000.0  ...  235000.0  170000.0   \n...           ...        ...       ...       ...  ...       ...       ...   \nSep-20   308000.0   588000.0  325000.0  347520.0  ...  351000.0  285000.0   \nOct-20   325000.0   559000.0  331500.0  287500.0  ...  346050.0  283500.0   \nNov-20   308750.0   585000.0  323500.0  334750.0  ...  370000.0  371000.0   \nDec-20   346000.0   538350.0  325500.0  297500.0  ...  369900.0  273250.0   \nJan-21   399000.0   604510.0  325000.0  247500.0  ...  350000.0  250000.0   \n\n          Tulare  Tuolumne   Ventura      Yolo      Yuba  \\\nDate                                                       \nJan-16  195000.0  210000.0  638590.0  345000.0  210000.0   \nFeb-16  190000.0  256500.0  610820.0  379500.0  225000.0   \nMar-16  198000.0  244900.0  620020.0  362500.0  235450.0   \nApr-16  207250.0  253750.0  630100.0  419000.0  240000.0   \nMay-16  205000.0  242500.0  617740.0  398000.0  225000.0   \n...          ...       ...       ...       ...       ...   \nSep-20  275000.0  325000.0  787500.0  530000.0  342000.0   \nOct-20  283000.0  349500.0  750000.0  517250.0  350000.0   \nNov-20  280000.0  337500.0  760000.0  511000.0  352500.0   \nDec-20  295000.0  330000.0  740000.0  515000.0  360000.0   \nJan-21  306920.0  350500.0  776000.0  490320.0  395000.0   \n\n        Los Angeles Metropolitan Area  S.F. Bay Area  Inland Empire  \nDate                                                                 \nJan-16                       434000.0       690000.0       291920.0  \nFeb-16                       429980.0       698950.0       290270.0  \nMar-16                       448420.0       761090.0       309890.0  \nApr-16                       460940.0       831180.0       310840.0  \nMay-16                       469090.0       848580.0       315980.0  \n...                               ...            ...            ...  \nSep-20                       630000.0      1060000.0       445000.0  \nOct-20                       632710.0      1100000.0       445000.0  \nNov-20                       630000.0      1100000.0       450000.0  \nDec-20                       625250.0      1058000.0       450000.0  \nJan-21                       630000.0      1025000.0       457000.0  \n\n[61 rows x 55 columns]",
            "text/html": "<div>\n<style scoped>\n    .dataframe tbody tr th:only-of-type {\n        vertical-align: middle;\n    }\n\n    .dataframe tbody tr th {\n        vertical-align: top;\n    }\n\n    .dataframe thead th {\n        text-align: right;\n    }\n</style>\n<table border=\"1\" class=\"dataframe\">\n  <thead>\n    <tr style=\"text-align: right;\">\n      <th></th>\n      <th>CA</th>\n      <th>Alameda</th>\n      <th>Amador</th>\n      <th>Butte</th>\n      <th>Calaveras</th>\n      <th>Contra-Costa</th>\n      <th>Del Norte</th>\n      <th>El Dorado</th>\n      <th>Fresno</th>\n      <th>Glenn</th>\n      <th>...</th>\n      <th>Sutter</th>\n      <th>Tehama</th>\n      <th>Tulare</th>\n      <th>Tuolumne</th>\n      <th>Ventura</th>\n      <th>Yolo</th>\n      <th>Yuba</th>\n      <th>Los Angeles Metropolitan Area</th>\n      <th>S.F. Bay Area</th>\n      <th>Inland Empire</th>\n    </tr>\n    <tr>\n      <th>Date</th>\n      <th></th>\n      <th></th>\n      <th></th>\n      <th></th>\n      <th></th>\n      <th></th>\n      <th></th>\n      <th></th>\n      <th></th>\n      <th></th>\n      <th></th>\n      <th></th>\n      <th></th>\n      <th></th>\n      <th></th>\n      <th></th>\n      <th></th>\n      <th></th>\n      <th></th>\n      <th></th>\n      <th></th>\n    </tr>\n  </thead>\n  <tbody>\n    <tr>\n      <th>Jan-16</th>\n      <td>467160.0</td>\n      <td>700000.0</td>\n      <td>215500.0</td>\n      <td>260000.0</td>\n      <td>258750.0</td>\n      <td>500000.0</td>\n      <td>157000.0</td>\n      <td>405000.0</td>\n      <td>216000.0</td>\n      <td>159975.0</td>\n      <td>...</td>\n      <td>213700.0</td>\n      <td>190000.0</td>\n      <td>195000.0</td>\n      <td>210000.0</td>\n      <td>638590.0</td>\n      <td>345000.0</td>\n      <td>210000.0</td>\n      <td>434000.0</td>\n      <td>690000.0</td>\n      <td>291920.0</td>\n    </tr>\n    <tr>\n      <th>Feb-16</th>\n      <td>444780.0</td>\n      <td>715000.0</td>\n      <td>275000.0</td>\n      <td>264960.0</td>\n      <td>262500.0</td>\n      <td>529000.0</td>\n      <td>175000.0</td>\n      <td>422000.0</td>\n      <td>214250.0</td>\n      <td>197500.0</td>\n      <td>...</td>\n      <td>230000.0</td>\n      <td>170750.0</td>\n      <td>190000.0</td>\n      <td>256500.0</td>\n      <td>610820.0</td>\n      <td>379500.0</td>\n      <td>225000.0</td>\n      <td>429980.0</td>\n      <td>698950.0</td>\n      <td>290270.0</td>\n    </tr>\n    <tr>\n      <th>Mar-16</th>\n      <td>484120.0</td>\n      <td>758000.0</td>\n      <td>307000.0</td>\n      <td>286810.0</td>\n      <td>270000.0</td>\n      <td>548780.0</td>\n      <td>199000.0</td>\n      <td>435010.0</td>\n      <td>231000.0</td>\n      <td>196000.0</td>\n      <td>...</td>\n      <td>232000.0</td>\n      <td>189500.0</td>\n      <td>198000.0</td>\n      <td>244900.0</td>\n      <td>620020.0</td>\n      <td>362500.0</td>\n      <td>235450.0</td>\n      <td>448420.0</td>\n      <td>761090.0</td>\n      <td>309890.0</td>\n    </tr>\n    <tr>\n      <th>Apr-16</th>\n      <td>509240.0</td>\n      <td>800000.0</td>\n      <td>235000.0</td>\n      <td>272750.0</td>\n      <td>276000.0</td>\n      <td>565000.0</td>\n      <td>315000.0</td>\n      <td>432000.0</td>\n      <td>229000.0</td>\n      <td>225000.0</td>\n      <td>...</td>\n      <td>232000.0</td>\n      <td>184000.0</td>\n      <td>207250.0</td>\n      <td>253750.0</td>\n      <td>630100.0</td>\n      <td>419000.0</td>\n      <td>240000.0</td>\n      <td>460940.0</td>\n      <td>831180.0</td>\n      <td>310840.0</td>\n    </tr>\n    <tr>\n      <th>May-16</th>\n      <td>519930.0</td>\n      <td>828000.0</td>\n      <td>268500.0</td>\n      <td>271000.0</td>\n      <td>287500.0</td>\n      <td>595000.0</td>\n      <td>189500.0</td>\n      <td>429500.0</td>\n      <td>232000.0</td>\n      <td>175000.0</td>\n      <td>...</td>\n      <td>235000.0</td>\n      <td>170000.0</td>\n      <td>205000.0</td>\n      <td>242500.0</td>\n      <td>617740.0</td>\n      <td>398000.0</td>\n      <td>225000.0</td>\n      <td>469090.0</td>\n      <td>848580.0</td>\n      <td>315980.0</td>\n    </tr>\n    <tr>\n      <th>...</th>\n      <td>...</td>\n      <td>...</td>\n      <td>...</td>\n      <td>...</td>\n      <td>...</td>\n      <td>...</td>\n      <td>...</td>\n      <td>...</td>\n      <td>...</td>\n      <td>...</td>\n      <td>...</td>\n      <td>...</td>\n      <td>...</td>\n      <td>...</td>\n      <td>...</td>\n      <td>...</td>\n      <td>...</td>\n      <td>...</td>\n      <td>...</td>\n      <td>...</td>\n      <td>...</td>\n    </tr>\n    <tr>\n      <th>Sep-20</th>\n      <td>712430.0</td>\n      <td>1050000.0</td>\n      <td>359900.0</td>\n      <td>403300.0</td>\n      <td>392000.0</td>\n      <td>783000.0</td>\n      <td>308000.0</td>\n      <td>588000.0</td>\n      <td>325000.0</td>\n      <td>347520.0</td>\n      <td>...</td>\n      <td>351000.0</td>\n      <td>285000.0</td>\n      <td>275000.0</td>\n      <td>325000.0</td>\n      <td>787500.0</td>\n      <td>530000.0</td>\n      <td>342000.0</td>\n      <td>630000.0</td>\n      <td>1060000.0</td>\n      <td>445000.0</td>\n    </tr>\n    <tr>\n      <th>Oct-20</th>\n      <td>711300.0</td>\n      <td>1049000.0</td>\n      <td>366500.0</td>\n      <td>401500.0</td>\n      <td>393640.0</td>\n      <td>787250.0</td>\n      <td>325000.0</td>\n      <td>559000.0</td>\n      <td>331500.0</td>\n      <td>287500.0</td>\n      <td>...</td>\n      <td>346050.0</td>\n      <td>283500.0</td>\n      <td>283000.0</td>\n      <td>349500.0</td>\n      <td>750000.0</td>\n      <td>517250.0</td>\n      <td>350000.0</td>\n      <td>632710.0</td>\n      <td>1100000.0</td>\n      <td>445000.0</td>\n    </tr>\n    <tr>\n      <th>Nov-20</th>\n      <td>698980.0</td>\n      <td>1049040.0</td>\n      <td>360000.0</td>\n      <td>405000.0</td>\n      <td>407120.0</td>\n      <td>810000.0</td>\n      <td>308750.0</td>\n      <td>585000.0</td>\n      <td>323500.0</td>\n      <td>334750.0</td>\n      <td>...</td>\n      <td>370000.0</td>\n      <td>371000.0</td>\n      <td>280000.0</td>\n      <td>337500.0</td>\n      <td>760000.0</td>\n      <td>511000.0</td>\n      <td>352500.0</td>\n      <td>630000.0</td>\n      <td>1100000.0</td>\n      <td>450000.0</td>\n    </tr>\n    <tr>\n      <th>Dec-20</th>\n      <td>717930.0</td>\n      <td>1060000.0</td>\n      <td>355000.0</td>\n      <td>408460.0</td>\n      <td>397500.0</td>\n      <td>763000.0</td>\n      <td>346000.0</td>\n      <td>538350.0</td>\n      <td>325500.0</td>\n      <td>297500.0</td>\n      <td>...</td>\n      <td>369900.0</td>\n      <td>273250.0</td>\n      <td>295000.0</td>\n      <td>330000.0</td>\n      <td>740000.0</td>\n      <td>515000.0</td>\n      <td>360000.0</td>\n      <td>625250.0</td>\n      <td>1058000.0</td>\n      <td>450000.0</td>\n    </tr>\n    <tr>\n      <th>Jan-21</th>\n      <td>699890.0</td>\n      <td>1060000.0</td>\n      <td>386360.0</td>\n      <td>420000.0</td>\n      <td>398500.0</td>\n      <td>765000.0</td>\n      <td>399000.0</td>\n      <td>604510.0</td>\n      <td>325000.0</td>\n      <td>247500.0</td>\n      <td>...</td>\n      <td>350000.0</td>\n      <td>250000.0</td>\n      <td>306920.0</td>\n      <td>350500.0</td>\n      <td>776000.0</td>\n      <td>490320.0</td>\n      <td>395000.0</td>\n      <td>630000.0</td>\n      <td>1025000.0</td>\n      <td>457000.0</td>\n    </tr>\n  </tbody>\n</table>\n<p>61 rows × 55 columns</p>\n</div>"
          },
          "metadata": {}
        }
      ],
      "execution_count": 17,
      "metadata": {
        "collapsed": true,
        "jupyter": {
          "source_hidden": false,
          "outputs_hidden": false
        },
        "nteract": {
          "transient": {
            "deleting": false
          }
        },
        "execution": {
          "iopub.status.busy": "2021-03-16T03:27:27.851Z",
          "iopub.execute_input": "2021-03-16T03:27:27.856Z",
          "iopub.status.idle": "2021-03-16T03:27:27.866Z",
          "shell.execute_reply": "2021-03-16T03:27:27.832Z"
        }
      }
    },
    {
      "cell_type": "code",
      "source": [
        "df = round(df, 2)\n",
        "df"
      ],
      "outputs": [
        {
          "output_type": "execute_result",
          "execution_count": 18,
          "data": {
            "text/plain": "              CA    Alameda    Amador     Butte  Calaveras  Contra-Costa  \\\nDate                                                                       \nJan-16  467160.0   700000.0  215500.0  260000.0   258750.0      500000.0   \nFeb-16  444780.0   715000.0  275000.0  264960.0   262500.0      529000.0   \nMar-16  484120.0   758000.0  307000.0  286810.0   270000.0      548780.0   \nApr-16  509240.0   800000.0  235000.0  272750.0   276000.0      565000.0   \nMay-16  519930.0   828000.0  268500.0  271000.0   287500.0      595000.0   \n...          ...        ...       ...       ...        ...           ...   \nSep-20  712430.0  1050000.0  359900.0  403300.0   392000.0      783000.0   \nOct-20  711300.0  1049000.0  366500.0  401500.0   393640.0      787250.0   \nNov-20  698980.0  1049040.0  360000.0  405000.0   407120.0      810000.0   \nDec-20  717930.0  1060000.0  355000.0  408460.0   397500.0      763000.0   \nJan-21  699890.0  1060000.0  386360.0  420000.0   398500.0      765000.0   \n\n        Del Norte  El Dorado    Fresno     Glenn  ...    Sutter    Tehama  \\\nDate                                              ...                       \nJan-16   157000.0   405000.0  216000.0  159975.0  ...  213700.0  190000.0   \nFeb-16   175000.0   422000.0  214250.0  197500.0  ...  230000.0  170750.0   \nMar-16   199000.0   435010.0  231000.0  196000.0  ...  232000.0  189500.0   \nApr-16   315000.0   432000.0  229000.0  225000.0  ...  232000.0  184000.0   \nMay-16   189500.0   429500.0  232000.0  175000.0  ...  235000.0  170000.0   \n...           ...        ...       ...       ...  ...       ...       ...   \nSep-20   308000.0   588000.0  325000.0  347520.0  ...  351000.0  285000.0   \nOct-20   325000.0   559000.0  331500.0  287500.0  ...  346050.0  283500.0   \nNov-20   308750.0   585000.0  323500.0  334750.0  ...  370000.0  371000.0   \nDec-20   346000.0   538350.0  325500.0  297500.0  ...  369900.0  273250.0   \nJan-21   399000.0   604510.0  325000.0  247500.0  ...  350000.0  250000.0   \n\n          Tulare  Tuolumne   Ventura      Yolo      Yuba  \\\nDate                                                       \nJan-16  195000.0  210000.0  638590.0  345000.0  210000.0   \nFeb-16  190000.0  256500.0  610820.0  379500.0  225000.0   \nMar-16  198000.0  244900.0  620020.0  362500.0  235450.0   \nApr-16  207250.0  253750.0  630100.0  419000.0  240000.0   \nMay-16  205000.0  242500.0  617740.0  398000.0  225000.0   \n...          ...       ...       ...       ...       ...   \nSep-20  275000.0  325000.0  787500.0  530000.0  342000.0   \nOct-20  283000.0  349500.0  750000.0  517250.0  350000.0   \nNov-20  280000.0  337500.0  760000.0  511000.0  352500.0   \nDec-20  295000.0  330000.0  740000.0  515000.0  360000.0   \nJan-21  306920.0  350500.0  776000.0  490320.0  395000.0   \n\n        Los Angeles Metropolitan Area  S.F. Bay Area  Inland Empire  \nDate                                                                 \nJan-16                       434000.0       690000.0       291920.0  \nFeb-16                       429980.0       698950.0       290270.0  \nMar-16                       448420.0       761090.0       309890.0  \nApr-16                       460940.0       831180.0       310840.0  \nMay-16                       469090.0       848580.0       315980.0  \n...                               ...            ...            ...  \nSep-20                       630000.0      1060000.0       445000.0  \nOct-20                       632710.0      1100000.0       445000.0  \nNov-20                       630000.0      1100000.0       450000.0  \nDec-20                       625250.0      1058000.0       450000.0  \nJan-21                       630000.0      1025000.0       457000.0  \n\n[61 rows x 55 columns]",
            "text/html": "<div>\n<style scoped>\n    .dataframe tbody tr th:only-of-type {\n        vertical-align: middle;\n    }\n\n    .dataframe tbody tr th {\n        vertical-align: top;\n    }\n\n    .dataframe thead th {\n        text-align: right;\n    }\n</style>\n<table border=\"1\" class=\"dataframe\">\n  <thead>\n    <tr style=\"text-align: right;\">\n      <th></th>\n      <th>CA</th>\n      <th>Alameda</th>\n      <th>Amador</th>\n      <th>Butte</th>\n      <th>Calaveras</th>\n      <th>Contra-Costa</th>\n      <th>Del Norte</th>\n      <th>El Dorado</th>\n      <th>Fresno</th>\n      <th>Glenn</th>\n      <th>...</th>\n      <th>Sutter</th>\n      <th>Tehama</th>\n      <th>Tulare</th>\n      <th>Tuolumne</th>\n      <th>Ventura</th>\n      <th>Yolo</th>\n      <th>Yuba</th>\n      <th>Los Angeles Metropolitan Area</th>\n      <th>S.F. Bay Area</th>\n      <th>Inland Empire</th>\n    </tr>\n    <tr>\n      <th>Date</th>\n      <th></th>\n      <th></th>\n      <th></th>\n      <th></th>\n      <th></th>\n      <th></th>\n      <th></th>\n      <th></th>\n      <th></th>\n      <th></th>\n      <th></th>\n      <th></th>\n      <th></th>\n      <th></th>\n      <th></th>\n      <th></th>\n      <th></th>\n      <th></th>\n      <th></th>\n      <th></th>\n      <th></th>\n    </tr>\n  </thead>\n  <tbody>\n    <tr>\n      <th>Jan-16</th>\n      <td>467160.0</td>\n      <td>700000.0</td>\n      <td>215500.0</td>\n      <td>260000.0</td>\n      <td>258750.0</td>\n      <td>500000.0</td>\n      <td>157000.0</td>\n      <td>405000.0</td>\n      <td>216000.0</td>\n      <td>159975.0</td>\n      <td>...</td>\n      <td>213700.0</td>\n      <td>190000.0</td>\n      <td>195000.0</td>\n      <td>210000.0</td>\n      <td>638590.0</td>\n      <td>345000.0</td>\n      <td>210000.0</td>\n      <td>434000.0</td>\n      <td>690000.0</td>\n      <td>291920.0</td>\n    </tr>\n    <tr>\n      <th>Feb-16</th>\n      <td>444780.0</td>\n      <td>715000.0</td>\n      <td>275000.0</td>\n      <td>264960.0</td>\n      <td>262500.0</td>\n      <td>529000.0</td>\n      <td>175000.0</td>\n      <td>422000.0</td>\n      <td>214250.0</td>\n      <td>197500.0</td>\n      <td>...</td>\n      <td>230000.0</td>\n      <td>170750.0</td>\n      <td>190000.0</td>\n      <td>256500.0</td>\n      <td>610820.0</td>\n      <td>379500.0</td>\n      <td>225000.0</td>\n      <td>429980.0</td>\n      <td>698950.0</td>\n      <td>290270.0</td>\n    </tr>\n    <tr>\n      <th>Mar-16</th>\n      <td>484120.0</td>\n      <td>758000.0</td>\n      <td>307000.0</td>\n      <td>286810.0</td>\n      <td>270000.0</td>\n      <td>548780.0</td>\n      <td>199000.0</td>\n      <td>435010.0</td>\n      <td>231000.0</td>\n      <td>196000.0</td>\n      <td>...</td>\n      <td>232000.0</td>\n      <td>189500.0</td>\n      <td>198000.0</td>\n      <td>244900.0</td>\n      <td>620020.0</td>\n      <td>362500.0</td>\n      <td>235450.0</td>\n      <td>448420.0</td>\n      <td>761090.0</td>\n      <td>309890.0</td>\n    </tr>\n    <tr>\n      <th>Apr-16</th>\n      <td>509240.0</td>\n      <td>800000.0</td>\n      <td>235000.0</td>\n      <td>272750.0</td>\n      <td>276000.0</td>\n      <td>565000.0</td>\n      <td>315000.0</td>\n      <td>432000.0</td>\n      <td>229000.0</td>\n      <td>225000.0</td>\n      <td>...</td>\n      <td>232000.0</td>\n      <td>184000.0</td>\n      <td>207250.0</td>\n      <td>253750.0</td>\n      <td>630100.0</td>\n      <td>419000.0</td>\n      <td>240000.0</td>\n      <td>460940.0</td>\n      <td>831180.0</td>\n      <td>310840.0</td>\n    </tr>\n    <tr>\n      <th>May-16</th>\n      <td>519930.0</td>\n      <td>828000.0</td>\n      <td>268500.0</td>\n      <td>271000.0</td>\n      <td>287500.0</td>\n      <td>595000.0</td>\n      <td>189500.0</td>\n      <td>429500.0</td>\n      <td>232000.0</td>\n      <td>175000.0</td>\n      <td>...</td>\n      <td>235000.0</td>\n      <td>170000.0</td>\n      <td>205000.0</td>\n      <td>242500.0</td>\n      <td>617740.0</td>\n      <td>398000.0</td>\n      <td>225000.0</td>\n      <td>469090.0</td>\n      <td>848580.0</td>\n      <td>315980.0</td>\n    </tr>\n    <tr>\n      <th>...</th>\n      <td>...</td>\n      <td>...</td>\n      <td>...</td>\n      <td>...</td>\n      <td>...</td>\n      <td>...</td>\n      <td>...</td>\n      <td>...</td>\n      <td>...</td>\n      <td>...</td>\n      <td>...</td>\n      <td>...</td>\n      <td>...</td>\n      <td>...</td>\n      <td>...</td>\n      <td>...</td>\n      <td>...</td>\n      <td>...</td>\n      <td>...</td>\n      <td>...</td>\n      <td>...</td>\n    </tr>\n    <tr>\n      <th>Sep-20</th>\n      <td>712430.0</td>\n      <td>1050000.0</td>\n      <td>359900.0</td>\n      <td>403300.0</td>\n      <td>392000.0</td>\n      <td>783000.0</td>\n      <td>308000.0</td>\n      <td>588000.0</td>\n      <td>325000.0</td>\n      <td>347520.0</td>\n      <td>...</td>\n      <td>351000.0</td>\n      <td>285000.0</td>\n      <td>275000.0</td>\n      <td>325000.0</td>\n      <td>787500.0</td>\n      <td>530000.0</td>\n      <td>342000.0</td>\n      <td>630000.0</td>\n      <td>1060000.0</td>\n      <td>445000.0</td>\n    </tr>\n    <tr>\n      <th>Oct-20</th>\n      <td>711300.0</td>\n      <td>1049000.0</td>\n      <td>366500.0</td>\n      <td>401500.0</td>\n      <td>393640.0</td>\n      <td>787250.0</td>\n      <td>325000.0</td>\n      <td>559000.0</td>\n      <td>331500.0</td>\n      <td>287500.0</td>\n      <td>...</td>\n      <td>346050.0</td>\n      <td>283500.0</td>\n      <td>283000.0</td>\n      <td>349500.0</td>\n      <td>750000.0</td>\n      <td>517250.0</td>\n      <td>350000.0</td>\n      <td>632710.0</td>\n      <td>1100000.0</td>\n      <td>445000.0</td>\n    </tr>\n    <tr>\n      <th>Nov-20</th>\n      <td>698980.0</td>\n      <td>1049040.0</td>\n      <td>360000.0</td>\n      <td>405000.0</td>\n      <td>407120.0</td>\n      <td>810000.0</td>\n      <td>308750.0</td>\n      <td>585000.0</td>\n      <td>323500.0</td>\n      <td>334750.0</td>\n      <td>...</td>\n      <td>370000.0</td>\n      <td>371000.0</td>\n      <td>280000.0</td>\n      <td>337500.0</td>\n      <td>760000.0</td>\n      <td>511000.0</td>\n      <td>352500.0</td>\n      <td>630000.0</td>\n      <td>1100000.0</td>\n      <td>450000.0</td>\n    </tr>\n    <tr>\n      <th>Dec-20</th>\n      <td>717930.0</td>\n      <td>1060000.0</td>\n      <td>355000.0</td>\n      <td>408460.0</td>\n      <td>397500.0</td>\n      <td>763000.0</td>\n      <td>346000.0</td>\n      <td>538350.0</td>\n      <td>325500.0</td>\n      <td>297500.0</td>\n      <td>...</td>\n      <td>369900.0</td>\n      <td>273250.0</td>\n      <td>295000.0</td>\n      <td>330000.0</td>\n      <td>740000.0</td>\n      <td>515000.0</td>\n      <td>360000.0</td>\n      <td>625250.0</td>\n      <td>1058000.0</td>\n      <td>450000.0</td>\n    </tr>\n    <tr>\n      <th>Jan-21</th>\n      <td>699890.0</td>\n      <td>1060000.0</td>\n      <td>386360.0</td>\n      <td>420000.0</td>\n      <td>398500.0</td>\n      <td>765000.0</td>\n      <td>399000.0</td>\n      <td>604510.0</td>\n      <td>325000.0</td>\n      <td>247500.0</td>\n      <td>...</td>\n      <td>350000.0</td>\n      <td>250000.0</td>\n      <td>306920.0</td>\n      <td>350500.0</td>\n      <td>776000.0</td>\n      <td>490320.0</td>\n      <td>395000.0</td>\n      <td>630000.0</td>\n      <td>1025000.0</td>\n      <td>457000.0</td>\n    </tr>\n  </tbody>\n</table>\n<p>61 rows × 55 columns</p>\n</div>"
          },
          "metadata": {}
        }
      ],
      "execution_count": 18,
      "metadata": {
        "collapsed": true,
        "jupyter": {
          "source_hidden": false,
          "outputs_hidden": false
        },
        "nteract": {
          "transient": {
            "deleting": false
          }
        },
        "execution": {
          "iopub.status.busy": "2021-03-16T03:27:27.874Z",
          "iopub.execute_input": "2021-03-16T03:27:27.880Z",
          "iopub.status.idle": "2021-03-16T03:27:27.891Z",
          "shell.execute_reply": "2021-03-16T03:27:27.951Z"
        }
      }
    },
    {
      "cell_type": "code",
      "source": [
        "df.describe()"
      ],
      "outputs": [
        {
          "output_type": "execute_result",
          "execution_count": 20,
          "data": {
            "text/plain": "                  CA       Alameda         Amador          Butte  \\\ncount      61.000000  6.100000e+01      61.000000      61.000000   \nmean   572578.672131  8.952584e+05  318206.229508  330022.295082   \nstd     62701.221569  9.279843e+04   33129.402508   44008.955429   \nmin    444780.000000  7.000000e+05  215500.000000  260000.000000   \n25%    527490.000000  8.320000e+05  309000.000000  294250.000000   \n50%    565330.000000  9.000000e+05  325000.000000  318000.000000   \n75%    605680.000000  9.600000e+05  336500.000000  360000.000000   \nmax    717930.000000  1.060000e+06  386360.000000  420000.000000   \n\n           Calaveras   Contra-Costa      Del Norte      El Dorado  \\\ncount      61.000000      61.000000      61.000000      61.000000   \nmean   325375.901639  646627.114754  244569.836066  483285.721311   \nstd     34642.713586   72803.599498   51487.506106   46937.423460   \nmin    258750.000000  500000.000000  130000.000000  405000.000000   \n25%    300050.000000  600000.000000  214000.000000  449950.000000   \n50%    325500.000000  649480.000000  239000.000000  480000.000000   \n75%    343500.000000  687500.000000  265000.000000  510000.000000   \nmax    407120.000000  810000.000000  399000.000000  604510.000000   \n\n              Fresno          Glenn  ...         Sutter         Tehama  \\\ncount      61.000000      61.000000  ...      61.000000      61.000000   \nmean   269933.770492  241477.131148  ...  292976.721311  231080.327869   \nstd     29148.133740   40103.402437  ...   36320.850748   38983.450846   \nmin    214250.000000  159975.000000  ...  213700.000000  163000.000000   \n25%    245450.000000  215000.000000  ...  270000.000000  203000.000000   \n50%    266500.000000  230000.000000  ...  290000.000000  225000.000000   \n75%    285000.000000  263500.000000  ...  318500.000000  259250.000000   \nmax    331500.000000  347520.000000  ...  370000.000000  371000.000000   \n\n              Tulare       Tuolumne        Ventura           Yolo  \\\ncount      61.000000      61.000000      61.000000      61.000000   \nmean   234807.377049  289910.491803  654630.163934  438260.163934   \nstd     25229.547750   30143.057599   45171.328129   42617.973692   \nmin    190000.000000  210000.000000  582500.000000  345000.000000   \n25%    215730.000000  269900.000000  627000.000000  407000.000000   \n50%    232500.000000  297000.000000  648500.000000  441000.000000   \n75%    250000.000000  309000.000000  665000.000000  463500.000000   \nmax    306920.000000  350500.000000  787500.000000  530000.000000   \n\n                Yuba  Los Angeles Metropolitan Area  S.F. Bay Area  \\\ncount      61.000000                      61.000000   6.100000e+01   \nmean   284031.639344                  517955.901639   9.069311e+05   \nstd     37331.036024                   50311.846828   9.955817e+04   \nmin    210000.000000                  429980.000000   6.900000e+05   \n25%    256000.000000                  480000.000000   8.360000e+05   \n50%    277900.000000                  515000.000000   9.000000e+05   \n75%    305000.000000                  545000.000000   9.800000e+05   \nmax    395000.000000                  632710.000000   1.100000e+06   \n\n       Inland Empire  \ncount      61.000000  \nmean   362249.016393  \nstd     40381.458233  \nmin    290270.000000  \n25%    335000.000000  \n50%    359000.000000  \n75%    384000.000000  \nmax    457000.000000  \n\n[8 rows x 55 columns]",
            "text/html": "<div>\n<style scoped>\n    .dataframe tbody tr th:only-of-type {\n        vertical-align: middle;\n    }\n\n    .dataframe tbody tr th {\n        vertical-align: top;\n    }\n\n    .dataframe thead th {\n        text-align: right;\n    }\n</style>\n<table border=\"1\" class=\"dataframe\">\n  <thead>\n    <tr style=\"text-align: right;\">\n      <th></th>\n      <th>CA</th>\n      <th>Alameda</th>\n      <th>Amador</th>\n      <th>Butte</th>\n      <th>Calaveras</th>\n      <th>Contra-Costa</th>\n      <th>Del Norte</th>\n      <th>El Dorado</th>\n      <th>Fresno</th>\n      <th>Glenn</th>\n      <th>...</th>\n      <th>Sutter</th>\n      <th>Tehama</th>\n      <th>Tulare</th>\n      <th>Tuolumne</th>\n      <th>Ventura</th>\n      <th>Yolo</th>\n      <th>Yuba</th>\n      <th>Los Angeles Metropolitan Area</th>\n      <th>S.F. Bay Area</th>\n      <th>Inland Empire</th>\n    </tr>\n  </thead>\n  <tbody>\n    <tr>\n      <th>count</th>\n      <td>61.000000</td>\n      <td>6.100000e+01</td>\n      <td>61.000000</td>\n      <td>61.000000</td>\n      <td>61.000000</td>\n      <td>61.000000</td>\n      <td>61.000000</td>\n      <td>61.000000</td>\n      <td>61.000000</td>\n      <td>61.000000</td>\n      <td>...</td>\n      <td>61.000000</td>\n      <td>61.000000</td>\n      <td>61.000000</td>\n      <td>61.000000</td>\n      <td>61.000000</td>\n      <td>61.000000</td>\n      <td>61.000000</td>\n      <td>61.000000</td>\n      <td>6.100000e+01</td>\n      <td>61.000000</td>\n    </tr>\n    <tr>\n      <th>mean</th>\n      <td>572578.672131</td>\n      <td>8.952584e+05</td>\n      <td>318206.229508</td>\n      <td>330022.295082</td>\n      <td>325375.901639</td>\n      <td>646627.114754</td>\n      <td>244569.836066</td>\n      <td>483285.721311</td>\n      <td>269933.770492</td>\n      <td>241477.131148</td>\n      <td>...</td>\n      <td>292976.721311</td>\n      <td>231080.327869</td>\n      <td>234807.377049</td>\n      <td>289910.491803</td>\n      <td>654630.163934</td>\n      <td>438260.163934</td>\n      <td>284031.639344</td>\n      <td>517955.901639</td>\n      <td>9.069311e+05</td>\n      <td>362249.016393</td>\n    </tr>\n    <tr>\n      <th>std</th>\n      <td>62701.221569</td>\n      <td>9.279843e+04</td>\n      <td>33129.402508</td>\n      <td>44008.955429</td>\n      <td>34642.713586</td>\n      <td>72803.599498</td>\n      <td>51487.506106</td>\n      <td>46937.423460</td>\n      <td>29148.133740</td>\n      <td>40103.402437</td>\n      <td>...</td>\n      <td>36320.850748</td>\n      <td>38983.450846</td>\n      <td>25229.547750</td>\n      <td>30143.057599</td>\n      <td>45171.328129</td>\n      <td>42617.973692</td>\n      <td>37331.036024</td>\n      <td>50311.846828</td>\n      <td>9.955817e+04</td>\n      <td>40381.458233</td>\n    </tr>\n    <tr>\n      <th>min</th>\n      <td>444780.000000</td>\n      <td>7.000000e+05</td>\n      <td>215500.000000</td>\n      <td>260000.000000</td>\n      <td>258750.000000</td>\n      <td>500000.000000</td>\n      <td>130000.000000</td>\n      <td>405000.000000</td>\n      <td>214250.000000</td>\n      <td>159975.000000</td>\n      <td>...</td>\n      <td>213700.000000</td>\n      <td>163000.000000</td>\n      <td>190000.000000</td>\n      <td>210000.000000</td>\n      <td>582500.000000</td>\n      <td>345000.000000</td>\n      <td>210000.000000</td>\n      <td>429980.000000</td>\n      <td>6.900000e+05</td>\n      <td>290270.000000</td>\n    </tr>\n    <tr>\n      <th>25%</th>\n      <td>527490.000000</td>\n      <td>8.320000e+05</td>\n      <td>309000.000000</td>\n      <td>294250.000000</td>\n      <td>300050.000000</td>\n      <td>600000.000000</td>\n      <td>214000.000000</td>\n      <td>449950.000000</td>\n      <td>245450.000000</td>\n      <td>215000.000000</td>\n      <td>...</td>\n      <td>270000.000000</td>\n      <td>203000.000000</td>\n      <td>215730.000000</td>\n      <td>269900.000000</td>\n      <td>627000.000000</td>\n      <td>407000.000000</td>\n      <td>256000.000000</td>\n      <td>480000.000000</td>\n      <td>8.360000e+05</td>\n      <td>335000.000000</td>\n    </tr>\n    <tr>\n      <th>50%</th>\n      <td>565330.000000</td>\n      <td>9.000000e+05</td>\n      <td>325000.000000</td>\n      <td>318000.000000</td>\n      <td>325500.000000</td>\n      <td>649480.000000</td>\n      <td>239000.000000</td>\n      <td>480000.000000</td>\n      <td>266500.000000</td>\n      <td>230000.000000</td>\n      <td>...</td>\n      <td>290000.000000</td>\n      <td>225000.000000</td>\n      <td>232500.000000</td>\n      <td>297000.000000</td>\n      <td>648500.000000</td>\n      <td>441000.000000</td>\n      <td>277900.000000</td>\n      <td>515000.000000</td>\n      <td>9.000000e+05</td>\n      <td>359000.000000</td>\n    </tr>\n    <tr>\n      <th>75%</th>\n      <td>605680.000000</td>\n      <td>9.600000e+05</td>\n      <td>336500.000000</td>\n      <td>360000.000000</td>\n      <td>343500.000000</td>\n      <td>687500.000000</td>\n      <td>265000.000000</td>\n      <td>510000.000000</td>\n      <td>285000.000000</td>\n      <td>263500.000000</td>\n      <td>...</td>\n      <td>318500.000000</td>\n      <td>259250.000000</td>\n      <td>250000.000000</td>\n      <td>309000.000000</td>\n      <td>665000.000000</td>\n      <td>463500.000000</td>\n      <td>305000.000000</td>\n      <td>545000.000000</td>\n      <td>9.800000e+05</td>\n      <td>384000.000000</td>\n    </tr>\n    <tr>\n      <th>max</th>\n      <td>717930.000000</td>\n      <td>1.060000e+06</td>\n      <td>386360.000000</td>\n      <td>420000.000000</td>\n      <td>407120.000000</td>\n      <td>810000.000000</td>\n      <td>399000.000000</td>\n      <td>604510.000000</td>\n      <td>331500.000000</td>\n      <td>347520.000000</td>\n      <td>...</td>\n      <td>370000.000000</td>\n      <td>371000.000000</td>\n      <td>306920.000000</td>\n      <td>350500.000000</td>\n      <td>787500.000000</td>\n      <td>530000.000000</td>\n      <td>395000.000000</td>\n      <td>632710.000000</td>\n      <td>1.100000e+06</td>\n      <td>457000.000000</td>\n    </tr>\n  </tbody>\n</table>\n<p>8 rows × 55 columns</p>\n</div>"
          },
          "metadata": {}
        }
      ],
      "execution_count": 20,
      "metadata": {
        "collapsed": true,
        "jupyter": {
          "source_hidden": false,
          "outputs_hidden": false
        },
        "nteract": {
          "transient": {
            "deleting": false
          }
        },
        "execution": {
          "iopub.status.busy": "2021-03-16T03:27:37.918Z",
          "iopub.execute_input": "2021-03-16T03:27:37.933Z",
          "iopub.status.idle": "2021-03-16T03:27:38.012Z",
          "shell.execute_reply": "2021-03-16T03:27:38.004Z"
        }
      }
    },
    {
      "cell_type": "code",
      "source": [
        "df.to_csv('California_City_Homes_Prices_clean.csv')"
      ],
      "outputs": [],
      "execution_count": 23,
      "metadata": {
        "collapsed": true,
        "jupyter": {
          "source_hidden": false,
          "outputs_hidden": false
        },
        "nteract": {
          "transient": {
            "deleting": false
          }
        },
        "execution": {
          "iopub.status.busy": "2021-03-16T03:29:20.803Z",
          "iopub.execute_input": "2021-03-16T03:29:20.811Z",
          "iopub.status.idle": "2021-03-16T03:29:20.821Z",
          "shell.execute_reply": "2021-03-16T03:29:20.832Z"
        }
      }
    }
  ],
  "metadata": {
    "kernel_info": {
      "name": "python3"
    },
    "language_info": {
      "name": "python",
      "version": "3.6.12",
      "mimetype": "text/x-python",
      "codemirror_mode": {
        "name": "ipython",
        "version": 3
      },
      "pygments_lexer": "ipython3",
      "nbconvert_exporter": "python",
      "file_extension": ".py"
    },
    "kernelspec": {
      "argv": [
        "C:/Users/Tin Hang/Anaconda3\\python.exe",
        "-m",
        "ipykernel_launcher",
        "-f",
        "{connection_file}"
      ],
      "display_name": "Python 3",
      "language": "python",
      "name": "python3"
    },
    "nteract": {
      "version": "0.28.0"
    }
  },
  "nbformat": 4,
  "nbformat_minor": 0
}