{
  "cells": [
    {
      "cell_type": "markdown",
      "source": [
        "# Pandas Data Analysis in Salem Witchcraft"
      ],
      "metadata": {}
    },
    {
      "cell_type": "code",
      "source": [
        "# Library\n",
        "import pandas as pd"
      ],
      "outputs": [],
      "execution_count": 1,
      "metadata": {
        "collapsed": false,
        "outputHidden": false,
        "inputHidden": false
      }
    },
    {
      "cell_type": "code",
      "source": [
        "# Read CSV file \n",
        "accused = pd.read_csv('Accused-Witches-Data-Set.csv')\n",
        "anti = pd.read_csv('Anti-Parris-Social-Data-Set.csv')\n",
        "committee = pd.read_csv('Committee-List-Data-Set.csv')\n",
        "committee_yearly = pd.read_csv('Committee-Yearly-Data-Set.csv')\n",
        "pro = pd.read_csv('Pro-Parris-Social-Data-Set.csv')\n",
        "salem = pd.read_csv('Salem-Village-Data-Set.csv')\n",
        "tax = pd.read_csv('Tax-Comparison-Data-Set.csv')\n",
        "towns = pd.read_csv('Towns-Data-Set.csv')"
      ],
      "outputs": [],
      "execution_count": 2,
      "metadata": {
        "collapsed": false,
        "outputHidden": false,
        "inputHidden": false
      }
    },
    {
      "cell_type": "markdown",
      "source": [
        "## Accused Witches Data Set"
      ],
      "metadata": {}
    },
    {
      "cell_type": "code",
      "source": [
        "# Read first 5 rows\n",
        "accused.head()"
      ],
      "outputs": [
        {
          "output_type": "execute_result",
          "execution_count": 3,
          "data": {
            "text/html": [
              "<div>\n",
              "<style scoped>\n",
              "    .dataframe tbody tr th:only-of-type {\n",
              "        vertical-align: middle;\n",
              "    }\n",
              "\n",
              "    .dataframe tbody tr th {\n",
              "        vertical-align: top;\n",
              "    }\n",
              "\n",
              "    .dataframe thead th {\n",
              "        text-align: right;\n",
              "    }\n",
              "</style>\n",
              "<table border=\"1\" class=\"dataframe\">\n",
              "  <thead>\n",
              "    <tr style=\"text-align: right;\">\n",
              "      <th></th>\n",
              "      <th>Accused Witch</th>\n",
              "      <th>Residence</th>\n",
              "      <th>Month of Accusation</th>\n",
              "      <th>Month of Execution</th>\n",
              "      <th>Sort</th>\n",
              "    </tr>\n",
              "  </thead>\n",
              "  <tbody>\n",
              "    <tr>\n",
              "      <th>0</th>\n",
              "      <td>Abbott, Arthur</td>\n",
              "      <td>Ipswich</td>\n",
              "      <td>5</td>\n",
              "      <td>NaN</td>\n",
              "      <td>1</td>\n",
              "    </tr>\n",
              "    <tr>\n",
              "      <th>1</th>\n",
              "      <td>Abbott, Nehemiah, Jr.</td>\n",
              "      <td>Topsfield</td>\n",
              "      <td>4</td>\n",
              "      <td>NaN</td>\n",
              "      <td>2</td>\n",
              "    </tr>\n",
              "    <tr>\n",
              "      <th>2</th>\n",
              "      <td>Alden, John</td>\n",
              "      <td>Boston</td>\n",
              "      <td>5</td>\n",
              "      <td>NaN</td>\n",
              "      <td>3</td>\n",
              "    </tr>\n",
              "    <tr>\n",
              "      <th>3</th>\n",
              "      <td>Andrew, Daniel</td>\n",
              "      <td>Salem Village</td>\n",
              "      <td>5</td>\n",
              "      <td>NaN</td>\n",
              "      <td>4</td>\n",
              "    </tr>\n",
              "    <tr>\n",
              "      <th>4</th>\n",
              "      <td>Barker, Abigail</td>\n",
              "      <td>Andover</td>\n",
              "      <td>9</td>\n",
              "      <td>NaN</td>\n",
              "      <td>5</td>\n",
              "    </tr>\n",
              "  </tbody>\n",
              "</table>\n",
              "</div>"
            ],
            "text/plain": [
              "           Accused Witch       Residence   Month of Accusation  \\\n",
              "0         Abbott, Arthur         Ipswich                     5   \n",
              "1  Abbott, Nehemiah, Jr.       Topsfield                     4   \n",
              "2            Alden, John          Boston                     5   \n",
              "3         Andrew, Daniel   Salem Village                     5   \n",
              "4        Barker, Abigail         Andover                     9   \n",
              "\n",
              "   Month of Execution  Sort  \n",
              "0                 NaN     1  \n",
              "1                 NaN     2  \n",
              "2                 NaN     3  \n",
              "3                 NaN     4  \n",
              "4                 NaN     5  "
            ]
          },
          "metadata": {}
        }
      ],
      "execution_count": 3,
      "metadata": {
        "collapsed": false,
        "outputHidden": false,
        "inputHidden": false
      }
    },
    {
      "cell_type": "code",
      "source": [
        "# Read last 5 rows\n",
        "accused.tail()"
      ],
      "outputs": [
        {
          "output_type": "execute_result",
          "execution_count": 4,
          "data": {
            "text/html": [
              "<div>\n",
              "<style scoped>\n",
              "    .dataframe tbody tr th:only-of-type {\n",
              "        vertical-align: middle;\n",
              "    }\n",
              "\n",
              "    .dataframe tbody tr th {\n",
              "        vertical-align: top;\n",
              "    }\n",
              "\n",
              "    .dataframe thead th {\n",
              "        text-align: right;\n",
              "    }\n",
              "</style>\n",
              "<table border=\"1\" class=\"dataframe\">\n",
              "  <thead>\n",
              "    <tr style=\"text-align: right;\">\n",
              "      <th></th>\n",
              "      <th>Accused Witch</th>\n",
              "      <th>Residence</th>\n",
              "      <th>Month of Accusation</th>\n",
              "      <th>Month of Execution</th>\n",
              "      <th>Sort</th>\n",
              "    </tr>\n",
              "  </thead>\n",
              "  <tbody>\n",
              "    <tr>\n",
              "      <th>147</th>\n",
              "      <td>Wilds, Sarah</td>\n",
              "      <td>Topsfield</td>\n",
              "      <td>4</td>\n",
              "      <td>7.0</td>\n",
              "      <td>148</td>\n",
              "    </tr>\n",
              "    <tr>\n",
              "      <th>148</th>\n",
              "      <td>Wilford, Ruth</td>\n",
              "      <td>Haverhill</td>\n",
              "      <td>8</td>\n",
              "      <td>NaN</td>\n",
              "      <td>149</td>\n",
              "    </tr>\n",
              "    <tr>\n",
              "      <th>149</th>\n",
              "      <td>Willard, John</td>\n",
              "      <td>Salem Village</td>\n",
              "      <td>5</td>\n",
              "      <td>8.0</td>\n",
              "      <td>150</td>\n",
              "    </tr>\n",
              "    <tr>\n",
              "      <th>150</th>\n",
              "      <td>Wilson, Sarah Jr.</td>\n",
              "      <td>Andover</td>\n",
              "      <td>9</td>\n",
              "      <td>NaN</td>\n",
              "      <td>151</td>\n",
              "    </tr>\n",
              "    <tr>\n",
              "      <th>151</th>\n",
              "      <td>Wilson, Sarah Sr.</td>\n",
              "      <td>Andover</td>\n",
              "      <td>9</td>\n",
              "      <td>NaN</td>\n",
              "      <td>152</td>\n",
              "    </tr>\n",
              "  </tbody>\n",
              "</table>\n",
              "</div>"
            ],
            "text/plain": [
              "         Accused Witch       Residence   Month of Accusation  \\\n",
              "147       Wilds, Sarah       Topsfield                     4   \n",
              "148      Wilford, Ruth       Haverhill                     8   \n",
              "149      Willard, John   Salem Village                     5   \n",
              "150  Wilson, Sarah Jr.         Andover                     9   \n",
              "151  Wilson, Sarah Sr.         Andover                     9   \n",
              "\n",
              "     Month of Execution  Sort  \n",
              "147                 7.0   148  \n",
              "148                 NaN   149  \n",
              "149                 8.0   150  \n",
              "150                 NaN   151  \n",
              "151                 NaN   152  "
            ]
          },
          "metadata": {}
        }
      ],
      "execution_count": 4,
      "metadata": {
        "collapsed": false,
        "outputHidden": false,
        "inputHidden": false
      }
    },
    {
      "cell_type": "code",
      "source": [
        "# Rows, Columns\n",
        "accused.shape"
      ],
      "outputs": [
        {
          "output_type": "execute_result",
          "execution_count": 5,
          "data": {
            "text/plain": [
              "(152, 5)"
            ]
          },
          "metadata": {}
        }
      ],
      "execution_count": 5,
      "metadata": {
        "collapsed": false,
        "outputHidden": false,
        "inputHidden": false
      }
    },
    {
      "cell_type": "code",
      "source": [
        "# Summary Statistics\n",
        "accused.describe()"
      ],
      "outputs": [
        {
          "output_type": "execute_result",
          "execution_count": 6,
          "data": {
            "text/html": [
              "<div>\n",
              "<style scoped>\n",
              "    .dataframe tbody tr th:only-of-type {\n",
              "        vertical-align: middle;\n",
              "    }\n",
              "\n",
              "    .dataframe tbody tr th {\n",
              "        vertical-align: top;\n",
              "    }\n",
              "\n",
              "    .dataframe thead th {\n",
              "        text-align: right;\n",
              "    }\n",
              "</style>\n",
              "<table border=\"1\" class=\"dataframe\">\n",
              "  <thead>\n",
              "    <tr style=\"text-align: right;\">\n",
              "      <th></th>\n",
              "      <th>Month of Accusation</th>\n",
              "      <th>Month of Execution</th>\n",
              "      <th>Sort</th>\n",
              "    </tr>\n",
              "  </thead>\n",
              "  <tbody>\n",
              "    <tr>\n",
              "      <th>count</th>\n",
              "      <td>152.000000</td>\n",
              "      <td>20.000000</td>\n",
              "      <td>152.000000</td>\n",
              "    </tr>\n",
              "    <tr>\n",
              "      <th>mean</th>\n",
              "      <td>6.039474</td>\n",
              "      <td>8.100000</td>\n",
              "      <td>76.500000</td>\n",
              "    </tr>\n",
              "    <tr>\n",
              "      <th>std</th>\n",
              "      <td>2.752197</td>\n",
              "      <td>0.967906</td>\n",
              "      <td>44.022721</td>\n",
              "    </tr>\n",
              "    <tr>\n",
              "      <th>min</th>\n",
              "      <td>-1.000000</td>\n",
              "      <td>6.000000</td>\n",
              "      <td>1.000000</td>\n",
              "    </tr>\n",
              "    <tr>\n",
              "      <th>25%</th>\n",
              "      <td>4.750000</td>\n",
              "      <td>7.000000</td>\n",
              "      <td>38.750000</td>\n",
              "    </tr>\n",
              "    <tr>\n",
              "      <th>50%</th>\n",
              "      <td>5.000000</td>\n",
              "      <td>8.000000</td>\n",
              "      <td>76.500000</td>\n",
              "    </tr>\n",
              "    <tr>\n",
              "      <th>75%</th>\n",
              "      <td>8.000000</td>\n",
              "      <td>9.000000</td>\n",
              "      <td>114.250000</td>\n",
              "    </tr>\n",
              "    <tr>\n",
              "      <th>max</th>\n",
              "      <td>11.000000</td>\n",
              "      <td>9.000000</td>\n",
              "      <td>152.000000</td>\n",
              "    </tr>\n",
              "  </tbody>\n",
              "</table>\n",
              "</div>"
            ],
            "text/plain": [
              "       Month of Accusation  Month of Execution        Sort\n",
              "count           152.000000           20.000000  152.000000\n",
              "mean              6.039474            8.100000   76.500000\n",
              "std               2.752197            0.967906   44.022721\n",
              "min              -1.000000            6.000000    1.000000\n",
              "25%               4.750000            7.000000   38.750000\n",
              "50%               5.000000            8.000000   76.500000\n",
              "75%               8.000000            9.000000  114.250000\n",
              "max              11.000000            9.000000  152.000000"
            ]
          },
          "metadata": {}
        }
      ],
      "execution_count": 6,
      "metadata": {
        "collapsed": false,
        "outputHidden": false,
        "inputHidden": false
      }
    },
    {
      "cell_type": "code",
      "source": [
        "# Names of the columns in dataset\n",
        "accused.columns"
      ],
      "outputs": [
        {
          "output_type": "execute_result",
          "execution_count": 7,
          "data": {
            "text/plain": [
              "Index(['Accused Witch', ' Residence ', 'Month of Accusation',\n",
              "       'Month of Execution', 'Sort'],\n",
              "      dtype='object')"
            ]
          },
          "metadata": {}
        }
      ],
      "execution_count": 7,
      "metadata": {
        "collapsed": false,
        "outputHidden": false,
        "inputHidden": false
      }
    },
    {
      "cell_type": "code",
      "source": [
        "print('Number of accused witches by their residence:')\n",
        "accused[' Residence '].value_counts()"
      ],
      "outputs": [
        {
          "output_type": "stream",
          "name": "stdout",
          "text": [
            "Number of accused witches by their residence:\n"
          ]
        },
        {
          "output_type": "execute_result",
          "execution_count": 8,
          "data": {
            "text/plain": [
              " Andover               45\n",
              " Salem Town            24\n",
              " Salem Village         15\n",
              " Gloucester             9\n",
              " Reading                7\n",
              " Topsfield              6\n",
              " Haverhill              6\n",
              " Rowley                 5\n",
              " Lynn                   5\n",
              " Beverly                4\n",
              " Ipswich                4\n",
              " Woburn                 3\n",
              " Billerica              3\n",
              " Boxford                3\n",
              " Charlestown            2\n",
              " Piscataqua, Maine      2\n",
              " Boston                 2\n",
              " Salisbury              1\n",
              " Marblehead             1\n",
              " Manchester             1\n",
              " Chelmsford             1\n",
              " Wells, Maine           1\n",
              " Amesbury               1\n",
              " Malden                 1\n",
              "Name:  Residence , dtype: int64"
            ]
          },
          "metadata": {}
        }
      ],
      "execution_count": 8,
      "metadata": {
        "collapsed": false,
        "outputHidden": false,
        "inputHidden": false
      }
    },
    {
      "cell_type": "markdown",
      "source": [
        "The town of Andover has the most accustion; however, the last 7 residence have the least accustion. Salem Town and Salem Village is the next has the most accusation. "
      ],
      "metadata": {}
    },
    {
      "cell_type": "code",
      "source": [
        "print('Number of accused by month of excecution:')\n",
        "accused['Month of Execution'].value_counts()"
      ],
      "outputs": [
        {
          "output_type": "stream",
          "name": "stdout",
          "text": [
            "Number of accused by month of excecution:\n"
          ]
        },
        {
          "output_type": "execute_result",
          "execution_count": 9,
          "data": {
            "text/plain": [
              "9.0    9\n",
              "7.0    5\n",
              "8.0    5\n",
              "6.0    1\n",
              "Name: Month of Execution, dtype: int64"
            ]
          },
          "metadata": {}
        }
      ],
      "execution_count": 9,
      "metadata": {
        "collapsed": false,
        "outputHidden": false,
        "inputHidden": false
      }
    },
    {
      "cell_type": "code",
      "source": [
        "print('Number of accused by month:')\n",
        "accused['Month of Accusation'].value_counts()"
      ],
      "outputs": [
        {
          "output_type": "stream",
          "name": "stdout",
          "text": [
            "Number of accused by month:\n"
          ]
        },
        {
          "output_type": "execute_result",
          "execution_count": 10,
          "data": {
            "text/plain": [
              " 5     39\n",
              " 9     33\n",
              " 8     23\n",
              " 4     22\n",
              " 7     12\n",
              "-1      9\n",
              " 3      4\n",
              " 11     3\n",
              " 6      3\n",
              " 2      3\n",
              " 10     1\n",
              "Name: Month of Accusation, dtype: int64"
            ]
          },
          "metadata": {}
        }
      ],
      "execution_count": 10,
      "metadata": {
        "collapsed": false,
        "outputHidden": false,
        "inputHidden": false
      }
    },
    {
      "cell_type": "code",
      "source": [
        "# This is the order of Months of Accusation. \n",
        "# -1 indicates that the actual month of accusation is not known\n",
        "accused.groupby([\"Month of Accusation\"])[\"Month of Accusation\"].count()"
      ],
      "outputs": [
        {
          "output_type": "execute_result",
          "execution_count": 11,
          "data": {
            "text/plain": [
              "Month of Accusation\n",
              "-1      9\n",
              " 2      3\n",
              " 3      4\n",
              " 4     22\n",
              " 5     39\n",
              " 6      3\n",
              " 7     12\n",
              " 8     23\n",
              " 9     33\n",
              " 10     1\n",
              " 11     3\n",
              "Name: Month of Accusation, dtype: int64"
            ]
          },
          "metadata": {}
        }
      ],
      "execution_count": 11,
      "metadata": {
        "collapsed": false,
        "outputHidden": false,
        "inputHidden": false
      }
    },
    {
      "cell_type": "code",
      "source": [
        "# This is the order of Months of Execution. \n",
        "accused.groupby([\"Month of Execution\"])[\"Month of Execution\"].count()"
      ],
      "outputs": [
        {
          "output_type": "execute_result",
          "execution_count": 12,
          "data": {
            "text/plain": [
              "Month of Execution\n",
              "6.0    1\n",
              "7.0    5\n",
              "8.0    5\n",
              "9.0    9\n",
              "Name: Month of Execution, dtype: int64"
            ]
          },
          "metadata": {}
        }
      ],
      "execution_count": 12,
      "metadata": {
        "collapsed": false,
        "outputHidden": false,
        "inputHidden": false
      }
    },
    {
      "cell_type": "markdown",
      "source": [
        "On month 9 has the most excution and in month 6 has the least excution. However, on month 5  has the most accustion. On the other hand, on month 10 has the least accustion. "
      ],
      "metadata": {}
    },
    {
      "cell_type": "markdown",
      "source": [
        "## Anti-Parris Social Data Set"
      ],
      "metadata": {}
    },
    {
      "cell_type": "code",
      "source": [
        "# Read the first 5 rows \n",
        "anti.head()"
      ],
      "outputs": [
        {
          "output_type": "execute_result",
          "execution_count": 13,
          "data": {
            "text/html": [
              "<div>\n",
              "<style scoped>\n",
              "    .dataframe tbody tr th:only-of-type {\n",
              "        vertical-align: middle;\n",
              "    }\n",
              "\n",
              "    .dataframe tbody tr th {\n",
              "        vertical-align: top;\n",
              "    }\n",
              "\n",
              "    .dataframe thead th {\n",
              "        text-align: right;\n",
              "    }\n",
              "</style>\n",
              "<table border=\"1\" class=\"dataframe\">\n",
              "  <thead>\n",
              "    <tr style=\"text-align: right;\">\n",
              "      <th></th>\n",
              "      <th>Name</th>\n",
              "      <th>Identification</th>\n",
              "      <th>Sex</th>\n",
              "      <th>Sort</th>\n",
              "    </tr>\n",
              "  </thead>\n",
              "  <tbody>\n",
              "    <tr>\n",
              "      <th>0</th>\n",
              "      <td>Porter, Joseph</td>\n",
              "      <td>Young men. 16 years old</td>\n",
              "      <td>M</td>\n",
              "      <td>1</td>\n",
              "    </tr>\n",
              "    <tr>\n",
              "      <th>1</th>\n",
              "      <td>Porter, Sam:</td>\n",
              "      <td>Young men. 16 years old</td>\n",
              "      <td>M</td>\n",
              "      <td>2</td>\n",
              "    </tr>\n",
              "    <tr>\n",
              "      <th>2</th>\n",
              "      <td>Preston, Jno.</td>\n",
              "      <td>Young men. 16 years old</td>\n",
              "      <td>M</td>\n",
              "      <td>3</td>\n",
              "    </tr>\n",
              "    <tr>\n",
              "      <th>3</th>\n",
              "      <td>Porter, Nath.</td>\n",
              "      <td>Young men. 16 years old</td>\n",
              "      <td>M</td>\n",
              "      <td>4</td>\n",
              "    </tr>\n",
              "    <tr>\n",
              "      <th>4</th>\n",
              "      <td>Swinnerton, Ben:</td>\n",
              "      <td>Young men. 16 years old</td>\n",
              "      <td>M</td>\n",
              "      <td>5</td>\n",
              "    </tr>\n",
              "  </tbody>\n",
              "</table>\n",
              "</div>"
            ],
            "text/plain": [
              "               Name           Identification Sex  Sort\n",
              "0    Porter, Joseph  Young men. 16 years old   M     1\n",
              "1      Porter, Sam:  Young men. 16 years old   M     2\n",
              "2     Preston, Jno.  Young men. 16 years old   M     3\n",
              "3     Porter, Nath.  Young men. 16 years old   M     4\n",
              "4  Swinnerton, Ben:  Young men. 16 years old   M     5"
            ]
          },
          "metadata": {}
        }
      ],
      "execution_count": 13,
      "metadata": {}
    },
    {
      "cell_type": "code",
      "source": [
        "# Read the last 5 rows \n",
        "anti.tail()"
      ],
      "outputs": [
        {
          "output_type": "execute_result",
          "execution_count": 14,
          "data": {
            "text/html": [
              "<div>\n",
              "<style scoped>\n",
              "    .dataframe tbody tr th:only-of-type {\n",
              "        vertical-align: middle;\n",
              "    }\n",
              "\n",
              "    .dataframe tbody tr th {\n",
              "        vertical-align: top;\n",
              "    }\n",
              "\n",
              "    .dataframe thead th {\n",
              "        text-align: right;\n",
              "    }\n",
              "</style>\n",
              "<table border=\"1\" class=\"dataframe\">\n",
              "  <thead>\n",
              "    <tr style=\"text-align: right;\">\n",
              "      <th></th>\n",
              "      <th>Name</th>\n",
              "      <th>Identification</th>\n",
              "      <th>Sex</th>\n",
              "      <th>Sort</th>\n",
              "    </tr>\n",
              "  </thead>\n",
              "  <tbody>\n",
              "    <tr>\n",
              "      <th>79</th>\n",
              "      <td>Kittel, James</td>\n",
              "      <td>Free-Holder</td>\n",
              "      <td>M</td>\n",
              "      <td>82</td>\n",
              "    </tr>\n",
              "    <tr>\n",
              "      <th>80</th>\n",
              "      <td>Porter, Ben:</td>\n",
              "      <td>Free-Holder</td>\n",
              "      <td>M</td>\n",
              "      <td>80</td>\n",
              "    </tr>\n",
              "    <tr>\n",
              "      <th>81</th>\n",
              "      <td>Porter, Israel</td>\n",
              "      <td>Free-Holder</td>\n",
              "      <td>M</td>\n",
              "      <td>83</td>\n",
              "    </tr>\n",
              "    <tr>\n",
              "      <th>82</th>\n",
              "      <td>Small, Will:</td>\n",
              "      <td>Free-Holder</td>\n",
              "      <td>M</td>\n",
              "      <td>81</td>\n",
              "    </tr>\n",
              "    <tr>\n",
              "      <th>83</th>\n",
              "      <td>Swinneron, Jasper</td>\n",
              "      <td>Free-Holder</td>\n",
              "      <td>M</td>\n",
              "      <td>84</td>\n",
              "    </tr>\n",
              "  </tbody>\n",
              "</table>\n",
              "</div>"
            ],
            "text/plain": [
              "                 Name Identification Sex  Sort\n",
              "79      Kittel, James    Free-Holder   M    82\n",
              "80       Porter, Ben:    Free-Holder   M    80\n",
              "81     Porter, Israel    Free-Holder   M    83\n",
              "82       Small, Will:    Free-Holder   M    81\n",
              "83  Swinneron, Jasper    Free-Holder   M    84"
            ]
          },
          "metadata": {}
        }
      ],
      "execution_count": 14,
      "metadata": {
        "collapsed": false,
        "outputHidden": false,
        "inputHidden": false
      }
    },
    {
      "cell_type": "code",
      "source": [
        "# Rows, Columns\n",
        "anti.shape"
      ],
      "outputs": [
        {
          "output_type": "execute_result",
          "execution_count": 15,
          "data": {
            "text/plain": [
              "(84, 4)"
            ]
          },
          "metadata": {}
        }
      ],
      "execution_count": 15,
      "metadata": {
        "collapsed": false,
        "outputHidden": false,
        "inputHidden": false
      }
    },
    {
      "cell_type": "code",
      "source": [
        "# Counts for each indentification in total\n",
        "anti['Identification'].value_counts()"
      ],
      "outputs": [
        {
          "output_type": "execute_result",
          "execution_count": 16,
          "data": {
            "text/plain": [
              "Householder                29\n",
              "[Church] Member            17\n",
              "Young men. 16 years old    17\n",
              "Non-Member                 16\n",
              "Free-Holder                 5\n",
              "Name: Identification, dtype: int64"
            ]
          },
          "metadata": {}
        }
      ],
      "execution_count": 16,
      "metadata": {
        "collapsed": false,
        "outputHidden": false,
        "inputHidden": false
      }
    },
    {
      "cell_type": "code",
      "source": [
        "# Counts for each toal sex\n",
        "anti['Sex'].value_counts()"
      ],
      "outputs": [
        {
          "output_type": "execute_result",
          "execution_count": 17,
          "data": {
            "text/plain": [
              "M    57\n",
              "F    27\n",
              "Name: Sex, dtype: int64"
            ]
          },
          "metadata": {}
        }
      ],
      "execution_count": 17,
      "metadata": {
        "collapsed": false,
        "outputHidden": false,
        "inputHidden": false
      }
    },
    {
      "cell_type": "code",
      "source": [
        "# This count for male in each indentification\n",
        "print('Number of Indentification for Male:')\n",
        "anti['Identification'][anti['Sex']=='M'].value_counts()"
      ],
      "outputs": [
        {
          "output_type": "stream",
          "name": "stdout",
          "text": [
            "Number of Indentification for Male:\n"
          ]
        },
        {
          "output_type": "execute_result",
          "execution_count": 18,
          "data": {
            "text/plain": [
              "Householder                29\n",
              "Young men. 16 years old    17\n",
              "[Church] Member             6\n",
              "Free-Holder                 5\n",
              "Name: Identification, dtype: int64"
            ]
          },
          "metadata": {}
        }
      ],
      "execution_count": 18,
      "metadata": {
        "collapsed": false,
        "outputHidden": false,
        "inputHidden": false
      }
    },
    {
      "cell_type": "code",
      "source": [
        "# This count for female in each indentification\n",
        "print('Number of Indentification for Female:')\n",
        "anti['Identification'][anti['Sex']=='F'].value_counts()"
      ],
      "outputs": [
        {
          "output_type": "stream",
          "name": "stdout",
          "text": [
            "Number of Indentification for Female:\n"
          ]
        },
        {
          "output_type": "execute_result",
          "execution_count": 19,
          "data": {
            "text/plain": [
              "Non-Member         16\n",
              "[Church] Member    11\n",
              "Name: Identification, dtype: int64"
            ]
          },
          "metadata": {}
        }
      ],
      "execution_count": 19,
      "metadata": {
        "collapsed": false,
        "outputHidden": false,
        "inputHidden": false
      }
    },
    {
      "cell_type": "markdown",
      "source": [
        "There are more male in Anti-Parris than female because many of them are young men and 16 years old based on the dataset. Also, all the males were in Householder. Majority of Householder are in Anti-AntiParris; on the other hand, the Free-Holder was the least. Most of th female are Non-Member or Church Member. "
      ],
      "metadata": {}
    },
    {
      "cell_type": "markdown",
      "source": [
        "## Committee List Data Set"
      ],
      "metadata": {}
    },
    {
      "cell_type": "code",
      "source": [
        "# First 5 rows\n",
        "committee.head()"
      ],
      "outputs": [
        {
          "output_type": "execute_result",
          "execution_count": 20,
          "data": {
            "text/html": [
              "<div>\n",
              "<style scoped>\n",
              "    .dataframe tbody tr th:only-of-type {\n",
              "        vertical-align: middle;\n",
              "    }\n",
              "\n",
              "    .dataframe tbody tr th {\n",
              "        vertical-align: top;\n",
              "    }\n",
              "\n",
              "    .dataframe thead th {\n",
              "        text-align: right;\n",
              "    }\n",
              "</style>\n",
              "<table border=\"1\" class=\"dataframe\">\n",
              "  <thead>\n",
              "    <tr style=\"text-align: right;\">\n",
              "      <th></th>\n",
              "      <th>Committee Members</th>\n",
              "      <th>Petition</th>\n",
              "      <th>Social</th>\n",
              "      <th>1685</th>\n",
              "      <th>1686</th>\n",
              "      <th>1687</th>\n",
              "      <th>1688</th>\n",
              "      <th>1689</th>\n",
              "      <th>1690</th>\n",
              "      <th>1691</th>\n",
              "      <th>1692</th>\n",
              "      <th>1693</th>\n",
              "      <th>1694</th>\n",
              "      <th>1695</th>\n",
              "      <th>1696</th>\n",
              "      <th>1697</th>\n",
              "      <th>1698</th>\n",
              "      <th>Sort</th>\n",
              "    </tr>\n",
              "  </thead>\n",
              "  <tbody>\n",
              "    <tr>\n",
              "      <th>0</th>\n",
              "      <td>Putnam, Lt. John [Senr]</td>\n",
              "      <td>Pro-P</td>\n",
              "      <td>Church Member</td>\n",
              "      <td>1685.0</td>\n",
              "      <td>1686.0</td>\n",
              "      <td>1687.0</td>\n",
              "      <td>1688.0</td>\n",
              "      <td>1689.0</td>\n",
              "      <td>NaN</td>\n",
              "      <td>NaN</td>\n",
              "      <td>NaN</td>\n",
              "      <td>NaN</td>\n",
              "      <td>NaN</td>\n",
              "      <td>NaN</td>\n",
              "      <td>1696.0</td>\n",
              "      <td>NaN</td>\n",
              "      <td>NaN</td>\n",
              "      <td>1</td>\n",
              "    </tr>\n",
              "    <tr>\n",
              "      <th>1</th>\n",
              "      <td>Walcott, Jonathan</td>\n",
              "      <td>Pro-P</td>\n",
              "      <td>Householder</td>\n",
              "      <td>1685.0</td>\n",
              "      <td>NaN</td>\n",
              "      <td>NaN</td>\n",
              "      <td>NaN</td>\n",
              "      <td>NaN</td>\n",
              "      <td>NaN</td>\n",
              "      <td>NaN</td>\n",
              "      <td>NaN</td>\n",
              "      <td>NaN</td>\n",
              "      <td>NaN</td>\n",
              "      <td>NaN</td>\n",
              "      <td>NaN</td>\n",
              "      <td>NaN</td>\n",
              "      <td>NaN</td>\n",
              "      <td>2</td>\n",
              "    </tr>\n",
              "    <tr>\n",
              "      <th>2</th>\n",
              "      <td>Buxton, John</td>\n",
              "      <td>Anti-P</td>\n",
              "      <td>Householder</td>\n",
              "      <td>1685.0</td>\n",
              "      <td>NaN</td>\n",
              "      <td>NaN</td>\n",
              "      <td>NaN</td>\n",
              "      <td>NaN</td>\n",
              "      <td>NaN</td>\n",
              "      <td>NaN</td>\n",
              "      <td>NaN</td>\n",
              "      <td>NaN</td>\n",
              "      <td>NaN</td>\n",
              "      <td>NaN</td>\n",
              "      <td>NaN</td>\n",
              "      <td>1697.0</td>\n",
              "      <td>NaN</td>\n",
              "      <td>3</td>\n",
              "    </tr>\n",
              "    <tr>\n",
              "      <th>3</th>\n",
              "      <td>Sibley, William</td>\n",
              "      <td>NoS</td>\n",
              "      <td>Householder</td>\n",
              "      <td>1685.0</td>\n",
              "      <td>1686.0</td>\n",
              "      <td>NaN</td>\n",
              "      <td>NaN</td>\n",
              "      <td>NaN</td>\n",
              "      <td>NaN</td>\n",
              "      <td>NaN</td>\n",
              "      <td>NaN</td>\n",
              "      <td>NaN</td>\n",
              "      <td>NaN</td>\n",
              "      <td>NaN</td>\n",
              "      <td>NaN</td>\n",
              "      <td>NaN</td>\n",
              "      <td>NaN</td>\n",
              "      <td>4</td>\n",
              "    </tr>\n",
              "    <tr>\n",
              "      <th>4</th>\n",
              "      <td>Putnam, Thomas Junr</td>\n",
              "      <td>Pro-P</td>\n",
              "      <td>Church Member</td>\n",
              "      <td>1685.0</td>\n",
              "      <td>1686.0</td>\n",
              "      <td>1687.0</td>\n",
              "      <td>NaN</td>\n",
              "      <td>NaN</td>\n",
              "      <td>NaN</td>\n",
              "      <td>NaN</td>\n",
              "      <td>NaN</td>\n",
              "      <td>NaN</td>\n",
              "      <td>1694.0</td>\n",
              "      <td>1695.0</td>\n",
              "      <td>1696.0</td>\n",
              "      <td>1697.0</td>\n",
              "      <td>1698.0</td>\n",
              "      <td>5</td>\n",
              "    </tr>\n",
              "  </tbody>\n",
              "</table>\n",
              "</div>"
            ],
            "text/plain": [
              "         Committee Members Petition         Social    1685    1686    1687  \\\n",
              "0  Putnam, Lt. John [Senr]    Pro-P  Church Member  1685.0  1686.0  1687.0   \n",
              "1        Walcott, Jonathan    Pro-P    Householder  1685.0     NaN     NaN   \n",
              "2             Buxton, John   Anti-P    Householder  1685.0     NaN     NaN   \n",
              "3          Sibley, William      NoS    Householder  1685.0  1686.0     NaN   \n",
              "4      Putnam, Thomas Junr    Pro-P  Church Member  1685.0  1686.0  1687.0   \n",
              "\n",
              "     1688    1689  1690  1691  1692  1693    1694    1695    1696    1697  \\\n",
              "0  1688.0  1689.0   NaN   NaN   NaN   NaN     NaN     NaN  1696.0     NaN   \n",
              "1     NaN     NaN   NaN   NaN   NaN   NaN     NaN     NaN     NaN     NaN   \n",
              "2     NaN     NaN   NaN   NaN   NaN   NaN     NaN     NaN     NaN  1697.0   \n",
              "3     NaN     NaN   NaN   NaN   NaN   NaN     NaN     NaN     NaN     NaN   \n",
              "4     NaN     NaN   NaN   NaN   NaN   NaN  1694.0  1695.0  1696.0  1697.0   \n",
              "\n",
              "     1698  Sort  \n",
              "0     NaN     1  \n",
              "1     NaN     2  \n",
              "2     NaN     3  \n",
              "3     NaN     4  \n",
              "4  1698.0     5  "
            ]
          },
          "metadata": {}
        }
      ],
      "execution_count": 20,
      "metadata": {
        "collapsed": false,
        "outputHidden": false,
        "inputHidden": false
      }
    },
    {
      "cell_type": "code",
      "source": [
        "# Last 5 rows\n",
        "committee.tail()"
      ],
      "outputs": [
        {
          "output_type": "execute_result",
          "execution_count": 21,
          "data": {
            "text/html": [
              "<div>\n",
              "<style scoped>\n",
              "    .dataframe tbody tr th:only-of-type {\n",
              "        vertical-align: middle;\n",
              "    }\n",
              "\n",
              "    .dataframe tbody tr th {\n",
              "        vertical-align: top;\n",
              "    }\n",
              "\n",
              "    .dataframe thead th {\n",
              "        text-align: right;\n",
              "    }\n",
              "</style>\n",
              "<table border=\"1\" class=\"dataframe\">\n",
              "  <thead>\n",
              "    <tr style=\"text-align: right;\">\n",
              "      <th></th>\n",
              "      <th>Committee Members</th>\n",
              "      <th>Petition</th>\n",
              "      <th>Social</th>\n",
              "      <th>1685</th>\n",
              "      <th>1686</th>\n",
              "      <th>1687</th>\n",
              "      <th>1688</th>\n",
              "      <th>1689</th>\n",
              "      <th>1690</th>\n",
              "      <th>1691</th>\n",
              "      <th>1692</th>\n",
              "      <th>1693</th>\n",
              "      <th>1694</th>\n",
              "      <th>1695</th>\n",
              "      <th>1696</th>\n",
              "      <th>1697</th>\n",
              "      <th>1698</th>\n",
              "      <th>Sort</th>\n",
              "    </tr>\n",
              "  </thead>\n",
              "  <tbody>\n",
              "    <tr>\n",
              "      <th>26</th>\n",
              "      <td>Dale, John</td>\n",
              "      <td>Pro-P</td>\n",
              "      <td>Householder</td>\n",
              "      <td>NaN</td>\n",
              "      <td>NaN</td>\n",
              "      <td>NaN</td>\n",
              "      <td>NaN</td>\n",
              "      <td>NaN</td>\n",
              "      <td>NaN</td>\n",
              "      <td>NaN</td>\n",
              "      <td>NaN</td>\n",
              "      <td>NaN</td>\n",
              "      <td>NaN</td>\n",
              "      <td>NaN</td>\n",
              "      <td>1696.0</td>\n",
              "      <td>NaN</td>\n",
              "      <td>NaN</td>\n",
              "      <td>27</td>\n",
              "    </tr>\n",
              "    <tr>\n",
              "      <th>27</th>\n",
              "      <td>Wilknes, Benjamin</td>\n",
              "      <td>Pro-P</td>\n",
              "      <td>Church Member</td>\n",
              "      <td>NaN</td>\n",
              "      <td>NaN</td>\n",
              "      <td>NaN</td>\n",
              "      <td>NaN</td>\n",
              "      <td>NaN</td>\n",
              "      <td>NaN</td>\n",
              "      <td>NaN</td>\n",
              "      <td>NaN</td>\n",
              "      <td>NaN</td>\n",
              "      <td>NaN</td>\n",
              "      <td>NaN</td>\n",
              "      <td>1696.0</td>\n",
              "      <td>NaN</td>\n",
              "      <td>NaN</td>\n",
              "      <td>28</td>\n",
              "    </tr>\n",
              "    <tr>\n",
              "      <th>28</th>\n",
              "      <td>Walcott, John</td>\n",
              "      <td>Pro-P</td>\n",
              "      <td>Householder</td>\n",
              "      <td>NaN</td>\n",
              "      <td>NaN</td>\n",
              "      <td>NaN</td>\n",
              "      <td>NaN</td>\n",
              "      <td>NaN</td>\n",
              "      <td>NaN</td>\n",
              "      <td>NaN</td>\n",
              "      <td>NaN</td>\n",
              "      <td>NaN</td>\n",
              "      <td>NaN</td>\n",
              "      <td>NaN</td>\n",
              "      <td>1696.0</td>\n",
              "      <td>NaN</td>\n",
              "      <td>NaN</td>\n",
              "      <td>29</td>\n",
              "    </tr>\n",
              "    <tr>\n",
              "      <th>29</th>\n",
              "      <td>Nurs, Samuell</td>\n",
              "      <td>Anti-P</td>\n",
              "      <td>Church Member</td>\n",
              "      <td>NaN</td>\n",
              "      <td>NaN</td>\n",
              "      <td>NaN</td>\n",
              "      <td>NaN</td>\n",
              "      <td>NaN</td>\n",
              "      <td>NaN</td>\n",
              "      <td>NaN</td>\n",
              "      <td>NaN</td>\n",
              "      <td>NaN</td>\n",
              "      <td>NaN</td>\n",
              "      <td>NaN</td>\n",
              "      <td>NaN</td>\n",
              "      <td>1697.0</td>\n",
              "      <td>NaN</td>\n",
              "      <td>30</td>\n",
              "    </tr>\n",
              "    <tr>\n",
              "      <th>30</th>\n",
              "      <td>Rayment, Thomas</td>\n",
              "      <td>Anti-P</td>\n",
              "      <td>Householder</td>\n",
              "      <td>NaN</td>\n",
              "      <td>NaN</td>\n",
              "      <td>NaN</td>\n",
              "      <td>NaN</td>\n",
              "      <td>NaN</td>\n",
              "      <td>NaN</td>\n",
              "      <td>NaN</td>\n",
              "      <td>NaN</td>\n",
              "      <td>NaN</td>\n",
              "      <td>NaN</td>\n",
              "      <td>NaN</td>\n",
              "      <td>NaN</td>\n",
              "      <td>NaN</td>\n",
              "      <td>1698.0</td>\n",
              "      <td>31</td>\n",
              "    </tr>\n",
              "  </tbody>\n",
              "</table>\n",
              "</div>"
            ],
            "text/plain": [
              "    Committee Members Petition         Social  1685  1686  1687  1688  1689  \\\n",
              "26         Dale, John    Pro-P    Householder   NaN   NaN   NaN   NaN   NaN   \n",
              "27  Wilknes, Benjamin    Pro-P  Church Member   NaN   NaN   NaN   NaN   NaN   \n",
              "28      Walcott, John    Pro-P    Householder   NaN   NaN   NaN   NaN   NaN   \n",
              "29      Nurs, Samuell   Anti-P  Church Member   NaN   NaN   NaN   NaN   NaN   \n",
              "30    Rayment, Thomas   Anti-P    Householder   NaN   NaN   NaN   NaN   NaN   \n",
              "\n",
              "    1690  1691  1692  1693  1694  1695    1696    1697    1698  Sort  \n",
              "26   NaN   NaN   NaN   NaN   NaN   NaN  1696.0     NaN     NaN    27  \n",
              "27   NaN   NaN   NaN   NaN   NaN   NaN  1696.0     NaN     NaN    28  \n",
              "28   NaN   NaN   NaN   NaN   NaN   NaN  1696.0     NaN     NaN    29  \n",
              "29   NaN   NaN   NaN   NaN   NaN   NaN     NaN  1697.0     NaN    30  \n",
              "30   NaN   NaN   NaN   NaN   NaN   NaN     NaN     NaN  1698.0    31  "
            ]
          },
          "metadata": {}
        }
      ],
      "execution_count": 21,
      "metadata": {
        "collapsed": false,
        "outputHidden": false,
        "inputHidden": false
      }
    },
    {
      "cell_type": "code",
      "source": [
        "# Rows, Columns\n",
        "committee.shape"
      ],
      "outputs": [
        {
          "output_type": "execute_result",
          "execution_count": 22,
          "data": {
            "text/plain": [
              "(31, 18)"
            ]
          },
          "metadata": {}
        }
      ],
      "execution_count": 22,
      "metadata": {
        "collapsed": false,
        "outputHidden": false,
        "inputHidden": false
      }
    },
    {
      "cell_type": "code",
      "source": [
        "# Counts each total petition\n",
        "committee['Petition'].value_counts()"
      ],
      "outputs": [
        {
          "output_type": "execute_result",
          "execution_count": 23,
          "data": {
            "text/plain": [
              "Anti-P    15\n",
              "Pro-P     13\n",
              "NoS        3\n",
              "Name: Petition, dtype: int64"
            ]
          },
          "metadata": {}
        }
      ],
      "execution_count": 23,
      "metadata": {
        "collapsed": false,
        "outputHidden": false,
        "inputHidden": false
      }
    },
    {
      "cell_type": "code",
      "source": [
        "# Counts each total Social \n",
        "committee['Social'].value_counts()"
      ],
      "outputs": [
        {
          "output_type": "execute_result",
          "execution_count": 24,
          "data": {
            "text/plain": [
              "Householder      16\n",
              "Church Member    14\n",
              "Freeholder        1\n",
              "Name: Social, dtype: int64"
            ]
          },
          "metadata": {}
        }
      ],
      "execution_count": 24,
      "metadata": {
        "collapsed": false,
        "outputHidden": false,
        "inputHidden": false
      }
    },
    {
      "cell_type": "code",
      "source": [
        "# Value Counts for multi columns\n",
        "committee[['1685','1686','1687','1688','1690','1691','1692','1693','1694','1695','1696','1697','1698']].apply(pd.value_counts)"
      ],
      "outputs": [
        {
          "output_type": "execute_result",
          "execution_count": 53,
          "data": {
            "text/html": [
              "<div>\n",
              "<style scoped>\n",
              "    .dataframe tbody tr th:only-of-type {\n",
              "        vertical-align: middle;\n",
              "    }\n",
              "\n",
              "    .dataframe tbody tr th {\n",
              "        vertical-align: top;\n",
              "    }\n",
              "\n",
              "    .dataframe thead th {\n",
              "        text-align: right;\n",
              "    }\n",
              "</style>\n",
              "<table border=\"1\" class=\"dataframe\">\n",
              "  <thead>\n",
              "    <tr style=\"text-align: right;\">\n",
              "      <th></th>\n",
              "      <th>1685</th>\n",
              "      <th>1686</th>\n",
              "      <th>1687</th>\n",
              "      <th>1688</th>\n",
              "      <th>1690</th>\n",
              "      <th>1691</th>\n",
              "      <th>1692</th>\n",
              "      <th>1693</th>\n",
              "      <th>1694</th>\n",
              "      <th>1695</th>\n",
              "      <th>1696</th>\n",
              "      <th>1697</th>\n",
              "      <th>1698</th>\n",
              "    </tr>\n",
              "  </thead>\n",
              "  <tbody>\n",
              "    <tr>\n",
              "      <th>1685.0</th>\n",
              "      <td>5.0</td>\n",
              "      <td>NaN</td>\n",
              "      <td>NaN</td>\n",
              "      <td>NaN</td>\n",
              "      <td>NaN</td>\n",
              "      <td>NaN</td>\n",
              "      <td>NaN</td>\n",
              "      <td>NaN</td>\n",
              "      <td>NaN</td>\n",
              "      <td>NaN</td>\n",
              "      <td>NaN</td>\n",
              "      <td>NaN</td>\n",
              "      <td>NaN</td>\n",
              "    </tr>\n",
              "    <tr>\n",
              "      <th>1686.0</th>\n",
              "      <td>NaN</td>\n",
              "      <td>5.0</td>\n",
              "      <td>NaN</td>\n",
              "      <td>NaN</td>\n",
              "      <td>NaN</td>\n",
              "      <td>NaN</td>\n",
              "      <td>NaN</td>\n",
              "      <td>NaN</td>\n",
              "      <td>NaN</td>\n",
              "      <td>NaN</td>\n",
              "      <td>NaN</td>\n",
              "      <td>NaN</td>\n",
              "      <td>NaN</td>\n",
              "    </tr>\n",
              "    <tr>\n",
              "      <th>1687.0</th>\n",
              "      <td>NaN</td>\n",
              "      <td>NaN</td>\n",
              "      <td>5.0</td>\n",
              "      <td>NaN</td>\n",
              "      <td>NaN</td>\n",
              "      <td>NaN</td>\n",
              "      <td>NaN</td>\n",
              "      <td>NaN</td>\n",
              "      <td>NaN</td>\n",
              "      <td>NaN</td>\n",
              "      <td>NaN</td>\n",
              "      <td>NaN</td>\n",
              "      <td>NaN</td>\n",
              "    </tr>\n",
              "    <tr>\n",
              "      <th>1688.0</th>\n",
              "      <td>NaN</td>\n",
              "      <td>NaN</td>\n",
              "      <td>NaN</td>\n",
              "      <td>4.0</td>\n",
              "      <td>NaN</td>\n",
              "      <td>NaN</td>\n",
              "      <td>NaN</td>\n",
              "      <td>NaN</td>\n",
              "      <td>NaN</td>\n",
              "      <td>NaN</td>\n",
              "      <td>NaN</td>\n",
              "      <td>NaN</td>\n",
              "      <td>NaN</td>\n",
              "    </tr>\n",
              "    <tr>\n",
              "      <th>1690.0</th>\n",
              "      <td>NaN</td>\n",
              "      <td>NaN</td>\n",
              "      <td>NaN</td>\n",
              "      <td>NaN</td>\n",
              "      <td>5.0</td>\n",
              "      <td>NaN</td>\n",
              "      <td>NaN</td>\n",
              "      <td>NaN</td>\n",
              "      <td>NaN</td>\n",
              "      <td>NaN</td>\n",
              "      <td>NaN</td>\n",
              "      <td>NaN</td>\n",
              "      <td>NaN</td>\n",
              "    </tr>\n",
              "    <tr>\n",
              "      <th>1691.0</th>\n",
              "      <td>NaN</td>\n",
              "      <td>NaN</td>\n",
              "      <td>NaN</td>\n",
              "      <td>NaN</td>\n",
              "      <td>NaN</td>\n",
              "      <td>5.0</td>\n",
              "      <td>NaN</td>\n",
              "      <td>NaN</td>\n",
              "      <td>NaN</td>\n",
              "      <td>NaN</td>\n",
              "      <td>NaN</td>\n",
              "      <td>NaN</td>\n",
              "      <td>NaN</td>\n",
              "    </tr>\n",
              "    <tr>\n",
              "      <th>1692.0</th>\n",
              "      <td>NaN</td>\n",
              "      <td>NaN</td>\n",
              "      <td>NaN</td>\n",
              "      <td>NaN</td>\n",
              "      <td>NaN</td>\n",
              "      <td>NaN</td>\n",
              "      <td>5.0</td>\n",
              "      <td>NaN</td>\n",
              "      <td>NaN</td>\n",
              "      <td>NaN</td>\n",
              "      <td>NaN</td>\n",
              "      <td>NaN</td>\n",
              "      <td>NaN</td>\n",
              "    </tr>\n",
              "    <tr>\n",
              "      <th>1693.0</th>\n",
              "      <td>NaN</td>\n",
              "      <td>NaN</td>\n",
              "      <td>NaN</td>\n",
              "      <td>NaN</td>\n",
              "      <td>NaN</td>\n",
              "      <td>NaN</td>\n",
              "      <td>NaN</td>\n",
              "      <td>5.0</td>\n",
              "      <td>NaN</td>\n",
              "      <td>NaN</td>\n",
              "      <td>NaN</td>\n",
              "      <td>NaN</td>\n",
              "      <td>NaN</td>\n",
              "    </tr>\n",
              "    <tr>\n",
              "      <th>1694.0</th>\n",
              "      <td>NaN</td>\n",
              "      <td>NaN</td>\n",
              "      <td>NaN</td>\n",
              "      <td>NaN</td>\n",
              "      <td>NaN</td>\n",
              "      <td>NaN</td>\n",
              "      <td>NaN</td>\n",
              "      <td>NaN</td>\n",
              "      <td>5.0</td>\n",
              "      <td>NaN</td>\n",
              "      <td>NaN</td>\n",
              "      <td>NaN</td>\n",
              "      <td>NaN</td>\n",
              "    </tr>\n",
              "    <tr>\n",
              "      <th>1695.0</th>\n",
              "      <td>NaN</td>\n",
              "      <td>NaN</td>\n",
              "      <td>NaN</td>\n",
              "      <td>NaN</td>\n",
              "      <td>NaN</td>\n",
              "      <td>NaN</td>\n",
              "      <td>NaN</td>\n",
              "      <td>NaN</td>\n",
              "      <td>NaN</td>\n",
              "      <td>5.0</td>\n",
              "      <td>NaN</td>\n",
              "      <td>NaN</td>\n",
              "      <td>NaN</td>\n",
              "    </tr>\n",
              "    <tr>\n",
              "      <th>1696.0</th>\n",
              "      <td>NaN</td>\n",
              "      <td>NaN</td>\n",
              "      <td>NaN</td>\n",
              "      <td>NaN</td>\n",
              "      <td>NaN</td>\n",
              "      <td>NaN</td>\n",
              "      <td>NaN</td>\n",
              "      <td>NaN</td>\n",
              "      <td>NaN</td>\n",
              "      <td>NaN</td>\n",
              "      <td>5.0</td>\n",
              "      <td>NaN</td>\n",
              "      <td>NaN</td>\n",
              "    </tr>\n",
              "    <tr>\n",
              "      <th>1697.0</th>\n",
              "      <td>NaN</td>\n",
              "      <td>NaN</td>\n",
              "      <td>NaN</td>\n",
              "      <td>NaN</td>\n",
              "      <td>NaN</td>\n",
              "      <td>NaN</td>\n",
              "      <td>NaN</td>\n",
              "      <td>NaN</td>\n",
              "      <td>NaN</td>\n",
              "      <td>NaN</td>\n",
              "      <td>NaN</td>\n",
              "      <td>5.0</td>\n",
              "      <td>NaN</td>\n",
              "    </tr>\n",
              "    <tr>\n",
              "      <th>1698.0</th>\n",
              "      <td>NaN</td>\n",
              "      <td>NaN</td>\n",
              "      <td>NaN</td>\n",
              "      <td>NaN</td>\n",
              "      <td>NaN</td>\n",
              "      <td>NaN</td>\n",
              "      <td>NaN</td>\n",
              "      <td>NaN</td>\n",
              "      <td>NaN</td>\n",
              "      <td>NaN</td>\n",
              "      <td>NaN</td>\n",
              "      <td>NaN</td>\n",
              "      <td>5.0</td>\n",
              "    </tr>\n",
              "  </tbody>\n",
              "</table>\n",
              "</div>"
            ],
            "text/plain": [
              "        1685  1686  1687  1688  1690  1691  1692  1693  1694  1695  1696  \\\n",
              "1685.0   5.0   NaN   NaN   NaN   NaN   NaN   NaN   NaN   NaN   NaN   NaN   \n",
              "1686.0   NaN   5.0   NaN   NaN   NaN   NaN   NaN   NaN   NaN   NaN   NaN   \n",
              "1687.0   NaN   NaN   5.0   NaN   NaN   NaN   NaN   NaN   NaN   NaN   NaN   \n",
              "1688.0   NaN   NaN   NaN   4.0   NaN   NaN   NaN   NaN   NaN   NaN   NaN   \n",
              "1690.0   NaN   NaN   NaN   NaN   5.0   NaN   NaN   NaN   NaN   NaN   NaN   \n",
              "1691.0   NaN   NaN   NaN   NaN   NaN   5.0   NaN   NaN   NaN   NaN   NaN   \n",
              "1692.0   NaN   NaN   NaN   NaN   NaN   NaN   5.0   NaN   NaN   NaN   NaN   \n",
              "1693.0   NaN   NaN   NaN   NaN   NaN   NaN   NaN   5.0   NaN   NaN   NaN   \n",
              "1694.0   NaN   NaN   NaN   NaN   NaN   NaN   NaN   NaN   5.0   NaN   NaN   \n",
              "1695.0   NaN   NaN   NaN   NaN   NaN   NaN   NaN   NaN   NaN   5.0   NaN   \n",
              "1696.0   NaN   NaN   NaN   NaN   NaN   NaN   NaN   NaN   NaN   NaN   5.0   \n",
              "1697.0   NaN   NaN   NaN   NaN   NaN   NaN   NaN   NaN   NaN   NaN   NaN   \n",
              "1698.0   NaN   NaN   NaN   NaN   NaN   NaN   NaN   NaN   NaN   NaN   NaN   \n",
              "\n",
              "        1697  1698  \n",
              "1685.0   NaN   NaN  \n",
              "1686.0   NaN   NaN  \n",
              "1687.0   NaN   NaN  \n",
              "1688.0   NaN   NaN  \n",
              "1690.0   NaN   NaN  \n",
              "1691.0   NaN   NaN  \n",
              "1692.0   NaN   NaN  \n",
              "1693.0   NaN   NaN  \n",
              "1694.0   NaN   NaN  \n",
              "1695.0   NaN   NaN  \n",
              "1696.0   NaN   NaN  \n",
              "1697.0   5.0   NaN  \n",
              "1698.0   NaN   5.0  "
            ]
          },
          "metadata": {}
        }
      ],
      "execution_count": 53,
      "metadata": {
        "collapsed": false,
        "outputHidden": false,
        "inputHidden": false
      }
    },
    {
      "cell_type": "markdown",
      "source": [
        "## Committee Yearly Data Set"
      ],
      "metadata": {}
    },
    {
      "cell_type": "code",
      "source": [
        "# First 5 Rows\n",
        "committee_yearly.head()"
      ],
      "outputs": [],
      "execution_count": null,
      "metadata": {
        "collapsed": false,
        "outputHidden": false,
        "inputHidden": false
      }
    },
    {
      "cell_type": "code",
      "source": [
        "# Last 5 rows\n",
        "committee_yearly.tail()"
      ],
      "outputs": [],
      "execution_count": null,
      "metadata": {
        "collapsed": false,
        "outputHidden": false,
        "inputHidden": false
      }
    },
    {
      "cell_type": "code",
      "source": [
        "committee_yearly.shape"
      ],
      "outputs": [],
      "execution_count": null,
      "metadata": {
        "collapsed": false,
        "outputHidden": false,
        "inputHidden": false
      }
    },
    {
      "cell_type": "markdown",
      "source": [
        "## Pro Parris Social Data Set"
      ],
      "metadata": {}
    },
    {
      "cell_type": "code",
      "source": [
        "# First 5 Rows\n",
        "pro.head()"
      ],
      "outputs": [],
      "execution_count": null,
      "metadata": {
        "collapsed": false,
        "outputHidden": false,
        "inputHidden": false
      }
    },
    {
      "cell_type": "code",
      "source": [
        "# Last 5 rows\n",
        "pro.tail()"
      ],
      "outputs": [],
      "execution_count": null,
      "metadata": {
        "collapsed": false,
        "outputHidden": false,
        "inputHidden": false
      }
    },
    {
      "cell_type": "code",
      "source": [
        "print('Number of singers by identification category:')\n",
        "pro['Identification'].value_counts()"
      ],
      "outputs": [],
      "execution_count": null,
      "metadata": {
        "collapsed": false,
        "outputHidden": false,
        "inputHidden": false
      }
    },
    {
      "cell_type": "code",
      "source": [
        "print('Number of singers by sex:')\n",
        "pro['Sex'].value_counts()"
      ],
      "outputs": [],
      "execution_count": null,
      "metadata": {
        "collapsed": false,
        "outputHidden": false,
        "inputHidden": false
      }
    },
    {
      "cell_type": "code",
      "source": [
        "print('Number of male in identification:')\n",
        "pro['Identification'][pro['Sex']=='M'].value_counts()"
      ],
      "outputs": [],
      "execution_count": null,
      "metadata": {
        "collapsed": false,
        "outputHidden": false,
        "inputHidden": false
      }
    },
    {
      "cell_type": "code",
      "source": [
        "print('Number of female in identification:')\n",
        "pro['Identification'][pro['Sex']=='F'].value_counts()"
      ],
      "outputs": [],
      "execution_count": null,
      "metadata": {
        "collapsed": false,
        "outputHidden": false,
        "inputHidden": false
      }
    },
    {
      "cell_type": "markdown",
      "source": [
        "There are more Householder than Church-Member and more Male in Pro Parris. Therefore, there more males in Householder compare more females in Church-Member."
      ],
      "metadata": {}
    },
    {
      "cell_type": "markdown",
      "source": [
        "## Salem Village DataSet"
      ],
      "metadata": {}
    },
    {
      "cell_type": "code",
      "source": [
        "# First 5 Rows\n",
        "salem.head()"
      ],
      "outputs": [],
      "execution_count": null,
      "metadata": {
        "collapsed": false,
        "outputHidden": false,
        "inputHidden": false
      }
    },
    {
      "cell_type": "code",
      "source": [
        "# Last 5 rows\n",
        "salem.tail()"
      ],
      "outputs": [],
      "execution_count": null,
      "metadata": {
        "collapsed": false,
        "outputHidden": false,
        "inputHidden": false
      }
    },
    {
      "cell_type": "code",
      "source": [
        "salem['Petition'].value_counts()"
      ],
      "outputs": [],
      "execution_count": null,
      "metadata": {
        "collapsed": false,
        "outputHidden": false,
        "inputHidden": false
      }
    },
    {
      "cell_type": "code",
      "source": [
        "salem['Church to 1696'].value_counts()"
      ],
      "outputs": [],
      "execution_count": null,
      "metadata": {
        "collapsed": false,
        "outputHidden": false,
        "inputHidden": false
      }
    },
    {
      "cell_type": "markdown",
      "source": [
        "## Tax Comparison Data Set"
      ],
      "metadata": {}
    },
    {
      "cell_type": "code",
      "source": [
        "# First 5 Rows\n",
        "tax.head()"
      ],
      "outputs": [],
      "execution_count": null,
      "metadata": {
        "collapsed": false,
        "outputHidden": false,
        "inputHidden": false
      }
    },
    {
      "cell_type": "code",
      "source": [
        "# Last 5 rows\n",
        "tax.tail()"
      ],
      "outputs": [],
      "execution_count": null,
      "metadata": {
        "collapsed": false,
        "outputHidden": false,
        "inputHidden": false
      }
    },
    {
      "cell_type": "code",
      "source": [
        "tax['Petition'].value_counts()"
      ],
      "outputs": [],
      "execution_count": null,
      "metadata": {
        "collapsed": false,
        "outputHidden": false,
        "inputHidden": false
      }
    },
    {
      "cell_type": "code",
      "source": [
        "# Value Counts for multi columns\n",
        "tax[['1681','1690','1694','1695','1697','1700']].apply(pd.Series.value_counts)"
      ],
      "outputs": [],
      "execution_count": null,
      "metadata": {
        "collapsed": false,
        "outputHidden": false,
        "inputHidden": false
      }
    },
    {
      "cell_type": "code",
      "source": [
        "# Too many NaN, so fill it up with 0\n",
        "result = tax[['1681','1690','1694','1695','1697','1700']].apply(pd.value_counts).fillna(0)\n",
        "result"
      ],
      "outputs": [],
      "execution_count": null,
      "metadata": {
        "collapsed": false,
        "outputHidden": false,
        "inputHidden": false
      }
    },
    {
      "cell_type": "code",
      "source": [
        "print('List of Name in certain petition:')\n",
        "pd.crosstab(tax['Name'], tax['Petition'])"
      ],
      "outputs": [],
      "execution_count": null,
      "metadata": {
        "collapsed": false,
        "outputHidden": false,
        "inputHidden": false
      }
    },
    {
      "cell_type": "code",
      "source": [
        "# tax[['1681','1690','1694','1695','1697','1700']].sum(axis=1)\n",
        "tax['Total'] = tax.iloc[:,2:7].sum(axis=1)\n",
        "tax"
      ],
      "outputs": [],
      "execution_count": null,
      "metadata": {
        "collapsed": false,
        "outputHidden": false,
        "inputHidden": false
      }
    },
    {
      "cell_type": "code",
      "source": [
        "print('List of Total Tax Paid:')\n",
        "tax.sort_values('Total', ascending=False)"
      ],
      "outputs": [],
      "execution_count": null,
      "metadata": {
        "collapsed": false,
        "outputHidden": false,
        "inputHidden": false
      }
    },
    {
      "cell_type": "code",
      "source": [
        "print('The top 5 tax payers:')\n",
        "print(tax.sort_values('Total', ascending=False)[0:5])"
      ],
      "outputs": [],
      "execution_count": null,
      "metadata": {
        "collapsed": false,
        "outputHidden": false,
        "inputHidden": false
      }
    },
    {
      "cell_type": "markdown",
      "source": [
        "## Towns Data Set"
      ],
      "metadata": {}
    },
    {
      "cell_type": "code",
      "source": [
        "# First 5 Rows\n",
        "towns.head()"
      ],
      "outputs": [],
      "execution_count": null,
      "metadata": {
        "collapsed": false,
        "outputHidden": false,
        "inputHidden": false
      }
    },
    {
      "cell_type": "code",
      "source": [
        "# Last 5 rows\n",
        "towns.tail()"
      ],
      "outputs": [],
      "execution_count": null,
      "metadata": {
        "collapsed": false,
        "outputHidden": false,
        "inputHidden": false
      }
    }
  ],
  "metadata": {
    "kernel_info": {
      "name": "python3"
    },
    "language_info": {
      "file_extension": ".py",
      "pygments_lexer": "ipython3",
      "codemirror_mode": {
        "version": 3,
        "name": "ipython"
      },
      "version": "3.5.5",
      "name": "python",
      "nbconvert_exporter": "python",
      "mimetype": "text/x-python"
    },
    "kernelspec": {
      "name": "python3",
      "language": "python",
      "display_name": "Python 3"
    },
    "nteract": {
      "version": "0.14.5"
    }
  },
  "nbformat": 4,
  "nbformat_minor": 4
}