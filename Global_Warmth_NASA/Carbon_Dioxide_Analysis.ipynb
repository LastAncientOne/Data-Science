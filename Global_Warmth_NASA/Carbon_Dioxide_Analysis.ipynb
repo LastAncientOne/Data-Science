{
  "cells": [
    {
      "cell_type": "markdown",
      "source": [
        "# Carbon Dioxide Analysis"
      ],
      "metadata": {}
    },
    {
      "cell_type": "markdown",
      "source": [
        "https://climate.nasa.gov/vital-signs/carbon-dioxide/"
      ],
      "metadata": {}
    },
    {
      "cell_type": "code",
      "source": [
        "import pandas as pd\n",
        "import matplotlib.pyplot as plt"
      ],
      "outputs": [],
      "execution_count": 1,
      "metadata": {
        "collapsed": false,
        "outputHidden": false,
        "inputHidden": false
      }
    },
    {
      "cell_type": "code",
      "source": [
        "data = pd.read_excel('Carbon_Dioxide.xlsx')"
      ],
      "outputs": [],
      "execution_count": 2,
      "metadata": {
        "collapsed": false,
        "outputHidden": false,
        "inputHidden": false
      }
    },
    {
      "cell_type": "markdown",
      "source": [
        "Data from March 1958 through April 1974 have been obtained by C. David Keeling\n",
        "of the Scripps Institution of Oceanography (SIO) and were obtained from the\n",
        "Scripps website (scrippsco2.ucsd.edu).\n",
        "\n",
        "The \"average\" column contains the monthly mean CO2 mole fraction determined\n",
        "from daily averages.  The mole fraction of CO2, expressed as parts per million\n",
        "(ppm) is the number of molecules of CO2 in every one million molecules of dried\n",
        "air (water vapor removed).  If there are missing days concentrated either early\n",
        "or late in the month, the monthly mean is corrected to the middle of the month\n",
        "using the average seasonal cycle.  Missing months are denoted by -99.99.\n",
        "The \"interpolated\" column includes average values from the preceding column\n",
        "and interpolated values where data are missing.  Interpolated values are\n",
        "computed in two steps.  First, we compute for each month the average seasonal\n",
        "cycle in a 7-year window around each monthly value.  In this way the seasonal\n",
        "cycle is allowed to change slowly over time.  We then determine the \"trend\"\n",
        "value for each month by removing the seasonal cycle; this result is shown in\n",
        "the \"trend\" column.  Trend values are linearly interpolated for missing months.\n",
        "The interpolated monthly mean is then the sum of the average seasonal cycle\n",
        "value and the trend value for the missing month.\n",
        "\n",
        "CO2 expressed as a mole fraction in dry air, micromol/mol, abbreviated as ppm\n",
        "\n",
        "(-99.99 missing data;  -1 no data for #daily means in month)"
      ],
      "metadata": {}
    },
    {
      "cell_type": "code",
      "source": [
        "data.head()"
      ],
      "outputs": [
        {
          "output_type": "execute_result",
          "execution_count": 3,
          "data": {
            "text/plain": [
              "   date  months  decimal date  average  interpolated   trend  #days\n",
              "0  1958       3      1958.208   315.71        315.71  314.62   -1.0\n",
              "1  1958       4      1958.292   317.45        317.45  315.29   -1.0\n",
              "2  1958       5      1958.375   317.50        317.50  314.71   -1.0\n",
              "3  1958       6      1958.458   -99.99        317.10  314.85   -1.0\n",
              "4  1958       7      1958.542   315.86        315.86  314.98   -1.0"
            ],
            "text/html": [
              "<div>\n",
              "<style scoped>\n",
              "    .dataframe tbody tr th:only-of-type {\n",
              "        vertical-align: middle;\n",
              "    }\n",
              "\n",
              "    .dataframe tbody tr th {\n",
              "        vertical-align: top;\n",
              "    }\n",
              "\n",
              "    .dataframe thead th {\n",
              "        text-align: right;\n",
              "    }\n",
              "</style>\n",
              "<table border=\"1\" class=\"dataframe\">\n",
              "  <thead>\n",
              "    <tr style=\"text-align: right;\">\n",
              "      <th></th>\n",
              "      <th>date</th>\n",
              "      <th>months</th>\n",
              "      <th>decimal date</th>\n",
              "      <th>average</th>\n",
              "      <th>interpolated</th>\n",
              "      <th>trend</th>\n",
              "      <th>#days</th>\n",
              "    </tr>\n",
              "  </thead>\n",
              "  <tbody>\n",
              "    <tr>\n",
              "      <th>0</th>\n",
              "      <td>1958</td>\n",
              "      <td>3</td>\n",
              "      <td>1958.208</td>\n",
              "      <td>315.71</td>\n",
              "      <td>315.71</td>\n",
              "      <td>314.62</td>\n",
              "      <td>-1.0</td>\n",
              "    </tr>\n",
              "    <tr>\n",
              "      <th>1</th>\n",
              "      <td>1958</td>\n",
              "      <td>4</td>\n",
              "      <td>1958.292</td>\n",
              "      <td>317.45</td>\n",
              "      <td>317.45</td>\n",
              "      <td>315.29</td>\n",
              "      <td>-1.0</td>\n",
              "    </tr>\n",
              "    <tr>\n",
              "      <th>2</th>\n",
              "      <td>1958</td>\n",
              "      <td>5</td>\n",
              "      <td>1958.375</td>\n",
              "      <td>317.50</td>\n",
              "      <td>317.50</td>\n",
              "      <td>314.71</td>\n",
              "      <td>-1.0</td>\n",
              "    </tr>\n",
              "    <tr>\n",
              "      <th>3</th>\n",
              "      <td>1958</td>\n",
              "      <td>6</td>\n",
              "      <td>1958.458</td>\n",
              "      <td>-99.99</td>\n",
              "      <td>317.10</td>\n",
              "      <td>314.85</td>\n",
              "      <td>-1.0</td>\n",
              "    </tr>\n",
              "    <tr>\n",
              "      <th>4</th>\n",
              "      <td>1958</td>\n",
              "      <td>7</td>\n",
              "      <td>1958.542</td>\n",
              "      <td>315.86</td>\n",
              "      <td>315.86</td>\n",
              "      <td>314.98</td>\n",
              "      <td>-1.0</td>\n",
              "    </tr>\n",
              "  </tbody>\n",
              "</table>\n",
              "</div>"
            ]
          },
          "metadata": {}
        }
      ],
      "execution_count": 3,
      "metadata": {
        "collapsed": false,
        "outputHidden": false,
        "inputHidden": false
      }
    },
    {
      "cell_type": "code",
      "source": [
        "# Drope decimal date\n",
        "data = data.drop('decimal date', axis=1)\n",
        "data.head()"
      ],
      "outputs": [
        {
          "output_type": "execute_result",
          "execution_count": 4,
          "data": {
            "text/plain": [
              "   date  months  average  interpolated   trend  #days\n",
              "0  1958       3   315.71        315.71  314.62   -1.0\n",
              "1  1958       4   317.45        317.45  315.29   -1.0\n",
              "2  1958       5   317.50        317.50  314.71   -1.0\n",
              "3  1958       6   -99.99        317.10  314.85   -1.0\n",
              "4  1958       7   315.86        315.86  314.98   -1.0"
            ],
            "text/html": [
              "<div>\n",
              "<style scoped>\n",
              "    .dataframe tbody tr th:only-of-type {\n",
              "        vertical-align: middle;\n",
              "    }\n",
              "\n",
              "    .dataframe tbody tr th {\n",
              "        vertical-align: top;\n",
              "    }\n",
              "\n",
              "    .dataframe thead th {\n",
              "        text-align: right;\n",
              "    }\n",
              "</style>\n",
              "<table border=\"1\" class=\"dataframe\">\n",
              "  <thead>\n",
              "    <tr style=\"text-align: right;\">\n",
              "      <th></th>\n",
              "      <th>date</th>\n",
              "      <th>months</th>\n",
              "      <th>average</th>\n",
              "      <th>interpolated</th>\n",
              "      <th>trend</th>\n",
              "      <th>#days</th>\n",
              "    </tr>\n",
              "  </thead>\n",
              "  <tbody>\n",
              "    <tr>\n",
              "      <th>0</th>\n",
              "      <td>1958</td>\n",
              "      <td>3</td>\n",
              "      <td>315.71</td>\n",
              "      <td>315.71</td>\n",
              "      <td>314.62</td>\n",
              "      <td>-1.0</td>\n",
              "    </tr>\n",
              "    <tr>\n",
              "      <th>1</th>\n",
              "      <td>1958</td>\n",
              "      <td>4</td>\n",
              "      <td>317.45</td>\n",
              "      <td>317.45</td>\n",
              "      <td>315.29</td>\n",
              "      <td>-1.0</td>\n",
              "    </tr>\n",
              "    <tr>\n",
              "      <th>2</th>\n",
              "      <td>1958</td>\n",
              "      <td>5</td>\n",
              "      <td>317.50</td>\n",
              "      <td>317.50</td>\n",
              "      <td>314.71</td>\n",
              "      <td>-1.0</td>\n",
              "    </tr>\n",
              "    <tr>\n",
              "      <th>3</th>\n",
              "      <td>1958</td>\n",
              "      <td>6</td>\n",
              "      <td>-99.99</td>\n",
              "      <td>317.10</td>\n",
              "      <td>314.85</td>\n",
              "      <td>-1.0</td>\n",
              "    </tr>\n",
              "    <tr>\n",
              "      <th>4</th>\n",
              "      <td>1958</td>\n",
              "      <td>7</td>\n",
              "      <td>315.86</td>\n",
              "      <td>315.86</td>\n",
              "      <td>314.98</td>\n",
              "      <td>-1.0</td>\n",
              "    </tr>\n",
              "  </tbody>\n",
              "</table>\n",
              "</div>"
            ]
          },
          "metadata": {}
        }
      ],
      "execution_count": 4,
      "metadata": {
        "collapsed": false,
        "outputHidden": false,
        "inputHidden": false
      }
    },
    {
      "cell_type": "code",
      "source": [
        "data.tail()"
      ],
      "outputs": [
        {
          "output_type": "execute_result",
          "execution_count": 5,
          "data": {
            "text/plain": [
              "     date  months  average  interpolated   trend  #days\n",
              "113  1967       8   320.92        320.92  322.04   -1.0\n",
              "114  1967       9   319.31        319.31  322.19   -1.0\n",
              "115  1967      10   319.31        319.31  322.36   -1.0\n",
              "116  1967      11   320.72        320.72  322.78   -1.0\n",
              "117  1967      12   321.96        321.96  322.00    NaN"
            ],
            "text/html": [
              "<div>\n",
              "<style scoped>\n",
              "    .dataframe tbody tr th:only-of-type {\n",
              "        vertical-align: middle;\n",
              "    }\n",
              "\n",
              "    .dataframe tbody tr th {\n",
              "        vertical-align: top;\n",
              "    }\n",
              "\n",
              "    .dataframe thead th {\n",
              "        text-align: right;\n",
              "    }\n",
              "</style>\n",
              "<table border=\"1\" class=\"dataframe\">\n",
              "  <thead>\n",
              "    <tr style=\"text-align: right;\">\n",
              "      <th></th>\n",
              "      <th>date</th>\n",
              "      <th>months</th>\n",
              "      <th>average</th>\n",
              "      <th>interpolated</th>\n",
              "      <th>trend</th>\n",
              "      <th>#days</th>\n",
              "    </tr>\n",
              "  </thead>\n",
              "  <tbody>\n",
              "    <tr>\n",
              "      <th>113</th>\n",
              "      <td>1967</td>\n",
              "      <td>8</td>\n",
              "      <td>320.92</td>\n",
              "      <td>320.92</td>\n",
              "      <td>322.04</td>\n",
              "      <td>-1.0</td>\n",
              "    </tr>\n",
              "    <tr>\n",
              "      <th>114</th>\n",
              "      <td>1967</td>\n",
              "      <td>9</td>\n",
              "      <td>319.31</td>\n",
              "      <td>319.31</td>\n",
              "      <td>322.19</td>\n",
              "      <td>-1.0</td>\n",
              "    </tr>\n",
              "    <tr>\n",
              "      <th>115</th>\n",
              "      <td>1967</td>\n",
              "      <td>10</td>\n",
              "      <td>319.31</td>\n",
              "      <td>319.31</td>\n",
              "      <td>322.36</td>\n",
              "      <td>-1.0</td>\n",
              "    </tr>\n",
              "    <tr>\n",
              "      <th>116</th>\n",
              "      <td>1967</td>\n",
              "      <td>11</td>\n",
              "      <td>320.72</td>\n",
              "      <td>320.72</td>\n",
              "      <td>322.78</td>\n",
              "      <td>-1.0</td>\n",
              "    </tr>\n",
              "    <tr>\n",
              "      <th>117</th>\n",
              "      <td>1967</td>\n",
              "      <td>12</td>\n",
              "      <td>321.96</td>\n",
              "      <td>321.96</td>\n",
              "      <td>322.00</td>\n",
              "      <td>NaN</td>\n",
              "    </tr>\n",
              "  </tbody>\n",
              "</table>\n",
              "</div>"
            ]
          },
          "metadata": {}
        }
      ],
      "execution_count": 5,
      "metadata": {
        "collapsed": false,
        "outputHidden": false,
        "inputHidden": false
      }
    },
    {
      "cell_type": "code",
      "source": [
        "data.describe()"
      ],
      "outputs": [
        {
          "output_type": "execute_result",
          "execution_count": 6,
          "data": {
            "text/plain": [
              "              date      months     average  interpolated       trend  #days\n",
              "count   118.000000  118.000000  118.000000    118.000000  118.000000  117.0\n",
              "mean   1962.576271    6.584746  300.967203    318.698390  318.694746   -1.0\n",
              "std       2.847721    3.432689   84.744293      2.773294    2.126158    0.0\n",
              "min    1958.000000    1.000000  -99.990000    312.660000  314.620000   -1.0\n",
              "25%    1960.000000    4.000000  316.392500    316.702500  316.992500   -1.0\n",
              "50%    1963.000000    7.000000  318.550000    318.670000  318.730000   -1.0\n",
              "75%    1965.000000    9.750000  320.610000    320.697500  319.960000   -1.0\n",
              "max    1967.000000   12.000000  325.000000    325.000000  322.780000   -1.0"
            ],
            "text/html": [
              "<div>\n",
              "<style scoped>\n",
              "    .dataframe tbody tr th:only-of-type {\n",
              "        vertical-align: middle;\n",
              "    }\n",
              "\n",
              "    .dataframe tbody tr th {\n",
              "        vertical-align: top;\n",
              "    }\n",
              "\n",
              "    .dataframe thead th {\n",
              "        text-align: right;\n",
              "    }\n",
              "</style>\n",
              "<table border=\"1\" class=\"dataframe\">\n",
              "  <thead>\n",
              "    <tr style=\"text-align: right;\">\n",
              "      <th></th>\n",
              "      <th>date</th>\n",
              "      <th>months</th>\n",
              "      <th>average</th>\n",
              "      <th>interpolated</th>\n",
              "      <th>trend</th>\n",
              "      <th>#days</th>\n",
              "    </tr>\n",
              "  </thead>\n",
              "  <tbody>\n",
              "    <tr>\n",
              "      <th>count</th>\n",
              "      <td>118.000000</td>\n",
              "      <td>118.000000</td>\n",
              "      <td>118.000000</td>\n",
              "      <td>118.000000</td>\n",
              "      <td>118.000000</td>\n",
              "      <td>117.0</td>\n",
              "    </tr>\n",
              "    <tr>\n",
              "      <th>mean</th>\n",
              "      <td>1962.576271</td>\n",
              "      <td>6.584746</td>\n",
              "      <td>300.967203</td>\n",
              "      <td>318.698390</td>\n",
              "      <td>318.694746</td>\n",
              "      <td>-1.0</td>\n",
              "    </tr>\n",
              "    <tr>\n",
              "      <th>std</th>\n",
              "      <td>2.847721</td>\n",
              "      <td>3.432689</td>\n",
              "      <td>84.744293</td>\n",
              "      <td>2.773294</td>\n",
              "      <td>2.126158</td>\n",
              "      <td>0.0</td>\n",
              "    </tr>\n",
              "    <tr>\n",
              "      <th>min</th>\n",
              "      <td>1958.000000</td>\n",
              "      <td>1.000000</td>\n",
              "      <td>-99.990000</td>\n",
              "      <td>312.660000</td>\n",
              "      <td>314.620000</td>\n",
              "      <td>-1.0</td>\n",
              "    </tr>\n",
              "    <tr>\n",
              "      <th>25%</th>\n",
              "      <td>1960.000000</td>\n",
              "      <td>4.000000</td>\n",
              "      <td>316.392500</td>\n",
              "      <td>316.702500</td>\n",
              "      <td>316.992500</td>\n",
              "      <td>-1.0</td>\n",
              "    </tr>\n",
              "    <tr>\n",
              "      <th>50%</th>\n",
              "      <td>1963.000000</td>\n",
              "      <td>7.000000</td>\n",
              "      <td>318.550000</td>\n",
              "      <td>318.670000</td>\n",
              "      <td>318.730000</td>\n",
              "      <td>-1.0</td>\n",
              "    </tr>\n",
              "    <tr>\n",
              "      <th>75%</th>\n",
              "      <td>1965.000000</td>\n",
              "      <td>9.750000</td>\n",
              "      <td>320.610000</td>\n",
              "      <td>320.697500</td>\n",
              "      <td>319.960000</td>\n",
              "      <td>-1.0</td>\n",
              "    </tr>\n",
              "    <tr>\n",
              "      <th>max</th>\n",
              "      <td>1967.000000</td>\n",
              "      <td>12.000000</td>\n",
              "      <td>325.000000</td>\n",
              "      <td>325.000000</td>\n",
              "      <td>322.780000</td>\n",
              "      <td>-1.0</td>\n",
              "    </tr>\n",
              "  </tbody>\n",
              "</table>\n",
              "</div>"
            ]
          },
          "metadata": {}
        }
      ],
      "execution_count": 6,
      "metadata": {
        "collapsed": false,
        "outputHidden": false,
        "inputHidden": false
      }
    },
    {
      "cell_type": "code",
      "source": [
        "viz = data[['average','interpolated','trend']]\n",
        "viz.hist()\n",
        "plt.show()"
      ],
      "outputs": [
        {
          "output_type": "display_data",
          "data": {
            "image/png": "[encoded data removed]",
            "text/plain": [
              "<Figure size 432x288 with 4 Axes>"
            ]
          },
          "metadata": {}
        }
      ],
      "execution_count": 7,
      "metadata": {
        "collapsed": false,
        "outputHidden": false,
        "inputHidden": false
      }
    },
    {
      "cell_type": "code",
      "source": [
        "plt.plot(data['date'], data['trend'])\n",
        "plt.title('Trend Value')\n",
        "plt.xlabel('Date')\n",
        "plt.ylabel('Value')"
      ],
      "outputs": [
        {
          "output_type": "execute_result",
          "execution_count": 8,
          "data": {
            "text/plain": [
              "Text(0,0.5,'Value')"
            ]
          },
          "metadata": {}
        },
        {
          "output_type": "display_data",
          "data": {
            "image/png": "[encoded data removed]",
            "text/plain": [
              "<Figure size 432x288 with 1 Axes>"
            ]
          },
          "metadata": {}
        }
      ],
      "execution_count": 8,
      "metadata": {
        "collapsed": false,
        "outputHidden": false,
        "inputHidden": false
      }
    }
  ],
  "metadata": {
    "kernel_info": {
      "name": "python3"
    },
    "language_info": {
      "nbconvert_exporter": "python",
      "pygments_lexer": "ipython3",
      "file_extension": ".py",
      "codemirror_mode": {
        "name": "ipython",
        "version": 3
      },
      "name": "python",
      "mimetype": "text/x-python",
      "version": "3.5.5"
    },
    "kernelspec": {
      "name": "python3",
      "language": "python",
      "display_name": "Python 3"
    },
    "nteract": {
      "version": "0.14.0"
    }
  },
  "nbformat": 4,
  "nbformat_minor": 0
}