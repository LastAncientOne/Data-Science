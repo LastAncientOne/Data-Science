{
  "cells": [
    {
      "cell_type": "markdown",
      "source": [
        "# Diabetes"
      ],
      "metadata": {}
    },
    {
      "cell_type": "markdown",
      "source": [
        "## KNN Algorithm"
      ],
      "metadata": {}
    },
    {
      "cell_type": "code",
      "source": [
        "import pandas as pd\n",
        "import numpy as np\n",
        "import matplotlib.pyplot as plt\n",
        "\n",
        "from sklearn import datasets"
      ],
      "outputs": [],
      "execution_count": 1,
      "metadata": {
        "collapsed": false,
        "outputHidden": false,
        "inputHidden": false
      }
    },
    {
      "cell_type": "code",
      "source": [
        "diabetes = datasets.load_diabetes()"
      ],
      "outputs": [],
      "execution_count": 2,
      "metadata": {
        "collapsed": false,
        "outputHidden": false,
        "inputHidden": false
      }
    },
    {
      "cell_type": "code",
      "source": [
        "data = np.c_[diabetes.data, diabetes.target]\n",
        "columns = np.append(diabetes.feature_names, [\"target\"])\n",
        "dataset = pd.DataFrame(data, columns=columns)"
      ],
      "outputs": [],
      "execution_count": 3,
      "metadata": {
        "collapsed": false,
        "outputHidden": false,
        "inputHidden": false
      }
    },
    {
      "cell_type": "code",
      "source": [
        "X = dataset.drop(columns=['target'])\n",
        "y = dataset['target']"
      ],
      "outputs": [],
      "execution_count": 4,
      "metadata": {
        "collapsed": false,
        "outputHidden": false,
        "inputHidden": false
      }
    },
    {
      "cell_type": "code",
      "source": [
        "from sklearn.model_selection import train_test_split\n",
        "\n",
        "#split dataset into train and test data\n",
        "X_train, X_test, y_train, y_test = train_test_split(X, y, test_size=0.2, random_state=1)"
      ],
      "outputs": [],
      "execution_count": 5,
      "metadata": {
        "collapsed": false,
        "outputHidden": false,
        "inputHidden": false
      }
    },
    {
      "cell_type": "code",
      "source": [
        "from sklearn.neighbors import KNeighborsClassifier\n",
        "\n",
        "# Create KNN classifier\n",
        "knn = KNeighborsClassifier(n_neighbors = 3)\n",
        "\n",
        "# Fit the classifier to the data\n",
        "knn.fit(X_train,y_train)"
      ],
      "outputs": [
        {
          "output_type": "execute_result",
          "execution_count": 6,
          "data": {
            "text/plain": [
              "KNeighborsClassifier(algorithm='auto', leaf_size=30, metric='minkowski',\n",
              "           metric_params=None, n_jobs=None, n_neighbors=3, p=2,\n",
              "           weights='uniform')"
            ]
          },
          "metadata": {}
        }
      ],
      "execution_count": 6,
      "metadata": {
        "collapsed": false,
        "outputHidden": false,
        "inputHidden": false
      }
    },
    {
      "cell_type": "code",
      "source": [
        "#show first 5 model predictions on the test data\n",
        "knn.predict(X_test)[0:5]"
      ],
      "outputs": [
        {
          "output_type": "execute_result",
          "execution_count": 7,
          "data": {
            "text/plain": [
              "array([  64.,   37.,  129.,   48.,  122.])"
            ]
          },
          "metadata": {}
        }
      ],
      "execution_count": 7,
      "metadata": {
        "collapsed": false,
        "outputHidden": false,
        "inputHidden": false
      }
    },
    {
      "cell_type": "code",
      "source": [
        "#check accuracy of our model on the test data\n",
        "knn.score(X_test, y_test)"
      ],
      "outputs": [
        {
          "output_type": "execute_result",
          "execution_count": 8,
          "data": {
            "text/plain": [
              "0.0"
            ]
          },
          "metadata": {}
        }
      ],
      "execution_count": 8,
      "metadata": {
        "collapsed": false,
        "outputHidden": false,
        "inputHidden": false
      }
    },
    {
      "cell_type": "code",
      "source": [
        "from sklearn.metrics import accuracy_score\n",
        "\n",
        "for K in range(25):\n",
        "  K_value = K+1\n",
        "  knn = KNeighborsClassifier(n_neighbors = K_value, weights='uniform', algorithm='auto')\n",
        "  knn.fit(X_train, y_train) \n",
        "  y_pred = knn.predict(X_test)\n",
        "  print(\"Accuracy is \", accuracy_score(y_test,y_pred)*100,\"% for K-Value:\",K_value)"
      ],
      "outputs": [
        {
          "output_type": "stream",
          "name": "stdout",
          "text": [
            "Accuracy is  0.0 % for K-Value: 1\n",
            "Accuracy is  0.0 % for K-Value: 2\n",
            "Accuracy is  0.0 % for K-Value: 3\n",
            "Accuracy is  0.0 % for K-Value: 4\n",
            "Accuracy is  0.0 % for K-Value: 5\n",
            "Accuracy is  0.0 % for K-Value: 6\n",
            "Accuracy is  0.0 % for K-Value: 7\n",
            "Accuracy is  0.0 % for K-Value: 8\n",
            "Accuracy is  0.0 % for K-Value: 9\n",
            "Accuracy is  0.0 % for K-Value: 10\n",
            "Accuracy is  0.0 % for K-Value: 11\n",
            "Accuracy is  0.0 % for K-Value: 12\n",
            "Accuracy is  1.12359550562 % for K-Value: 13\n",
            "Accuracy is  1.12359550562 % for K-Value: 14\n",
            "Accuracy is  1.12359550562 % for K-Value: 15\n",
            "Accuracy is  1.12359550562 % for K-Value: 16\n",
            "Accuracy is  1.12359550562 % for K-Value: 17\n",
            "Accuracy is  1.12359550562 % for K-Value: 18\n",
            "Accuracy is  0.0 % for K-Value: 19\n",
            "Accuracy is  0.0 % for K-Value: 20\n",
            "Accuracy is  0.0 % for K-Value: 21\n",
            "Accuracy is  0.0 % for K-Value: 22\n",
            "Accuracy is  0.0 % for K-Value: 23\n",
            "Accuracy is  0.0 % for K-Value: 24\n",
            "Accuracy is  0.0 % for K-Value: 25\n"
          ]
        }
      ],
      "execution_count": 13,
      "metadata": {
        "collapsed": false,
        "outputHidden": false,
        "inputHidden": false
      }
    },
    {
      "cell_type": "code",
      "source": [
        "from sklearn.model_selection import train_test_split\n",
        "\n",
        "data = np.c_[diabetes.data, diabetes.target]\n",
        "columns = np.append(diabetes.feature_names, [\"target\"])\n",
        "dataset = pd.DataFrame(data, columns=columns)\n",
        "X = dataset.drop(columns=['target'])\n",
        "y = dataset['target']\n",
        "#split dataset into train and test data\n",
        "X_train, X_test, y_train, y_test = train_test_split(X, y, test_size=0.2, random_state=1)"
      ],
      "outputs": [],
      "execution_count": 10,
      "metadata": {
        "collapsed": false,
        "outputHidden": false,
        "inputHidden": false
      }
    },
    {
      "cell_type": "code",
      "source": [
        "from sklearn.neighbors import KNeighborsClassifier\n",
        "\n",
        "training_accuracy = []\n",
        "test_accuracy = []\n",
        "neighbors_settings = range(1, 25)\n",
        "for n_neighbors in neighbors_settings:\n",
        "    # build the model\n",
        "    knn = KNeighborsClassifier(n_neighbors=n_neighbors)\n",
        "    knn.fit(X_train, y_train)\n",
        "    # record training set accuracy\n",
        "    training_accuracy.append(knn.score(X_train, y_train))\n",
        "    # record test set accuracy\n",
        "    test_accuracy.append(knn.score(X_test, y_test))"
      ],
      "outputs": [],
      "execution_count": 11,
      "metadata": {
        "collapsed": false,
        "outputHidden": false,
        "inputHidden": false
      }
    },
    {
      "cell_type": "code",
      "source": [
        "plt.plot(neighbors_settings, training_accuracy, label=\"training accuracy\")\n",
        "plt.plot(neighbors_settings, test_accuracy, label=\"test accuracy\")\n",
        "plt.ylabel(\"Accuracy\")\n",
        "plt.xlabel(\"n_neighbors\")\n",
        "plt.legend()"
      ],
      "outputs": [
        {
          "output_type": "execute_result",
          "execution_count": 12,
          "data": {
            "text/plain": [
              "<matplotlib.legend.Legend at 0x1ae9b8174e0>"
            ]
          },
          "metadata": {}
        },
        {
          "output_type": "display_data",
          "data": {
            "image/png": "[encoded data removed]",
            "text/plain": [
              "<Figure size 432x288 with 1 Axes>"
            ]
          },
          "metadata": {}
        }
      ],
      "execution_count": 12,
      "metadata": {
        "collapsed": false,
        "outputHidden": false,
        "inputHidden": false
      }
    },
    {
      "cell_type": "code",
      "source": [
        "knn = KNeighborsClassifier(n_neighbors=18)\n",
        "knn.fit(X_train, y_train)\n",
        "print('Accuracy of K-NN classifier on training set: {:.2f}'.format(knn.score(X_train, y_train)))\n",
        "print('Accuracy of K-NN classifier on test set: {:.2f}'.format(knn.score(X_test, y_test)))"
      ],
      "outputs": [
        {
          "output_type": "stream",
          "name": "stdout",
          "text": [
            "Accuracy of K-NN classifier on training set: 0.08\n",
            "Accuracy of K-NN classifier on test set: 0.01\n"
          ]
        }
      ],
      "execution_count": 21,
      "metadata": {
        "collapsed": false,
        "outputHidden": false,
        "inputHidden": false
      }
    }
  ],
  "metadata": {
    "kernel_info": {
      "name": "python3"
    },
    "language_info": {
      "mimetype": "text/x-python",
      "nbconvert_exporter": "python",
      "pygments_lexer": "ipython3",
      "name": "python",
      "version": "3.5.5",
      "codemirror_mode": {
        "name": "ipython",
        "version": 3
      },
      "file_extension": ".py"
    },
    "kernelspec": {
      "name": "python3",
      "language": "python",
      "display_name": "Python 3"
    },
    "nteract": {
      "version": "0.14.3"
    }
  },
  "nbformat": 4,
  "nbformat_minor": 0
}