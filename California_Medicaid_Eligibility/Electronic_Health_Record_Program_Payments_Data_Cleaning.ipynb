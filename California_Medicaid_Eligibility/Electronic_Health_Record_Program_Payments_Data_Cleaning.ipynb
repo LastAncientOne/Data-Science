{
  "cells": [
    {
      "cell_type": "markdown",
      "source": [
        "# Electronic Health Record (EHR) Incentive Program Payments for Eligible Providers "
      ],
      "metadata": {
        "nteract": {
          "transient": {
            "deleting": false
          }
        }
      }
    },
    {
      "cell_type": "markdown",
      "source": [
        "## Data Cleaning\n",
        "\n",
        "https://data.chhs.ca.gov/dataset/electronic-health-record-ehr-incentive-program-payments-for-eligible-providers3"
      ],
      "metadata": {
        "nteract": {
          "transient": {
            "deleting": false
          }
        }
      }
    },
    {
      "cell_type": "code",
      "source": [
        "import pandas as pd\n",
        "import numpy as np"
      ],
      "outputs": [],
      "execution_count": 1,
      "metadata": {
        "collapsed": true,
        "jupyter": {
          "source_hidden": false,
          "outputs_hidden": false
        },
        "nteract": {
          "transient": {
            "deleting": false
          }
        },
        "execution": {
          "iopub.status.busy": "2021-03-07T00:28:26.800Z",
          "iopub.execute_input": "2021-03-07T00:28:26.806Z",
          "iopub.status.idle": "2021-03-07T00:28:26.813Z",
          "shell.execute_reply": "2021-03-07T00:28:26.650Z"
        }
      }
    },
    {
      "cell_type": "code",
      "source": [
        "ehr_data = pd.read_csv(\"Electronic_Health_Record_Program_Payments.csv\")"
      ],
      "outputs": [],
      "execution_count": 2,
      "metadata": {
        "collapsed": true,
        "jupyter": {
          "source_hidden": false,
          "outputs_hidden": false
        },
        "nteract": {
          "transient": {
            "deleting": false
          }
        },
        "execution": {
          "iopub.status.busy": "2021-03-07T00:28:26.821Z",
          "iopub.execute_input": "2021-03-07T00:28:26.828Z",
          "shell.execute_reply": "2021-03-07T00:28:26.657Z",
          "iopub.status.idle": "2021-03-07T00:28:26.834Z"
        }
      }
    },
    {
      "cell_type": "code",
      "source": [
        "ehr_data.head()"
      ],
      "outputs": [
        {
          "output_type": "execute_result",
          "execution_count": 3,
          "data": {
            "text/plain": "            X          Y  OBJECTID     Provider_Name         NPI  \\\n0 -121.376390  38.556297         1      Choti, Supak  1003003781   \n1 -122.242829  37.781795         2  Sheikh, Mohammad  1003009077   \n2 -121.805014  37.983654         3    vontela, rekha  1003009440   \n3 -117.265614  34.050607         4     Pardo, Andrea  1003010059   \n4 -117.867478  33.779086         5      Lim, kyung A  1003010372   \n\n  Medicaid_EP_Hospital_Type   Specialty       Business_Street_Address  \\\n0                   Dentist     UNKNOWN         8890 Cal Center Drive   \n1                 Physician  PSYCHIATRY      2000 Embarcadero Ste 101   \n2                   Dentist     UNKNOWN   3737 Lone Tree Way, suite F   \n3                 Physician     UNKNOWN  11175 Campus St, Room A1120C   \n4                   Dentist     UNKNOWN            530 South Main St.   \n\n  Business_City Business_County  ...  Program_Year Payment_Year  \\\n0    Sacramento      Sacramento  ...          2018         2019   \n1       Oakland         Alameda  ...          2013         2014   \n2       Antioch    Contra Costa  ...          2015         2016   \n3    Loma Linda  San Bernardino  ...          2014         2015   \n4        Orange          Orange  ...          2013         2014   \n\n   Payment_Year_Number  Payment_Criteria_Medicaid  \\\n0                    3                         MU   \n1                    1                        AIU   \n2                    1                        AIU   \n3                    2                         MU   \n4                    1                        AIU   \n\n                        Payee_Name   Payee_NPI total_payments  \\\n0     DINSHAW SARKARI ADC   CHERAG  1821152562        38250.0   \n1                of Alameda County  1659402303        21250.0   \n2  Designated Payee Name not Found  1427388875        21250.0   \n3       PHYSICIANS         FACULTY  1275583007        29750.0   \n4                   Dental Western  1477627156        21250.0   \n\n   total_recent_payments   Latitude   Longitude  \n0                 8500.0  38.556297 -121.376390  \n1                21250.0  37.781795 -122.242829  \n2                21250.0  37.983654 -121.805014  \n3                 8500.0  34.050607 -117.265614  \n4                21250.0  33.779086 -117.867478  \n\n[5 rows x 22 columns]",
            "text/html": "<div>\n<style scoped>\n    .dataframe tbody tr th:only-of-type {\n        vertical-align: middle;\n    }\n\n    .dataframe tbody tr th {\n        vertical-align: top;\n    }\n\n    .dataframe thead th {\n        text-align: right;\n    }\n</style>\n<table border=\"1\" class=\"dataframe\">\n  <thead>\n    <tr style=\"text-align: right;\">\n      <th></th>\n      <th>X</th>\n      <th>Y</th>\n      <th>OBJECTID</th>\n      <th>Provider_Name</th>\n      <th>NPI</th>\n      <th>Medicaid_EP_Hospital_Type</th>\n      <th>Specialty</th>\n      <th>Business_Street_Address</th>\n      <th>Business_City</th>\n      <th>Business_County</th>\n      <th>...</th>\n      <th>Program_Year</th>\n      <th>Payment_Year</th>\n      <th>Payment_Year_Number</th>\n      <th>Payment_Criteria_Medicaid</th>\n      <th>Payee_Name</th>\n      <th>Payee_NPI</th>\n      <th>total_payments</th>\n      <th>total_recent_payments</th>\n      <th>Latitude</th>\n      <th>Longitude</th>\n    </tr>\n  </thead>\n  <tbody>\n    <tr>\n      <th>0</th>\n      <td>-121.376390</td>\n      <td>38.556297</td>\n      <td>1</td>\n      <td>Choti, Supak</td>\n      <td>1003003781</td>\n      <td>Dentist</td>\n      <td>UNKNOWN</td>\n      <td>8890 Cal Center Drive</td>\n      <td>Sacramento</td>\n      <td>Sacramento</td>\n      <td>...</td>\n      <td>2018</td>\n      <td>2019</td>\n      <td>3</td>\n      <td>MU</td>\n      <td>DINSHAW SARKARI ADC   CHERAG</td>\n      <td>1821152562</td>\n      <td>38250.0</td>\n      <td>8500.0</td>\n      <td>38.556297</td>\n      <td>-121.376390</td>\n    </tr>\n    <tr>\n      <th>1</th>\n      <td>-122.242829</td>\n      <td>37.781795</td>\n      <td>2</td>\n      <td>Sheikh, Mohammad</td>\n      <td>1003009077</td>\n      <td>Physician</td>\n      <td>PSYCHIATRY</td>\n      <td>2000 Embarcadero Ste 101</td>\n      <td>Oakland</td>\n      <td>Alameda</td>\n      <td>...</td>\n      <td>2013</td>\n      <td>2014</td>\n      <td>1</td>\n      <td>AIU</td>\n      <td>of Alameda County</td>\n      <td>1659402303</td>\n      <td>21250.0</td>\n      <td>21250.0</td>\n      <td>37.781795</td>\n      <td>-122.242829</td>\n    </tr>\n    <tr>\n      <th>2</th>\n      <td>-121.805014</td>\n      <td>37.983654</td>\n      <td>3</td>\n      <td>vontela, rekha</td>\n      <td>1003009440</td>\n      <td>Dentist</td>\n      <td>UNKNOWN</td>\n      <td>3737 Lone Tree Way, suite F</td>\n      <td>Antioch</td>\n      <td>Contra Costa</td>\n      <td>...</td>\n      <td>2015</td>\n      <td>2016</td>\n      <td>1</td>\n      <td>AIU</td>\n      <td>Designated Payee Name not Found</td>\n      <td>1427388875</td>\n      <td>21250.0</td>\n      <td>21250.0</td>\n      <td>37.983654</td>\n      <td>-121.805014</td>\n    </tr>\n    <tr>\n      <th>3</th>\n      <td>-117.265614</td>\n      <td>34.050607</td>\n      <td>4</td>\n      <td>Pardo, Andrea</td>\n      <td>1003010059</td>\n      <td>Physician</td>\n      <td>UNKNOWN</td>\n      <td>11175 Campus St, Room A1120C</td>\n      <td>Loma Linda</td>\n      <td>San Bernardino</td>\n      <td>...</td>\n      <td>2014</td>\n      <td>2015</td>\n      <td>2</td>\n      <td>MU</td>\n      <td>PHYSICIANS         FACULTY</td>\n      <td>1275583007</td>\n      <td>29750.0</td>\n      <td>8500.0</td>\n      <td>34.050607</td>\n      <td>-117.265614</td>\n    </tr>\n    <tr>\n      <th>4</th>\n      <td>-117.867478</td>\n      <td>33.779086</td>\n      <td>5</td>\n      <td>Lim, kyung A</td>\n      <td>1003010372</td>\n      <td>Dentist</td>\n      <td>UNKNOWN</td>\n      <td>530 South Main St.</td>\n      <td>Orange</td>\n      <td>Orange</td>\n      <td>...</td>\n      <td>2013</td>\n      <td>2014</td>\n      <td>1</td>\n      <td>AIU</td>\n      <td>Dental Western</td>\n      <td>1477627156</td>\n      <td>21250.0</td>\n      <td>21250.0</td>\n      <td>33.779086</td>\n      <td>-117.867478</td>\n    </tr>\n  </tbody>\n</table>\n<p>5 rows × 22 columns</p>\n</div>"
          },
          "metadata": {}
        }
      ],
      "execution_count": 3,
      "metadata": {
        "collapsed": true,
        "jupyter": {
          "source_hidden": false,
          "outputs_hidden": false
        },
        "nteract": {
          "transient": {
            "deleting": false
          }
        },
        "execution": {
          "iopub.status.busy": "2021-03-07T00:28:26.842Z",
          "iopub.execute_input": "2021-03-07T00:28:26.848Z",
          "iopub.status.idle": "2021-03-07T00:28:26.857Z",
          "shell.execute_reply": "2021-03-07T00:28:26.663Z"
        }
      }
    },
    {
      "cell_type": "code",
      "source": [
        "ehr_data.tail()"
      ],
      "outputs": [
        {
          "output_type": "execute_result",
          "execution_count": 4,
          "data": {
            "text/plain": "                X          Y  OBJECTID         Provider_Name         NPI  \\\n25686 -118.284093  33.960036     25687      Anakwenze, Vicki  1992986947   \n25687 -118.344352  33.965712     25688  Kushnirenko, Tatyana  1992989305   \n25688 -122.408336  37.793989     25689           Yuen, Jenny  1992999569   \n25689 -118.445983  34.324488     25690             Toy, Lisa  1992975403   \n25690 -120.839790  38.682213     25691           Ziese, Siri  1992998496   \n\n      Medicaid_EP_Hospital_Type         Specialty  \\\n25686                 Physician  GENERAL PRACTICE   \n25687        Nurse Practitioner           UNKNOWN   \n25688       Doctor of Optometry           UNKNOWN   \n25689                 Physician           UNKNOWN   \n25690                   Dentist           UNKNOWN   \n\n                                 Business_Street_Address  Business_City  \\\n25686                         600 W MANCHESTER AVE STE 3    Los Angeles   \n25687                            301 N Prairie Blvd #300      Inglewood   \n25688                             929 Clay St., Ste. 503  San Francisco   \n25689  14445 Olive View Drive, Olive View-UCLA Med Ct...         Sylmar   \n25690                          6400 Pleasant Valley Road      El Dorado   \n\n      Business_County  ...  Program_Year Payment_Year  Payment_Year_Number  \\\n25686     Los Angeles  ...          2011         2012                    1   \n25687     Los Angeles  ...          2015         2016                    2   \n25688   San Francisco  ...          2015         2017                    1   \n25689     Los Angeles  ...          2012         2013                    1   \n25690       El Dorado  ...          2012         2013                    1   \n\n       Payment_Criteria_Medicaid                       Payee_Name   Payee_NPI  \\\n25686                        AIU     CARE MED GROUP     VICTORIAN  1821172008   \n25687                         MU     CITY COMMUNITY       MISSION  1760409791   \n25688                        AIU  Designated Payee Name not Found  1972835452   \n25689                        AIU               ANGELES CO     LOS  1316969934   \n25690                        AIU  Designated Payee Name not Found  1992998496   \n\n      total_payments  total_recent_payments   Latitude   Longitude  \n25686        21250.0                21250.0  33.960036 -118.284093  \n25687        29750.0                 8500.0  33.965712 -118.344352  \n25688        21250.0                21250.0  37.793989 -122.408336  \n25689        21250.0                21250.0  34.324488 -118.445983  \n25690        21250.0                21250.0  38.682213 -120.839790  \n\n[5 rows x 22 columns]",
            "text/html": "<div>\n<style scoped>\n    .dataframe tbody tr th:only-of-type {\n        vertical-align: middle;\n    }\n\n    .dataframe tbody tr th {\n        vertical-align: top;\n    }\n\n    .dataframe thead th {\n        text-align: right;\n    }\n</style>\n<table border=\"1\" class=\"dataframe\">\n  <thead>\n    <tr style=\"text-align: right;\">\n      <th></th>\n      <th>X</th>\n      <th>Y</th>\n      <th>OBJECTID</th>\n      <th>Provider_Name</th>\n      <th>NPI</th>\n      <th>Medicaid_EP_Hospital_Type</th>\n      <th>Specialty</th>\n      <th>Business_Street_Address</th>\n      <th>Business_City</th>\n      <th>Business_County</th>\n      <th>...</th>\n      <th>Program_Year</th>\n      <th>Payment_Year</th>\n      <th>Payment_Year_Number</th>\n      <th>Payment_Criteria_Medicaid</th>\n      <th>Payee_Name</th>\n      <th>Payee_NPI</th>\n      <th>total_payments</th>\n      <th>total_recent_payments</th>\n      <th>Latitude</th>\n      <th>Longitude</th>\n    </tr>\n  </thead>\n  <tbody>\n    <tr>\n      <th>25686</th>\n      <td>-118.284093</td>\n      <td>33.960036</td>\n      <td>25687</td>\n      <td>Anakwenze, Vicki</td>\n      <td>1992986947</td>\n      <td>Physician</td>\n      <td>GENERAL PRACTICE</td>\n      <td>600 W MANCHESTER AVE STE 3</td>\n      <td>Los Angeles</td>\n      <td>Los Angeles</td>\n      <td>...</td>\n      <td>2011</td>\n      <td>2012</td>\n      <td>1</td>\n      <td>AIU</td>\n      <td>CARE MED GROUP     VICTORIAN</td>\n      <td>1821172008</td>\n      <td>21250.0</td>\n      <td>21250.0</td>\n      <td>33.960036</td>\n      <td>-118.284093</td>\n    </tr>\n    <tr>\n      <th>25687</th>\n      <td>-118.344352</td>\n      <td>33.965712</td>\n      <td>25688</td>\n      <td>Kushnirenko, Tatyana</td>\n      <td>1992989305</td>\n      <td>Nurse Practitioner</td>\n      <td>UNKNOWN</td>\n      <td>301 N Prairie Blvd #300</td>\n      <td>Inglewood</td>\n      <td>Los Angeles</td>\n      <td>...</td>\n      <td>2015</td>\n      <td>2016</td>\n      <td>2</td>\n      <td>MU</td>\n      <td>CITY COMMUNITY       MISSION</td>\n      <td>1760409791</td>\n      <td>29750.0</td>\n      <td>8500.0</td>\n      <td>33.965712</td>\n      <td>-118.344352</td>\n    </tr>\n    <tr>\n      <th>25688</th>\n      <td>-122.408336</td>\n      <td>37.793989</td>\n      <td>25689</td>\n      <td>Yuen, Jenny</td>\n      <td>1992999569</td>\n      <td>Doctor of Optometry</td>\n      <td>UNKNOWN</td>\n      <td>929 Clay St., Ste. 503</td>\n      <td>San Francisco</td>\n      <td>San Francisco</td>\n      <td>...</td>\n      <td>2015</td>\n      <td>2017</td>\n      <td>1</td>\n      <td>AIU</td>\n      <td>Designated Payee Name not Found</td>\n      <td>1972835452</td>\n      <td>21250.0</td>\n      <td>21250.0</td>\n      <td>37.793989</td>\n      <td>-122.408336</td>\n    </tr>\n    <tr>\n      <th>25689</th>\n      <td>-118.445983</td>\n      <td>34.324488</td>\n      <td>25690</td>\n      <td>Toy, Lisa</td>\n      <td>1992975403</td>\n      <td>Physician</td>\n      <td>UNKNOWN</td>\n      <td>14445 Olive View Drive, Olive View-UCLA Med Ct...</td>\n      <td>Sylmar</td>\n      <td>Los Angeles</td>\n      <td>...</td>\n      <td>2012</td>\n      <td>2013</td>\n      <td>1</td>\n      <td>AIU</td>\n      <td>ANGELES CO     LOS</td>\n      <td>1316969934</td>\n      <td>21250.0</td>\n      <td>21250.0</td>\n      <td>34.324488</td>\n      <td>-118.445983</td>\n    </tr>\n    <tr>\n      <th>25690</th>\n      <td>-120.839790</td>\n      <td>38.682213</td>\n      <td>25691</td>\n      <td>Ziese, Siri</td>\n      <td>1992998496</td>\n      <td>Dentist</td>\n      <td>UNKNOWN</td>\n      <td>6400 Pleasant Valley Road</td>\n      <td>El Dorado</td>\n      <td>El Dorado</td>\n      <td>...</td>\n      <td>2012</td>\n      <td>2013</td>\n      <td>1</td>\n      <td>AIU</td>\n      <td>Designated Payee Name not Found</td>\n      <td>1992998496</td>\n      <td>21250.0</td>\n      <td>21250.0</td>\n      <td>38.682213</td>\n      <td>-120.839790</td>\n    </tr>\n  </tbody>\n</table>\n<p>5 rows × 22 columns</p>\n</div>"
          },
          "metadata": {}
        }
      ],
      "execution_count": 4,
      "metadata": {
        "collapsed": true,
        "jupyter": {
          "source_hidden": false,
          "outputs_hidden": false
        },
        "nteract": {
          "transient": {
            "deleting": false
          }
        },
        "execution": {
          "iopub.status.busy": "2021-03-07T00:28:26.865Z",
          "iopub.execute_input": "2021-03-07T00:28:26.870Z",
          "iopub.status.idle": "2021-03-07T00:28:26.880Z",
          "shell.execute_reply": "2021-03-07T00:28:26.669Z"
        }
      }
    },
    {
      "cell_type": "code",
      "source": [
        "ehr_data.info()"
      ],
      "outputs": [
        {
          "output_type": "stream",
          "name": "stdout",
          "text": [
            "<class 'pandas.core.frame.DataFrame'>\n",
            "RangeIndex: 25691 entries, 0 to 25690\n",
            "Data columns (total 22 columns):\n",
            " #   Column                     Non-Null Count  Dtype  \n",
            "---  ------                     --------------  -----  \n",
            " 0   X                          25691 non-null  float64\n",
            " 1   Y                          25691 non-null  float64\n",
            " 2   OBJECTID                   25691 non-null  int64  \n",
            " 3   Provider_Name              25691 non-null  object \n",
            " 4   NPI                        25691 non-null  int64  \n",
            " 5   Medicaid_EP_Hospital_Type  25691 non-null  object \n",
            " 6   Specialty                  25691 non-null  object \n",
            " 7   Business_Street_Address    25691 non-null  object \n",
            " 8   Business_City              25691 non-null  object \n",
            " 9   Business_County            25691 non-null  object \n",
            " 10  Business_ZIP_Code          25691 non-null  int64  \n",
            " 11  Business_State_Territory   25691 non-null  object \n",
            " 12  Program_Year               25691 non-null  int64  \n",
            " 13  Payment_Year               25691 non-null  int64  \n",
            " 14  Payment_Year_Number        25691 non-null  int64  \n",
            " 15  Payment_Criteria_Medicaid  25691 non-null  object \n",
            " 16  Payee_Name                 25691 non-null  object \n",
            " 17  Payee_NPI                  25691 non-null  int64  \n",
            " 18  total_payments             25691 non-null  float64\n",
            " 19  total_recent_payments      25691 non-null  float64\n",
            " 20  Latitude                   25691 non-null  float64\n",
            " 21  Longitude                  25691 non-null  float64\n",
            "dtypes: float64(6), int64(7), object(9)\n",
            "memory usage: 4.3+ MB\n"
          ]
        }
      ],
      "execution_count": 5,
      "metadata": {
        "collapsed": true,
        "jupyter": {
          "source_hidden": false,
          "outputs_hidden": false
        },
        "nteract": {
          "transient": {
            "deleting": false
          }
        },
        "execution": {
          "iopub.status.busy": "2021-03-07T00:28:26.888Z",
          "iopub.execute_input": "2021-03-07T00:28:26.893Z",
          "iopub.status.idle": "2021-03-07T00:28:26.902Z",
          "shell.execute_reply": "2021-03-07T00:28:26.675Z"
        }
      }
    },
    {
      "cell_type": "code",
      "source": [
        "print(\"Exploratory Data Analysis\")\n",
        "print(\"Electronic Health Record Data\")\n",
        "print('-'*40)\n",
        "print(\"Dataset information\") \n",
        "print(ehr_data.info(memory_usage='deep',verbose=False))\n",
        "print('-'*40)\n",
        "print(ehr_data.info())\n",
        "print('-'*40)\n",
        "print(\"Data type:\")\n",
        "print(ehr_data.dtypes)\n",
        "print('-'*40)\n",
        "print(\"Check unique values without NaN\")\n",
        "print(ehr_data.nunique())\n",
        "print('-'*40)\n",
        "print(\"Data shape:\")\n",
        "print(ehr_data.shape)\n",
        "print('-'*40)\n",
        "print(\"Data columns Names:\")\n",
        "print(ehr_data.columns)\n",
        "print('-'*40)\n",
        "print(\"Check for NaNs:\")\n",
        "print(ehr_data.isnull().values.any())\n",
        "print('-'*40)\n",
        "print(\"How many NaN it has in each columns?\")\n",
        "print(ehr_data.isnull().sum())\n",
        "print('-'*40)\n",
        "print(\"Data Statistics Summary:\")\n",
        "print(ehr_data.describe())\n",
        "print('\\n')"
      ],
      "outputs": [
        {
          "output_type": "stream",
          "name": "stdout",
          "text": [
            "Exploratory Data Analysis\n",
            "Electronic Health Record Data\n",
            "----------------------------------------\n",
            "Dataset information\n",
            "<class 'pandas.core.frame.DataFrame'>\n",
            "RangeIndex: 25691 entries, 0 to 25690\n",
            "Columns: 22 entries, X to Longitude\n",
            "dtypes: float64(6), int64(7), object(9)\n",
            "memory usage: 18.0 MB\n",
            "None\n",
            "----------------------------------------\n",
            "<class 'pandas.core.frame.DataFrame'>\n",
            "RangeIndex: 25691 entries, 0 to 25690\n",
            "Data columns (total 22 columns):\n",
            " #   Column                     Non-Null Count  Dtype  \n",
            "---  ------                     --------------  -----  \n",
            " 0   X                          25691 non-null  float64\n",
            " 1   Y                          25691 non-null  float64\n",
            " 2   OBJECTID                   25691 non-null  int64  \n",
            " 3   Provider_Name              25691 non-null  object \n",
            " 4   NPI                        25691 non-null  int64  \n",
            " 5   Medicaid_EP_Hospital_Type  25691 non-null  object \n",
            " 6   Specialty                  25691 non-null  object \n",
            " 7   Business_Street_Address    25691 non-null  object \n",
            " 8   Business_City              25691 non-null  object \n",
            " 9   Business_County            25691 non-null  object \n",
            " 10  Business_ZIP_Code          25691 non-null  int64  \n",
            " 11  Business_State_Territory   25691 non-null  object \n",
            " 12  Program_Year               25691 non-null  int64  \n",
            " 13  Payment_Year               25691 non-null  int64  \n",
            " 14  Payment_Year_Number        25691 non-null  int64  \n",
            " 15  Payment_Criteria_Medicaid  25691 non-null  object \n",
            " 16  Payee_Name                 25691 non-null  object \n",
            " 17  Payee_NPI                  25691 non-null  int64  \n",
            " 18  total_payments             25691 non-null  float64\n",
            " 19  total_recent_payments      25691 non-null  float64\n",
            " 20  Latitude                   25691 non-null  float64\n",
            " 21  Longitude                  25691 non-null  float64\n",
            "dtypes: float64(6), int64(7), object(9)\n",
            "memory usage: 4.3+ MB\n",
            "None\n",
            "----------------------------------------\n",
            "Data type:\n",
            "X                            float64\n",
            "Y                            float64\n",
            "OBJECTID                       int64\n",
            "Provider_Name                 object\n",
            "NPI                            int64\n",
            "Medicaid_EP_Hospital_Type     object\n",
            "Specialty                     object\n",
            "Business_Street_Address       object\n",
            "Business_City                 object\n",
            "Business_County               object\n",
            "Business_ZIP_Code              int64\n",
            "Business_State_Territory      object\n",
            "Program_Year                   int64\n",
            "Payment_Year                   int64\n",
            "Payment_Year_Number            int64\n",
            "Payment_Criteria_Medicaid     object\n",
            "Payee_Name                    object\n",
            "Payee_NPI                      int64\n",
            "total_payments               float64\n",
            "total_recent_payments        float64\n",
            "Latitude                     float64\n",
            "Longitude                    float64\n",
            "dtype: object\n",
            "----------------------------------------\n",
            "Check unique values without NaN\n",
            "X                             5590\n",
            "Y                             5577\n",
            "OBJECTID                     25691\n",
            "Provider_Name                25344\n",
            "NPI                          25691\n",
            "Medicaid_EP_Hospital_Type        6\n",
            "Specialty                       65\n",
            "Business_Street_Address      10270\n",
            "Business_City                  955\n",
            "Business_County                 59\n",
            "Business_ZIP_Code             1075\n",
            "Business_State_Territory         1\n",
            "Program_Year                    10\n",
            "Payment_Year                     9\n",
            "Payment_Year_Number              6\n",
            "Payment_Criteria_Medicaid        2\n",
            "Payee_Name                    3995\n",
            "Payee_NPI                     6272\n",
            "total_payments                  64\n",
            "total_recent_payments           10\n",
            "Latitude                      5577\n",
            "Longitude                     5590\n",
            "dtype: int64\n",
            "----------------------------------------\n",
            "Data shape:\n",
            "(25691, 22)\n",
            "----------------------------------------\n",
            "Data columns Names:\n",
            "Index(['X', 'Y', 'OBJECTID', 'Provider_Name', 'NPI',\n",
            "       'Medicaid_EP_Hospital_Type', 'Specialty', 'Business_Street_Address',\n",
            "       'Business_City', 'Business_County', 'Business_ZIP_Code',\n",
            "       'Business_State_Territory', 'Program_Year', 'Payment_Year',\n",
            "       'Payment_Year_Number', 'Payment_Criteria_Medicaid', 'Payee_Name',\n",
            "       'Payee_NPI', 'total_payments', 'total_recent_payments', 'Latitude',\n",
            "       'Longitude'],\n",
            "      dtype='object')\n",
            "----------------------------------------\n",
            "Check for NaNs:\n",
            "False\n",
            "----------------------------------------\n",
            "How many NaN it has in each columns?\n",
            "X                            0\n",
            "Y                            0\n",
            "OBJECTID                     0\n",
            "Provider_Name                0\n",
            "NPI                          0\n",
            "Medicaid_EP_Hospital_Type    0\n",
            "Specialty                    0\n",
            "Business_Street_Address      0\n",
            "Business_City                0\n",
            "Business_County              0\n",
            "Business_ZIP_Code            0\n",
            "Business_State_Territory     0\n",
            "Program_Year                 0\n",
            "Payment_Year                 0\n",
            "Payment_Year_Number          0\n",
            "Payment_Criteria_Medicaid    0\n",
            "Payee_Name                   0\n",
            "Payee_NPI                    0\n",
            "total_payments               0\n",
            "total_recent_payments        0\n",
            "Latitude                     0\n",
            "Longitude                    0\n",
            "dtype: int64\n",
            "----------------------------------------\n",
            "Data Statistics Summary:\n",
            "                  X             Y      OBJECTID           NPI  \\\n",
            "count  25691.000000  25691.000000  25691.000000  2.569100e+04   \n",
            "mean    -119.547305     35.556689  12846.000000  1.500277e+09   \n",
            "std        2.023064      2.098932   7416.497219  2.870431e+08   \n",
            "min     -124.261685     32.558280      1.000000  1.003004e+09   \n",
            "25%     -121.878240     33.931861   6423.500000  1.255367e+09   \n",
            "50%     -118.445983     34.219683  12846.000000  1.508020e+09   \n",
            "75%     -117.975432     37.756332  19268.500000  1.745514e+09   \n",
            "max     -114.599924     41.964287  25691.000000  1.993000e+09   \n",
            "\n",
            "       Business_ZIP_Code  Program_Year  Payment_Year  Payment_Year_Number  \\\n",
            "count       25691.000000  25691.000000  25691.000000         25691.000000   \n",
            "mean        92890.083531   2014.997976   2015.902067             2.196917   \n",
            "std          1845.851756      2.440749      2.415981             1.630466   \n",
            "min         90001.000000   2011.000000   2012.000000             1.000000   \n",
            "25%         91353.500000   2013.000000   2014.000000             1.000000   \n",
            "50%         92868.000000   2015.000000   2016.000000             1.000000   \n",
            "75%         94553.000000   2017.000000   2018.000000             3.000000   \n",
            "max         96161.000000   2020.000000   2020.000000             6.000000   \n",
            "\n",
            "          Payee_NPI  total_payments  total_recent_payments      Latitude  \\\n",
            "count  2.569100e+04    25691.000000           25691.000000  25691.000000   \n",
            "mean   1.471618e+09    30993.723676           15284.829258     35.556689   \n",
            "std    2.782789e+08    13789.971202            6402.156462      2.098932   \n",
            "min    1.003001e+09        0.000000               0.000000     32.558280   \n",
            "25%    1.245343e+09    21250.000000            8500.000000     33.931861   \n",
            "50%    1.447262e+09    21250.000000           21250.000000     34.219683   \n",
            "75%    1.689864e+09    38250.000000           21250.000000     37.756332   \n",
            "max    1.992998e+09    63750.000000           21250.000000     41.964287   \n",
            "\n",
            "          Longitude  \n",
            "count  25691.000000  \n",
            "mean    -119.547305  \n",
            "std        2.023064  \n",
            "min     -124.261685  \n",
            "25%     -121.878240  \n",
            "50%     -118.445983  \n",
            "75%     -117.975432  \n",
            "max     -114.599924  \n",
            "\n",
            "\n"
          ]
        }
      ],
      "execution_count": 6,
      "metadata": {
        "collapsed": true,
        "jupyter": {
          "source_hidden": false,
          "outputs_hidden": false
        },
        "nteract": {
          "transient": {
            "deleting": false
          }
        },
        "execution": {
          "iopub.status.busy": "2021-03-07T00:28:26.910Z",
          "iopub.execute_input": "2021-03-07T00:28:26.915Z",
          "shell.execute_reply": "2021-03-07T00:28:26.680Z",
          "iopub.status.idle": "2021-03-07T00:28:26.925Z"
        }
      }
    },
    {
      "cell_type": "code",
      "source": [
        "ehr_data[\"Provider_Name\"]"
      ],
      "outputs": [
        {
          "output_type": "execute_result",
          "execution_count": 7,
          "data": {
            "text/plain": "0                Choti, Supak\n1            Sheikh, Mohammad\n2              vontela, rekha\n3               Pardo, Andrea\n4                Lim, kyung A\n                 ...         \n25686        Anakwenze, Vicki\n25687    Kushnirenko, Tatyana\n25688             Yuen, Jenny\n25689               Toy, Lisa\n25690             Ziese, Siri\nName: Provider_Name, Length: 25691, dtype: object"
          },
          "metadata": {}
        }
      ],
      "execution_count": 7,
      "metadata": {
        "collapsed": true,
        "jupyter": {
          "source_hidden": false,
          "outputs_hidden": false
        },
        "nteract": {
          "transient": {
            "deleting": false
          }
        },
        "execution": {
          "iopub.status.busy": "2021-03-07T00:28:26.932Z",
          "iopub.execute_input": "2021-03-07T00:28:26.938Z",
          "iopub.status.idle": "2021-03-07T00:28:26.947Z",
          "shell.execute_reply": "2021-03-07T00:28:26.686Z"
        }
      }
    },
    {
      "cell_type": "code",
      "source": [
        "ehr_data[['Last_Name', 'First_Name']] = ehr_data[\"Provider_Name\"].str.split(\", \", n = 1, expand = True) "
      ],
      "outputs": [],
      "execution_count": 8,
      "metadata": {
        "collapsed": true,
        "jupyter": {
          "source_hidden": false,
          "outputs_hidden": false
        },
        "nteract": {
          "transient": {
            "deleting": false
          }
        },
        "execution": {
          "iopub.status.busy": "2021-03-07T00:28:26.954Z",
          "iopub.execute_input": "2021-03-07T00:28:26.959Z",
          "iopub.status.idle": "2021-03-07T00:28:26.966Z",
          "shell.execute_reply": "2021-03-07T00:28:26.693Z"
        }
      }
    },
    {
      "cell_type": "code",
      "source": [
        "ehr_data"
      ],
      "outputs": [
        {
          "output_type": "execute_result",
          "execution_count": 9,
          "data": {
            "text/plain": "                X          Y  OBJECTID         Provider_Name         NPI  \\\n0     -121.376390  38.556297         1          Choti, Supak  1003003781   \n1     -122.242829  37.781795         2      Sheikh, Mohammad  1003009077   \n2     -121.805014  37.983654         3        vontela, rekha  1003009440   \n3     -117.265614  34.050607         4         Pardo, Andrea  1003010059   \n4     -117.867478  33.779086         5          Lim, kyung A  1003010372   \n...           ...        ...       ...                   ...         ...   \n25686 -118.284093  33.960036     25687      Anakwenze, Vicki  1992986947   \n25687 -118.344352  33.965712     25688  Kushnirenko, Tatyana  1992989305   \n25688 -122.408336  37.793989     25689           Yuen, Jenny  1992999569   \n25689 -118.445983  34.324488     25690             Toy, Lisa  1992975403   \n25690 -120.839790  38.682213     25691           Ziese, Siri  1992998496   \n\n      Medicaid_EP_Hospital_Type         Specialty  \\\n0                       Dentist           UNKNOWN   \n1                     Physician        PSYCHIATRY   \n2                       Dentist           UNKNOWN   \n3                     Physician           UNKNOWN   \n4                       Dentist           UNKNOWN   \n...                         ...               ...   \n25686                 Physician  GENERAL PRACTICE   \n25687        Nurse Practitioner           UNKNOWN   \n25688       Doctor of Optometry           UNKNOWN   \n25689                 Physician           UNKNOWN   \n25690                   Dentist           UNKNOWN   \n\n                                 Business_Street_Address  Business_City  \\\n0                                  8890 Cal Center Drive     Sacramento   \n1                               2000 Embarcadero Ste 101        Oakland   \n2                            3737 Lone Tree Way, suite F        Antioch   \n3                           11175 Campus St, Room A1120C     Loma Linda   \n4                                     530 South Main St.         Orange   \n...                                                  ...            ...   \n25686                         600 W MANCHESTER AVE STE 3    Los Angeles   \n25687                            301 N Prairie Blvd #300      Inglewood   \n25688                             929 Clay St., Ste. 503  San Francisco   \n25689  14445 Olive View Drive, Olive View-UCLA Med Ct...         Sylmar   \n25690                          6400 Pleasant Valley Road      El Dorado   \n\n      Business_County  ...  Payment_Year_Number Payment_Criteria_Medicaid  \\\n0          Sacramento  ...                    3                        MU   \n1             Alameda  ...                    1                       AIU   \n2        Contra Costa  ...                    1                       AIU   \n3      San Bernardino  ...                    2                        MU   \n4              Orange  ...                    1                       AIU   \n...               ...  ...                  ...                       ...   \n25686     Los Angeles  ...                    1                       AIU   \n25687     Los Angeles  ...                    2                        MU   \n25688   San Francisco  ...                    1                       AIU   \n25689     Los Angeles  ...                    1                       AIU   \n25690       El Dorado  ...                    1                       AIU   \n\n                            Payee_Name   Payee_NPI  total_payments  \\\n0         DINSHAW SARKARI ADC   CHERAG  1821152562         38250.0   \n1                    of Alameda County  1659402303         21250.0   \n2      Designated Payee Name not Found  1427388875         21250.0   \n3           PHYSICIANS         FACULTY  1275583007         29750.0   \n4                       Dental Western  1477627156         21250.0   \n...                                ...         ...             ...   \n25686     CARE MED GROUP     VICTORIAN  1821172008         21250.0   \n25687     CITY COMMUNITY       MISSION  1760409791         29750.0   \n25688  Designated Payee Name not Found  1972835452         21250.0   \n25689               ANGELES CO     LOS  1316969934         21250.0   \n25690  Designated Payee Name not Found  1992998496         21250.0   \n\n      total_recent_payments   Latitude   Longitude    Last_Name  First_Name  \n0                    8500.0  38.556297 -121.376390        Choti       Supak  \n1                   21250.0  37.781795 -122.242829       Sheikh    Mohammad  \n2                   21250.0  37.983654 -121.805014      vontela       rekha  \n3                    8500.0  34.050607 -117.265614        Pardo      Andrea  \n4                   21250.0  33.779086 -117.867478          Lim     kyung A  \n...                     ...        ...         ...          ...         ...  \n25686               21250.0  33.960036 -118.284093    Anakwenze       Vicki  \n25687                8500.0  33.965712 -118.344352  Kushnirenko     Tatyana  \n25688               21250.0  37.793989 -122.408336         Yuen       Jenny  \n25689               21250.0  34.324488 -118.445983          Toy        Lisa  \n25690               21250.0  38.682213 -120.839790        Ziese        Siri  \n\n[25691 rows x 24 columns]",
            "text/html": "<div>\n<style scoped>\n    .dataframe tbody tr th:only-of-type {\n        vertical-align: middle;\n    }\n\n    .dataframe tbody tr th {\n        vertical-align: top;\n    }\n\n    .dataframe thead th {\n        text-align: right;\n    }\n</style>\n<table border=\"1\" class=\"dataframe\">\n  <thead>\n    <tr style=\"text-align: right;\">\n      <th></th>\n      <th>X</th>\n      <th>Y</th>\n      <th>OBJECTID</th>\n      <th>Provider_Name</th>\n      <th>NPI</th>\n      <th>Medicaid_EP_Hospital_Type</th>\n      <th>Specialty</th>\n      <th>Business_Street_Address</th>\n      <th>Business_City</th>\n      <th>Business_County</th>\n      <th>...</th>\n      <th>Payment_Year_Number</th>\n      <th>Payment_Criteria_Medicaid</th>\n      <th>Payee_Name</th>\n      <th>Payee_NPI</th>\n      <th>total_payments</th>\n      <th>total_recent_payments</th>\n      <th>Latitude</th>\n      <th>Longitude</th>\n      <th>Last_Name</th>\n      <th>First_Name</th>\n    </tr>\n  </thead>\n  <tbody>\n    <tr>\n      <th>0</th>\n      <td>-121.376390</td>\n      <td>38.556297</td>\n      <td>1</td>\n      <td>Choti, Supak</td>\n      <td>1003003781</td>\n      <td>Dentist</td>\n      <td>UNKNOWN</td>\n      <td>8890 Cal Center Drive</td>\n      <td>Sacramento</td>\n      <td>Sacramento</td>\n      <td>...</td>\n      <td>3</td>\n      <td>MU</td>\n      <td>DINSHAW SARKARI ADC   CHERAG</td>\n      <td>1821152562</td>\n      <td>38250.0</td>\n      <td>8500.0</td>\n      <td>38.556297</td>\n      <td>-121.376390</td>\n      <td>Choti</td>\n      <td>Supak</td>\n    </tr>\n    <tr>\n      <th>1</th>\n      <td>-122.242829</td>\n      <td>37.781795</td>\n      <td>2</td>\n      <td>Sheikh, Mohammad</td>\n      <td>1003009077</td>\n      <td>Physician</td>\n      <td>PSYCHIATRY</td>\n      <td>2000 Embarcadero Ste 101</td>\n      <td>Oakland</td>\n      <td>Alameda</td>\n      <td>...</td>\n      <td>1</td>\n      <td>AIU</td>\n      <td>of Alameda County</td>\n      <td>1659402303</td>\n      <td>21250.0</td>\n      <td>21250.0</td>\n      <td>37.781795</td>\n      <td>-122.242829</td>\n      <td>Sheikh</td>\n      <td>Mohammad</td>\n    </tr>\n    <tr>\n      <th>2</th>\n      <td>-121.805014</td>\n      <td>37.983654</td>\n      <td>3</td>\n      <td>vontela, rekha</td>\n      <td>1003009440</td>\n      <td>Dentist</td>\n      <td>UNKNOWN</td>\n      <td>3737 Lone Tree Way, suite F</td>\n      <td>Antioch</td>\n      <td>Contra Costa</td>\n      <td>...</td>\n      <td>1</td>\n      <td>AIU</td>\n      <td>Designated Payee Name not Found</td>\n      <td>1427388875</td>\n      <td>21250.0</td>\n      <td>21250.0</td>\n      <td>37.983654</td>\n      <td>-121.805014</td>\n      <td>vontela</td>\n      <td>rekha</td>\n    </tr>\n    <tr>\n      <th>3</th>\n      <td>-117.265614</td>\n      <td>34.050607</td>\n      <td>4</td>\n      <td>Pardo, Andrea</td>\n      <td>1003010059</td>\n      <td>Physician</td>\n      <td>UNKNOWN</td>\n      <td>11175 Campus St, Room A1120C</td>\n      <td>Loma Linda</td>\n      <td>San Bernardino</td>\n      <td>...</td>\n      <td>2</td>\n      <td>MU</td>\n      <td>PHYSICIANS         FACULTY</td>\n      <td>1275583007</td>\n      <td>29750.0</td>\n      <td>8500.0</td>\n      <td>34.050607</td>\n      <td>-117.265614</td>\n      <td>Pardo</td>\n      <td>Andrea</td>\n    </tr>\n    <tr>\n      <th>4</th>\n      <td>-117.867478</td>\n      <td>33.779086</td>\n      <td>5</td>\n      <td>Lim, kyung A</td>\n      <td>1003010372</td>\n      <td>Dentist</td>\n      <td>UNKNOWN</td>\n      <td>530 South Main St.</td>\n      <td>Orange</td>\n      <td>Orange</td>\n      <td>...</td>\n      <td>1</td>\n      <td>AIU</td>\n      <td>Dental Western</td>\n      <td>1477627156</td>\n      <td>21250.0</td>\n      <td>21250.0</td>\n      <td>33.779086</td>\n      <td>-117.867478</td>\n      <td>Lim</td>\n      <td>kyung A</td>\n    </tr>\n    <tr>\n      <th>...</th>\n      <td>...</td>\n      <td>...</td>\n      <td>...</td>\n      <td>...</td>\n      <td>...</td>\n      <td>...</td>\n      <td>...</td>\n      <td>...</td>\n      <td>...</td>\n      <td>...</td>\n      <td>...</td>\n      <td>...</td>\n      <td>...</td>\n      <td>...</td>\n      <td>...</td>\n      <td>...</td>\n      <td>...</td>\n      <td>...</td>\n      <td>...</td>\n      <td>...</td>\n      <td>...</td>\n    </tr>\n    <tr>\n      <th>25686</th>\n      <td>-118.284093</td>\n      <td>33.960036</td>\n      <td>25687</td>\n      <td>Anakwenze, Vicki</td>\n      <td>1992986947</td>\n      <td>Physician</td>\n      <td>GENERAL PRACTICE</td>\n      <td>600 W MANCHESTER AVE STE 3</td>\n      <td>Los Angeles</td>\n      <td>Los Angeles</td>\n      <td>...</td>\n      <td>1</td>\n      <td>AIU</td>\n      <td>CARE MED GROUP     VICTORIAN</td>\n      <td>1821172008</td>\n      <td>21250.0</td>\n      <td>21250.0</td>\n      <td>33.960036</td>\n      <td>-118.284093</td>\n      <td>Anakwenze</td>\n      <td>Vicki</td>\n    </tr>\n    <tr>\n      <th>25687</th>\n      <td>-118.344352</td>\n      <td>33.965712</td>\n      <td>25688</td>\n      <td>Kushnirenko, Tatyana</td>\n      <td>1992989305</td>\n      <td>Nurse Practitioner</td>\n      <td>UNKNOWN</td>\n      <td>301 N Prairie Blvd #300</td>\n      <td>Inglewood</td>\n      <td>Los Angeles</td>\n      <td>...</td>\n      <td>2</td>\n      <td>MU</td>\n      <td>CITY COMMUNITY       MISSION</td>\n      <td>1760409791</td>\n      <td>29750.0</td>\n      <td>8500.0</td>\n      <td>33.965712</td>\n      <td>-118.344352</td>\n      <td>Kushnirenko</td>\n      <td>Tatyana</td>\n    </tr>\n    <tr>\n      <th>25688</th>\n      <td>-122.408336</td>\n      <td>37.793989</td>\n      <td>25689</td>\n      <td>Yuen, Jenny</td>\n      <td>1992999569</td>\n      <td>Doctor of Optometry</td>\n      <td>UNKNOWN</td>\n      <td>929 Clay St., Ste. 503</td>\n      <td>San Francisco</td>\n      <td>San Francisco</td>\n      <td>...</td>\n      <td>1</td>\n      <td>AIU</td>\n      <td>Designated Payee Name not Found</td>\n      <td>1972835452</td>\n      <td>21250.0</td>\n      <td>21250.0</td>\n      <td>37.793989</td>\n      <td>-122.408336</td>\n      <td>Yuen</td>\n      <td>Jenny</td>\n    </tr>\n    <tr>\n      <th>25689</th>\n      <td>-118.445983</td>\n      <td>34.324488</td>\n      <td>25690</td>\n      <td>Toy, Lisa</td>\n      <td>1992975403</td>\n      <td>Physician</td>\n      <td>UNKNOWN</td>\n      <td>14445 Olive View Drive, Olive View-UCLA Med Ct...</td>\n      <td>Sylmar</td>\n      <td>Los Angeles</td>\n      <td>...</td>\n      <td>1</td>\n      <td>AIU</td>\n      <td>ANGELES CO     LOS</td>\n      <td>1316969934</td>\n      <td>21250.0</td>\n      <td>21250.0</td>\n      <td>34.324488</td>\n      <td>-118.445983</td>\n      <td>Toy</td>\n      <td>Lisa</td>\n    </tr>\n    <tr>\n      <th>25690</th>\n      <td>-120.839790</td>\n      <td>38.682213</td>\n      <td>25691</td>\n      <td>Ziese, Siri</td>\n      <td>1992998496</td>\n      <td>Dentist</td>\n      <td>UNKNOWN</td>\n      <td>6400 Pleasant Valley Road</td>\n      <td>El Dorado</td>\n      <td>El Dorado</td>\n      <td>...</td>\n      <td>1</td>\n      <td>AIU</td>\n      <td>Designated Payee Name not Found</td>\n      <td>1992998496</td>\n      <td>21250.0</td>\n      <td>21250.0</td>\n      <td>38.682213</td>\n      <td>-120.839790</td>\n      <td>Ziese</td>\n      <td>Siri</td>\n    </tr>\n  </tbody>\n</table>\n<p>25691 rows × 24 columns</p>\n</div>"
          },
          "metadata": {}
        }
      ],
      "execution_count": 9,
      "metadata": {
        "collapsed": true,
        "jupyter": {
          "source_hidden": false,
          "outputs_hidden": false
        },
        "nteract": {
          "transient": {
            "deleting": false
          }
        },
        "execution": {
          "iopub.status.busy": "2021-03-07T00:28:26.974Z",
          "iopub.execute_input": "2021-03-07T00:28:26.980Z",
          "iopub.status.idle": "2021-03-07T00:28:26.991Z",
          "shell.execute_reply": "2021-03-07T00:28:26.699Z"
        }
      }
    },
    {
      "cell_type": "code",
      "source": [
        "ehr_data['First_Name'] = ehr_data['First_Name'].str.capitalize()\n",
        "\n"
      ],
      "outputs": [],
      "execution_count": 10,
      "metadata": {
        "collapsed": true,
        "jupyter": {
          "source_hidden": false,
          "outputs_hidden": false
        },
        "nteract": {
          "transient": {
            "deleting": false
          }
        },
        "execution": {
          "iopub.status.busy": "2021-03-07T00:28:27.000Z",
          "iopub.execute_input": "2021-03-07T00:28:27.005Z",
          "iopub.status.idle": "2021-03-07T00:28:27.011Z",
          "shell.execute_reply": "2021-03-07T00:28:26.705Z"
        }
      }
    },
    {
      "cell_type": "code",
      "source": [
        "ehr_data"
      ],
      "outputs": [
        {
          "output_type": "execute_result",
          "execution_count": 11,
          "data": {
            "text/plain": "                X          Y  OBJECTID         Provider_Name         NPI  \\\n0     -121.376390  38.556297         1          Choti, Supak  1003003781   \n1     -122.242829  37.781795         2      Sheikh, Mohammad  1003009077   \n2     -121.805014  37.983654         3        vontela, rekha  1003009440   \n3     -117.265614  34.050607         4         Pardo, Andrea  1003010059   \n4     -117.867478  33.779086         5          Lim, kyung A  1003010372   \n...           ...        ...       ...                   ...         ...   \n25686 -118.284093  33.960036     25687      Anakwenze, Vicki  1992986947   \n25687 -118.344352  33.965712     25688  Kushnirenko, Tatyana  1992989305   \n25688 -122.408336  37.793989     25689           Yuen, Jenny  1992999569   \n25689 -118.445983  34.324488     25690             Toy, Lisa  1992975403   \n25690 -120.839790  38.682213     25691           Ziese, Siri  1992998496   \n\n      Medicaid_EP_Hospital_Type         Specialty  \\\n0                       Dentist           UNKNOWN   \n1                     Physician        PSYCHIATRY   \n2                       Dentist           UNKNOWN   \n3                     Physician           UNKNOWN   \n4                       Dentist           UNKNOWN   \n...                         ...               ...   \n25686                 Physician  GENERAL PRACTICE   \n25687        Nurse Practitioner           UNKNOWN   \n25688       Doctor of Optometry           UNKNOWN   \n25689                 Physician           UNKNOWN   \n25690                   Dentist           UNKNOWN   \n\n                                 Business_Street_Address  Business_City  \\\n0                                  8890 Cal Center Drive     Sacramento   \n1                               2000 Embarcadero Ste 101        Oakland   \n2                            3737 Lone Tree Way, suite F        Antioch   \n3                           11175 Campus St, Room A1120C     Loma Linda   \n4                                     530 South Main St.         Orange   \n...                                                  ...            ...   \n25686                         600 W MANCHESTER AVE STE 3    Los Angeles   \n25687                            301 N Prairie Blvd #300      Inglewood   \n25688                             929 Clay St., Ste. 503  San Francisco   \n25689  14445 Olive View Drive, Olive View-UCLA Med Ct...         Sylmar   \n25690                          6400 Pleasant Valley Road      El Dorado   \n\n      Business_County  ...  Payment_Year_Number Payment_Criteria_Medicaid  \\\n0          Sacramento  ...                    3                        MU   \n1             Alameda  ...                    1                       AIU   \n2        Contra Costa  ...                    1                       AIU   \n3      San Bernardino  ...                    2                        MU   \n4              Orange  ...                    1                       AIU   \n...               ...  ...                  ...                       ...   \n25686     Los Angeles  ...                    1                       AIU   \n25687     Los Angeles  ...                    2                        MU   \n25688   San Francisco  ...                    1                       AIU   \n25689     Los Angeles  ...                    1                       AIU   \n25690       El Dorado  ...                    1                       AIU   \n\n                            Payee_Name   Payee_NPI  total_payments  \\\n0         DINSHAW SARKARI ADC   CHERAG  1821152562         38250.0   \n1                    of Alameda County  1659402303         21250.0   \n2      Designated Payee Name not Found  1427388875         21250.0   \n3           PHYSICIANS         FACULTY  1275583007         29750.0   \n4                       Dental Western  1477627156         21250.0   \n...                                ...         ...             ...   \n25686     CARE MED GROUP     VICTORIAN  1821172008         21250.0   \n25687     CITY COMMUNITY       MISSION  1760409791         29750.0   \n25688  Designated Payee Name not Found  1972835452         21250.0   \n25689               ANGELES CO     LOS  1316969934         21250.0   \n25690  Designated Payee Name not Found  1992998496         21250.0   \n\n      total_recent_payments   Latitude   Longitude    Last_Name  First_Name  \n0                    8500.0  38.556297 -121.376390        Choti       Supak  \n1                   21250.0  37.781795 -122.242829       Sheikh    Mohammad  \n2                   21250.0  37.983654 -121.805014      vontela       Rekha  \n3                    8500.0  34.050607 -117.265614        Pardo      Andrea  \n4                   21250.0  33.779086 -117.867478          Lim     Kyung a  \n...                     ...        ...         ...          ...         ...  \n25686               21250.0  33.960036 -118.284093    Anakwenze       Vicki  \n25687                8500.0  33.965712 -118.344352  Kushnirenko     Tatyana  \n25688               21250.0  37.793989 -122.408336         Yuen       Jenny  \n25689               21250.0  34.324488 -118.445983          Toy        Lisa  \n25690               21250.0  38.682213 -120.839790        Ziese        Siri  \n\n[25691 rows x 24 columns]",
            "text/html": "<div>\n<style scoped>\n    .dataframe tbody tr th:only-of-type {\n        vertical-align: middle;\n    }\n\n    .dataframe tbody tr th {\n        vertical-align: top;\n    }\n\n    .dataframe thead th {\n        text-align: right;\n    }\n</style>\n<table border=\"1\" class=\"dataframe\">\n  <thead>\n    <tr style=\"text-align: right;\">\n      <th></th>\n      <th>X</th>\n      <th>Y</th>\n      <th>OBJECTID</th>\n      <th>Provider_Name</th>\n      <th>NPI</th>\n      <th>Medicaid_EP_Hospital_Type</th>\n      <th>Specialty</th>\n      <th>Business_Street_Address</th>\n      <th>Business_City</th>\n      <th>Business_County</th>\n      <th>...</th>\n      <th>Payment_Year_Number</th>\n      <th>Payment_Criteria_Medicaid</th>\n      <th>Payee_Name</th>\n      <th>Payee_NPI</th>\n      <th>total_payments</th>\n      <th>total_recent_payments</th>\n      <th>Latitude</th>\n      <th>Longitude</th>\n      <th>Last_Name</th>\n      <th>First_Name</th>\n    </tr>\n  </thead>\n  <tbody>\n    <tr>\n      <th>0</th>\n      <td>-121.376390</td>\n      <td>38.556297</td>\n      <td>1</td>\n      <td>Choti, Supak</td>\n      <td>1003003781</td>\n      <td>Dentist</td>\n      <td>UNKNOWN</td>\n      <td>8890 Cal Center Drive</td>\n      <td>Sacramento</td>\n      <td>Sacramento</td>\n      <td>...</td>\n      <td>3</td>\n      <td>MU</td>\n      <td>DINSHAW SARKARI ADC   CHERAG</td>\n      <td>1821152562</td>\n      <td>38250.0</td>\n      <td>8500.0</td>\n      <td>38.556297</td>\n      <td>-121.376390</td>\n      <td>Choti</td>\n      <td>Supak</td>\n    </tr>\n    <tr>\n      <th>1</th>\n      <td>-122.242829</td>\n      <td>37.781795</td>\n      <td>2</td>\n      <td>Sheikh, Mohammad</td>\n      <td>1003009077</td>\n      <td>Physician</td>\n      <td>PSYCHIATRY</td>\n      <td>2000 Embarcadero Ste 101</td>\n      <td>Oakland</td>\n      <td>Alameda</td>\n      <td>...</td>\n      <td>1</td>\n      <td>AIU</td>\n      <td>of Alameda County</td>\n      <td>1659402303</td>\n      <td>21250.0</td>\n      <td>21250.0</td>\n      <td>37.781795</td>\n      <td>-122.242829</td>\n      <td>Sheikh</td>\n      <td>Mohammad</td>\n    </tr>\n    <tr>\n      <th>2</th>\n      <td>-121.805014</td>\n      <td>37.983654</td>\n      <td>3</td>\n      <td>vontela, rekha</td>\n      <td>1003009440</td>\n      <td>Dentist</td>\n      <td>UNKNOWN</td>\n      <td>3737 Lone Tree Way, suite F</td>\n      <td>Antioch</td>\n      <td>Contra Costa</td>\n      <td>...</td>\n      <td>1</td>\n      <td>AIU</td>\n      <td>Designated Payee Name not Found</td>\n      <td>1427388875</td>\n      <td>21250.0</td>\n      <td>21250.0</td>\n      <td>37.983654</td>\n      <td>-121.805014</td>\n      <td>vontela</td>\n      <td>Rekha</td>\n    </tr>\n    <tr>\n      <th>3</th>\n      <td>-117.265614</td>\n      <td>34.050607</td>\n      <td>4</td>\n      <td>Pardo, Andrea</td>\n      <td>1003010059</td>\n      <td>Physician</td>\n      <td>UNKNOWN</td>\n      <td>11175 Campus St, Room A1120C</td>\n      <td>Loma Linda</td>\n      <td>San Bernardino</td>\n      <td>...</td>\n      <td>2</td>\n      <td>MU</td>\n      <td>PHYSICIANS         FACULTY</td>\n      <td>1275583007</td>\n      <td>29750.0</td>\n      <td>8500.0</td>\n      <td>34.050607</td>\n      <td>-117.265614</td>\n      <td>Pardo</td>\n      <td>Andrea</td>\n    </tr>\n    <tr>\n      <th>4</th>\n      <td>-117.867478</td>\n      <td>33.779086</td>\n      <td>5</td>\n      <td>Lim, kyung A</td>\n      <td>1003010372</td>\n      <td>Dentist</td>\n      <td>UNKNOWN</td>\n      <td>530 South Main St.</td>\n      <td>Orange</td>\n      <td>Orange</td>\n      <td>...</td>\n      <td>1</td>\n      <td>AIU</td>\n      <td>Dental Western</td>\n      <td>1477627156</td>\n      <td>21250.0</td>\n      <td>21250.0</td>\n      <td>33.779086</td>\n      <td>-117.867478</td>\n      <td>Lim</td>\n      <td>Kyung a</td>\n    </tr>\n    <tr>\n      <th>...</th>\n      <td>...</td>\n      <td>...</td>\n      <td>...</td>\n      <td>...</td>\n      <td>...</td>\n      <td>...</td>\n      <td>...</td>\n      <td>...</td>\n      <td>...</td>\n      <td>...</td>\n      <td>...</td>\n      <td>...</td>\n      <td>...</td>\n      <td>...</td>\n      <td>...</td>\n      <td>...</td>\n      <td>...</td>\n      <td>...</td>\n      <td>...</td>\n      <td>...</td>\n      <td>...</td>\n    </tr>\n    <tr>\n      <th>25686</th>\n      <td>-118.284093</td>\n      <td>33.960036</td>\n      <td>25687</td>\n      <td>Anakwenze, Vicki</td>\n      <td>1992986947</td>\n      <td>Physician</td>\n      <td>GENERAL PRACTICE</td>\n      <td>600 W MANCHESTER AVE STE 3</td>\n      <td>Los Angeles</td>\n      <td>Los Angeles</td>\n      <td>...</td>\n      <td>1</td>\n      <td>AIU</td>\n      <td>CARE MED GROUP     VICTORIAN</td>\n      <td>1821172008</td>\n      <td>21250.0</td>\n      <td>21250.0</td>\n      <td>33.960036</td>\n      <td>-118.284093</td>\n      <td>Anakwenze</td>\n      <td>Vicki</td>\n    </tr>\n    <tr>\n      <th>25687</th>\n      <td>-118.344352</td>\n      <td>33.965712</td>\n      <td>25688</td>\n      <td>Kushnirenko, Tatyana</td>\n      <td>1992989305</td>\n      <td>Nurse Practitioner</td>\n      <td>UNKNOWN</td>\n      <td>301 N Prairie Blvd #300</td>\n      <td>Inglewood</td>\n      <td>Los Angeles</td>\n      <td>...</td>\n      <td>2</td>\n      <td>MU</td>\n      <td>CITY COMMUNITY       MISSION</td>\n      <td>1760409791</td>\n      <td>29750.0</td>\n      <td>8500.0</td>\n      <td>33.965712</td>\n      <td>-118.344352</td>\n      <td>Kushnirenko</td>\n      <td>Tatyana</td>\n    </tr>\n    <tr>\n      <th>25688</th>\n      <td>-122.408336</td>\n      <td>37.793989</td>\n      <td>25689</td>\n      <td>Yuen, Jenny</td>\n      <td>1992999569</td>\n      <td>Doctor of Optometry</td>\n      <td>UNKNOWN</td>\n      <td>929 Clay St., Ste. 503</td>\n      <td>San Francisco</td>\n      <td>San Francisco</td>\n      <td>...</td>\n      <td>1</td>\n      <td>AIU</td>\n      <td>Designated Payee Name not Found</td>\n      <td>1972835452</td>\n      <td>21250.0</td>\n      <td>21250.0</td>\n      <td>37.793989</td>\n      <td>-122.408336</td>\n      <td>Yuen</td>\n      <td>Jenny</td>\n    </tr>\n    <tr>\n      <th>25689</th>\n      <td>-118.445983</td>\n      <td>34.324488</td>\n      <td>25690</td>\n      <td>Toy, Lisa</td>\n      <td>1992975403</td>\n      <td>Physician</td>\n      <td>UNKNOWN</td>\n      <td>14445 Olive View Drive, Olive View-UCLA Med Ct...</td>\n      <td>Sylmar</td>\n      <td>Los Angeles</td>\n      <td>...</td>\n      <td>1</td>\n      <td>AIU</td>\n      <td>ANGELES CO     LOS</td>\n      <td>1316969934</td>\n      <td>21250.0</td>\n      <td>21250.0</td>\n      <td>34.324488</td>\n      <td>-118.445983</td>\n      <td>Toy</td>\n      <td>Lisa</td>\n    </tr>\n    <tr>\n      <th>25690</th>\n      <td>-120.839790</td>\n      <td>38.682213</td>\n      <td>25691</td>\n      <td>Ziese, Siri</td>\n      <td>1992998496</td>\n      <td>Dentist</td>\n      <td>UNKNOWN</td>\n      <td>6400 Pleasant Valley Road</td>\n      <td>El Dorado</td>\n      <td>El Dorado</td>\n      <td>...</td>\n      <td>1</td>\n      <td>AIU</td>\n      <td>Designated Payee Name not Found</td>\n      <td>1992998496</td>\n      <td>21250.0</td>\n      <td>21250.0</td>\n      <td>38.682213</td>\n      <td>-120.839790</td>\n      <td>Ziese</td>\n      <td>Siri</td>\n    </tr>\n  </tbody>\n</table>\n<p>25691 rows × 24 columns</p>\n</div>"
          },
          "metadata": {}
        }
      ],
      "execution_count": 11,
      "metadata": {
        "collapsed": true,
        "jupyter": {
          "source_hidden": false,
          "outputs_hidden": false
        },
        "nteract": {
          "transient": {
            "deleting": false
          }
        },
        "execution": {
          "iopub.status.busy": "2021-03-07T00:28:27.019Z",
          "iopub.execute_input": "2021-03-07T00:28:27.024Z",
          "iopub.status.idle": "2021-03-07T00:28:27.035Z",
          "shell.execute_reply": "2021-03-07T00:28:26.711Z"
        }
      }
    },
    {
      "cell_type": "code",
      "source": [
        "ehr_data['Last_Name'] = ehr_data['Last_Name'].str.capitalize()"
      ],
      "outputs": [],
      "execution_count": 12,
      "metadata": {
        "collapsed": true,
        "jupyter": {
          "source_hidden": false,
          "outputs_hidden": false
        },
        "nteract": {
          "transient": {
            "deleting": false
          }
        },
        "execution": {
          "iopub.status.busy": "2021-03-07T00:28:27.047Z",
          "iopub.execute_input": "2021-03-07T00:28:27.053Z",
          "shell.execute_reply": "2021-03-07T00:28:26.717Z",
          "iopub.status.idle": "2021-03-07T00:28:27.059Z"
        }
      }
    },
    {
      "cell_type": "code",
      "source": [
        "ehr_data"
      ],
      "outputs": [
        {
          "output_type": "execute_result",
          "execution_count": 13,
          "data": {
            "text/plain": "                X          Y  OBJECTID         Provider_Name         NPI  \\\n0     -121.376390  38.556297         1          Choti, Supak  1003003781   \n1     -122.242829  37.781795         2      Sheikh, Mohammad  1003009077   \n2     -121.805014  37.983654         3        vontela, rekha  1003009440   \n3     -117.265614  34.050607         4         Pardo, Andrea  1003010059   \n4     -117.867478  33.779086         5          Lim, kyung A  1003010372   \n...           ...        ...       ...                   ...         ...   \n25686 -118.284093  33.960036     25687      Anakwenze, Vicki  1992986947   \n25687 -118.344352  33.965712     25688  Kushnirenko, Tatyana  1992989305   \n25688 -122.408336  37.793989     25689           Yuen, Jenny  1992999569   \n25689 -118.445983  34.324488     25690             Toy, Lisa  1992975403   \n25690 -120.839790  38.682213     25691           Ziese, Siri  1992998496   \n\n      Medicaid_EP_Hospital_Type         Specialty  \\\n0                       Dentist           UNKNOWN   \n1                     Physician        PSYCHIATRY   \n2                       Dentist           UNKNOWN   \n3                     Physician           UNKNOWN   \n4                       Dentist           UNKNOWN   \n...                         ...               ...   \n25686                 Physician  GENERAL PRACTICE   \n25687        Nurse Practitioner           UNKNOWN   \n25688       Doctor of Optometry           UNKNOWN   \n25689                 Physician           UNKNOWN   \n25690                   Dentist           UNKNOWN   \n\n                                 Business_Street_Address  Business_City  \\\n0                                  8890 Cal Center Drive     Sacramento   \n1                               2000 Embarcadero Ste 101        Oakland   \n2                            3737 Lone Tree Way, suite F        Antioch   \n3                           11175 Campus St, Room A1120C     Loma Linda   \n4                                     530 South Main St.         Orange   \n...                                                  ...            ...   \n25686                         600 W MANCHESTER AVE STE 3    Los Angeles   \n25687                            301 N Prairie Blvd #300      Inglewood   \n25688                             929 Clay St., Ste. 503  San Francisco   \n25689  14445 Olive View Drive, Olive View-UCLA Med Ct...         Sylmar   \n25690                          6400 Pleasant Valley Road      El Dorado   \n\n      Business_County  ...  Payment_Year_Number Payment_Criteria_Medicaid  \\\n0          Sacramento  ...                    3                        MU   \n1             Alameda  ...                    1                       AIU   \n2        Contra Costa  ...                    1                       AIU   \n3      San Bernardino  ...                    2                        MU   \n4              Orange  ...                    1                       AIU   \n...               ...  ...                  ...                       ...   \n25686     Los Angeles  ...                    1                       AIU   \n25687     Los Angeles  ...                    2                        MU   \n25688   San Francisco  ...                    1                       AIU   \n25689     Los Angeles  ...                    1                       AIU   \n25690       El Dorado  ...                    1                       AIU   \n\n                            Payee_Name   Payee_NPI  total_payments  \\\n0         DINSHAW SARKARI ADC   CHERAG  1821152562         38250.0   \n1                    of Alameda County  1659402303         21250.0   \n2      Designated Payee Name not Found  1427388875         21250.0   \n3           PHYSICIANS         FACULTY  1275583007         29750.0   \n4                       Dental Western  1477627156         21250.0   \n...                                ...         ...             ...   \n25686     CARE MED GROUP     VICTORIAN  1821172008         21250.0   \n25687     CITY COMMUNITY       MISSION  1760409791         29750.0   \n25688  Designated Payee Name not Found  1972835452         21250.0   \n25689               ANGELES CO     LOS  1316969934         21250.0   \n25690  Designated Payee Name not Found  1992998496         21250.0   \n\n      total_recent_payments   Latitude   Longitude    Last_Name  First_Name  \n0                    8500.0  38.556297 -121.376390        Choti       Supak  \n1                   21250.0  37.781795 -122.242829       Sheikh    Mohammad  \n2                   21250.0  37.983654 -121.805014      Vontela       Rekha  \n3                    8500.0  34.050607 -117.265614        Pardo      Andrea  \n4                   21250.0  33.779086 -117.867478          Lim     Kyung a  \n...                     ...        ...         ...          ...         ...  \n25686               21250.0  33.960036 -118.284093    Anakwenze       Vicki  \n25687                8500.0  33.965712 -118.344352  Kushnirenko     Tatyana  \n25688               21250.0  37.793989 -122.408336         Yuen       Jenny  \n25689               21250.0  34.324488 -118.445983          Toy        Lisa  \n25690               21250.0  38.682213 -120.839790        Ziese        Siri  \n\n[25691 rows x 24 columns]",
            "text/html": "<div>\n<style scoped>\n    .dataframe tbody tr th:only-of-type {\n        vertical-align: middle;\n    }\n\n    .dataframe tbody tr th {\n        vertical-align: top;\n    }\n\n    .dataframe thead th {\n        text-align: right;\n    }\n</style>\n<table border=\"1\" class=\"dataframe\">\n  <thead>\n    <tr style=\"text-align: right;\">\n      <th></th>\n      <th>X</th>\n      <th>Y</th>\n      <th>OBJECTID</th>\n      <th>Provider_Name</th>\n      <th>NPI</th>\n      <th>Medicaid_EP_Hospital_Type</th>\n      <th>Specialty</th>\n      <th>Business_Street_Address</th>\n      <th>Business_City</th>\n      <th>Business_County</th>\n      <th>...</th>\n      <th>Payment_Year_Number</th>\n      <th>Payment_Criteria_Medicaid</th>\n      <th>Payee_Name</th>\n      <th>Payee_NPI</th>\n      <th>total_payments</th>\n      <th>total_recent_payments</th>\n      <th>Latitude</th>\n      <th>Longitude</th>\n      <th>Last_Name</th>\n      <th>First_Name</th>\n    </tr>\n  </thead>\n  <tbody>\n    <tr>\n      <th>0</th>\n      <td>-121.376390</td>\n      <td>38.556297</td>\n      <td>1</td>\n      <td>Choti, Supak</td>\n      <td>1003003781</td>\n      <td>Dentist</td>\n      <td>UNKNOWN</td>\n      <td>8890 Cal Center Drive</td>\n      <td>Sacramento</td>\n      <td>Sacramento</td>\n      <td>...</td>\n      <td>3</td>\n      <td>MU</td>\n      <td>DINSHAW SARKARI ADC   CHERAG</td>\n      <td>1821152562</td>\n      <td>38250.0</td>\n      <td>8500.0</td>\n      <td>38.556297</td>\n      <td>-121.376390</td>\n      <td>Choti</td>\n      <td>Supak</td>\n    </tr>\n    <tr>\n      <th>1</th>\n      <td>-122.242829</td>\n      <td>37.781795</td>\n      <td>2</td>\n      <td>Sheikh, Mohammad</td>\n      <td>1003009077</td>\n      <td>Physician</td>\n      <td>PSYCHIATRY</td>\n      <td>2000 Embarcadero Ste 101</td>\n      <td>Oakland</td>\n      <td>Alameda</td>\n      <td>...</td>\n      <td>1</td>\n      <td>AIU</td>\n      <td>of Alameda County</td>\n      <td>1659402303</td>\n      <td>21250.0</td>\n      <td>21250.0</td>\n      <td>37.781795</td>\n      <td>-122.242829</td>\n      <td>Sheikh</td>\n      <td>Mohammad</td>\n    </tr>\n    <tr>\n      <th>2</th>\n      <td>-121.805014</td>\n      <td>37.983654</td>\n      <td>3</td>\n      <td>vontela, rekha</td>\n      <td>1003009440</td>\n      <td>Dentist</td>\n      <td>UNKNOWN</td>\n      <td>3737 Lone Tree Way, suite F</td>\n      <td>Antioch</td>\n      <td>Contra Costa</td>\n      <td>...</td>\n      <td>1</td>\n      <td>AIU</td>\n      <td>Designated Payee Name not Found</td>\n      <td>1427388875</td>\n      <td>21250.0</td>\n      <td>21250.0</td>\n      <td>37.983654</td>\n      <td>-121.805014</td>\n      <td>Vontela</td>\n      <td>Rekha</td>\n    </tr>\n    <tr>\n      <th>3</th>\n      <td>-117.265614</td>\n      <td>34.050607</td>\n      <td>4</td>\n      <td>Pardo, Andrea</td>\n      <td>1003010059</td>\n      <td>Physician</td>\n      <td>UNKNOWN</td>\n      <td>11175 Campus St, Room A1120C</td>\n      <td>Loma Linda</td>\n      <td>San Bernardino</td>\n      <td>...</td>\n      <td>2</td>\n      <td>MU</td>\n      <td>PHYSICIANS         FACULTY</td>\n      <td>1275583007</td>\n      <td>29750.0</td>\n      <td>8500.0</td>\n      <td>34.050607</td>\n      <td>-117.265614</td>\n      <td>Pardo</td>\n      <td>Andrea</td>\n    </tr>\n    <tr>\n      <th>4</th>\n      <td>-117.867478</td>\n      <td>33.779086</td>\n      <td>5</td>\n      <td>Lim, kyung A</td>\n      <td>1003010372</td>\n      <td>Dentist</td>\n      <td>UNKNOWN</td>\n      <td>530 South Main St.</td>\n      <td>Orange</td>\n      <td>Orange</td>\n      <td>...</td>\n      <td>1</td>\n      <td>AIU</td>\n      <td>Dental Western</td>\n      <td>1477627156</td>\n      <td>21250.0</td>\n      <td>21250.0</td>\n      <td>33.779086</td>\n      <td>-117.867478</td>\n      <td>Lim</td>\n      <td>Kyung a</td>\n    </tr>\n    <tr>\n      <th>...</th>\n      <td>...</td>\n      <td>...</td>\n      <td>...</td>\n      <td>...</td>\n      <td>...</td>\n      <td>...</td>\n      <td>...</td>\n      <td>...</td>\n      <td>...</td>\n      <td>...</td>\n      <td>...</td>\n      <td>...</td>\n      <td>...</td>\n      <td>...</td>\n      <td>...</td>\n      <td>...</td>\n      <td>...</td>\n      <td>...</td>\n      <td>...</td>\n      <td>...</td>\n      <td>...</td>\n    </tr>\n    <tr>\n      <th>25686</th>\n      <td>-118.284093</td>\n      <td>33.960036</td>\n      <td>25687</td>\n      <td>Anakwenze, Vicki</td>\n      <td>1992986947</td>\n      <td>Physician</td>\n      <td>GENERAL PRACTICE</td>\n      <td>600 W MANCHESTER AVE STE 3</td>\n      <td>Los Angeles</td>\n      <td>Los Angeles</td>\n      <td>...</td>\n      <td>1</td>\n      <td>AIU</td>\n      <td>CARE MED GROUP     VICTORIAN</td>\n      <td>1821172008</td>\n      <td>21250.0</td>\n      <td>21250.0</td>\n      <td>33.960036</td>\n      <td>-118.284093</td>\n      <td>Anakwenze</td>\n      <td>Vicki</td>\n    </tr>\n    <tr>\n      <th>25687</th>\n      <td>-118.344352</td>\n      <td>33.965712</td>\n      <td>25688</td>\n      <td>Kushnirenko, Tatyana</td>\n      <td>1992989305</td>\n      <td>Nurse Practitioner</td>\n      <td>UNKNOWN</td>\n      <td>301 N Prairie Blvd #300</td>\n      <td>Inglewood</td>\n      <td>Los Angeles</td>\n      <td>...</td>\n      <td>2</td>\n      <td>MU</td>\n      <td>CITY COMMUNITY       MISSION</td>\n      <td>1760409791</td>\n      <td>29750.0</td>\n      <td>8500.0</td>\n      <td>33.965712</td>\n      <td>-118.344352</td>\n      <td>Kushnirenko</td>\n      <td>Tatyana</td>\n    </tr>\n    <tr>\n      <th>25688</th>\n      <td>-122.408336</td>\n      <td>37.793989</td>\n      <td>25689</td>\n      <td>Yuen, Jenny</td>\n      <td>1992999569</td>\n      <td>Doctor of Optometry</td>\n      <td>UNKNOWN</td>\n      <td>929 Clay St., Ste. 503</td>\n      <td>San Francisco</td>\n      <td>San Francisco</td>\n      <td>...</td>\n      <td>1</td>\n      <td>AIU</td>\n      <td>Designated Payee Name not Found</td>\n      <td>1972835452</td>\n      <td>21250.0</td>\n      <td>21250.0</td>\n      <td>37.793989</td>\n      <td>-122.408336</td>\n      <td>Yuen</td>\n      <td>Jenny</td>\n    </tr>\n    <tr>\n      <th>25689</th>\n      <td>-118.445983</td>\n      <td>34.324488</td>\n      <td>25690</td>\n      <td>Toy, Lisa</td>\n      <td>1992975403</td>\n      <td>Physician</td>\n      <td>UNKNOWN</td>\n      <td>14445 Olive View Drive, Olive View-UCLA Med Ct...</td>\n      <td>Sylmar</td>\n      <td>Los Angeles</td>\n      <td>...</td>\n      <td>1</td>\n      <td>AIU</td>\n      <td>ANGELES CO     LOS</td>\n      <td>1316969934</td>\n      <td>21250.0</td>\n      <td>21250.0</td>\n      <td>34.324488</td>\n      <td>-118.445983</td>\n      <td>Toy</td>\n      <td>Lisa</td>\n    </tr>\n    <tr>\n      <th>25690</th>\n      <td>-120.839790</td>\n      <td>38.682213</td>\n      <td>25691</td>\n      <td>Ziese, Siri</td>\n      <td>1992998496</td>\n      <td>Dentist</td>\n      <td>UNKNOWN</td>\n      <td>6400 Pleasant Valley Road</td>\n      <td>El Dorado</td>\n      <td>El Dorado</td>\n      <td>...</td>\n      <td>1</td>\n      <td>AIU</td>\n      <td>Designated Payee Name not Found</td>\n      <td>1992998496</td>\n      <td>21250.0</td>\n      <td>21250.0</td>\n      <td>38.682213</td>\n      <td>-120.839790</td>\n      <td>Ziese</td>\n      <td>Siri</td>\n    </tr>\n  </tbody>\n</table>\n<p>25691 rows × 24 columns</p>\n</div>"
          },
          "metadata": {}
        }
      ],
      "execution_count": 13,
      "metadata": {
        "collapsed": true,
        "jupyter": {
          "source_hidden": false,
          "outputs_hidden": false
        },
        "nteract": {
          "transient": {
            "deleting": false
          }
        },
        "execution": {
          "iopub.status.busy": "2021-03-07T00:28:27.066Z",
          "iopub.execute_input": "2021-03-07T00:28:27.072Z",
          "iopub.status.idle": "2021-03-07T00:28:27.082Z",
          "shell.execute_reply": "2021-03-07T00:28:26.724Z"
        }
      }
    },
    {
      "cell_type": "code",
      "source": [
        "ehr_data['Provider_Name'] = ehr_data['Last_Name'].str.cat(ehr_data['First_Name'],sep=\", \")"
      ],
      "outputs": [],
      "execution_count": 14,
      "metadata": {
        "collapsed": true,
        "jupyter": {
          "source_hidden": false,
          "outputs_hidden": false
        },
        "nteract": {
          "transient": {
            "deleting": false
          }
        },
        "execution": {
          "iopub.status.busy": "2021-03-07T00:28:27.089Z",
          "iopub.execute_input": "2021-03-07T00:28:27.094Z",
          "iopub.status.idle": "2021-03-07T00:28:27.100Z",
          "shell.execute_reply": "2021-03-07T00:28:26.732Z"
        }
      }
    },
    {
      "cell_type": "code",
      "source": [
        "ehr_data"
      ],
      "outputs": [
        {
          "output_type": "execute_result",
          "execution_count": 15,
          "data": {
            "text/plain": "                X          Y  OBJECTID         Provider_Name         NPI  \\\n0     -121.376390  38.556297         1          Choti, Supak  1003003781   \n1     -122.242829  37.781795         2      Sheikh, Mohammad  1003009077   \n2     -121.805014  37.983654         3        Vontela, Rekha  1003009440   \n3     -117.265614  34.050607         4         Pardo, Andrea  1003010059   \n4     -117.867478  33.779086         5          Lim, Kyung a  1003010372   \n...           ...        ...       ...                   ...         ...   \n25686 -118.284093  33.960036     25687      Anakwenze, Vicki  1992986947   \n25687 -118.344352  33.965712     25688  Kushnirenko, Tatyana  1992989305   \n25688 -122.408336  37.793989     25689           Yuen, Jenny  1992999569   \n25689 -118.445983  34.324488     25690             Toy, Lisa  1992975403   \n25690 -120.839790  38.682213     25691           Ziese, Siri  1992998496   \n\n      Medicaid_EP_Hospital_Type         Specialty  \\\n0                       Dentist           UNKNOWN   \n1                     Physician        PSYCHIATRY   \n2                       Dentist           UNKNOWN   \n3                     Physician           UNKNOWN   \n4                       Dentist           UNKNOWN   \n...                         ...               ...   \n25686                 Physician  GENERAL PRACTICE   \n25687        Nurse Practitioner           UNKNOWN   \n25688       Doctor of Optometry           UNKNOWN   \n25689                 Physician           UNKNOWN   \n25690                   Dentist           UNKNOWN   \n\n                                 Business_Street_Address  Business_City  \\\n0                                  8890 Cal Center Drive     Sacramento   \n1                               2000 Embarcadero Ste 101        Oakland   \n2                            3737 Lone Tree Way, suite F        Antioch   \n3                           11175 Campus St, Room A1120C     Loma Linda   \n4                                     530 South Main St.         Orange   \n...                                                  ...            ...   \n25686                         600 W MANCHESTER AVE STE 3    Los Angeles   \n25687                            301 N Prairie Blvd #300      Inglewood   \n25688                             929 Clay St., Ste. 503  San Francisco   \n25689  14445 Olive View Drive, Olive View-UCLA Med Ct...         Sylmar   \n25690                          6400 Pleasant Valley Road      El Dorado   \n\n      Business_County  ...  Payment_Year_Number Payment_Criteria_Medicaid  \\\n0          Sacramento  ...                    3                        MU   \n1             Alameda  ...                    1                       AIU   \n2        Contra Costa  ...                    1                       AIU   \n3      San Bernardino  ...                    2                        MU   \n4              Orange  ...                    1                       AIU   \n...               ...  ...                  ...                       ...   \n25686     Los Angeles  ...                    1                       AIU   \n25687     Los Angeles  ...                    2                        MU   \n25688   San Francisco  ...                    1                       AIU   \n25689     Los Angeles  ...                    1                       AIU   \n25690       El Dorado  ...                    1                       AIU   \n\n                            Payee_Name   Payee_NPI  total_payments  \\\n0         DINSHAW SARKARI ADC   CHERAG  1821152562         38250.0   \n1                    of Alameda County  1659402303         21250.0   \n2      Designated Payee Name not Found  1427388875         21250.0   \n3           PHYSICIANS         FACULTY  1275583007         29750.0   \n4                       Dental Western  1477627156         21250.0   \n...                                ...         ...             ...   \n25686     CARE MED GROUP     VICTORIAN  1821172008         21250.0   \n25687     CITY COMMUNITY       MISSION  1760409791         29750.0   \n25688  Designated Payee Name not Found  1972835452         21250.0   \n25689               ANGELES CO     LOS  1316969934         21250.0   \n25690  Designated Payee Name not Found  1992998496         21250.0   \n\n      total_recent_payments   Latitude   Longitude    Last_Name  First_Name  \n0                    8500.0  38.556297 -121.376390        Choti       Supak  \n1                   21250.0  37.781795 -122.242829       Sheikh    Mohammad  \n2                   21250.0  37.983654 -121.805014      Vontela       Rekha  \n3                    8500.0  34.050607 -117.265614        Pardo      Andrea  \n4                   21250.0  33.779086 -117.867478          Lim     Kyung a  \n...                     ...        ...         ...          ...         ...  \n25686               21250.0  33.960036 -118.284093    Anakwenze       Vicki  \n25687                8500.0  33.965712 -118.344352  Kushnirenko     Tatyana  \n25688               21250.0  37.793989 -122.408336         Yuen       Jenny  \n25689               21250.0  34.324488 -118.445983          Toy        Lisa  \n25690               21250.0  38.682213 -120.839790        Ziese        Siri  \n\n[25691 rows x 24 columns]",
            "text/html": "<div>\n<style scoped>\n    .dataframe tbody tr th:only-of-type {\n        vertical-align: middle;\n    }\n\n    .dataframe tbody tr th {\n        vertical-align: top;\n    }\n\n    .dataframe thead th {\n        text-align: right;\n    }\n</style>\n<table border=\"1\" class=\"dataframe\">\n  <thead>\n    <tr style=\"text-align: right;\">\n      <th></th>\n      <th>X</th>\n      <th>Y</th>\n      <th>OBJECTID</th>\n      <th>Provider_Name</th>\n      <th>NPI</th>\n      <th>Medicaid_EP_Hospital_Type</th>\n      <th>Specialty</th>\n      <th>Business_Street_Address</th>\n      <th>Business_City</th>\n      <th>Business_County</th>\n      <th>...</th>\n      <th>Payment_Year_Number</th>\n      <th>Payment_Criteria_Medicaid</th>\n      <th>Payee_Name</th>\n      <th>Payee_NPI</th>\n      <th>total_payments</th>\n      <th>total_recent_payments</th>\n      <th>Latitude</th>\n      <th>Longitude</th>\n      <th>Last_Name</th>\n      <th>First_Name</th>\n    </tr>\n  </thead>\n  <tbody>\n    <tr>\n      <th>0</th>\n      <td>-121.376390</td>\n      <td>38.556297</td>\n      <td>1</td>\n      <td>Choti, Supak</td>\n      <td>1003003781</td>\n      <td>Dentist</td>\n      <td>UNKNOWN</td>\n      <td>8890 Cal Center Drive</td>\n      <td>Sacramento</td>\n      <td>Sacramento</td>\n      <td>...</td>\n      <td>3</td>\n      <td>MU</td>\n      <td>DINSHAW SARKARI ADC   CHERAG</td>\n      <td>1821152562</td>\n      <td>38250.0</td>\n      <td>8500.0</td>\n      <td>38.556297</td>\n      <td>-121.376390</td>\n      <td>Choti</td>\n      <td>Supak</td>\n    </tr>\n    <tr>\n      <th>1</th>\n      <td>-122.242829</td>\n      <td>37.781795</td>\n      <td>2</td>\n      <td>Sheikh, Mohammad</td>\n      <td>1003009077</td>\n      <td>Physician</td>\n      <td>PSYCHIATRY</td>\n      <td>2000 Embarcadero Ste 101</td>\n      <td>Oakland</td>\n      <td>Alameda</td>\n      <td>...</td>\n      <td>1</td>\n      <td>AIU</td>\n      <td>of Alameda County</td>\n      <td>1659402303</td>\n      <td>21250.0</td>\n      <td>21250.0</td>\n      <td>37.781795</td>\n      <td>-122.242829</td>\n      <td>Sheikh</td>\n      <td>Mohammad</td>\n    </tr>\n    <tr>\n      <th>2</th>\n      <td>-121.805014</td>\n      <td>37.983654</td>\n      <td>3</td>\n      <td>Vontela, Rekha</td>\n      <td>1003009440</td>\n      <td>Dentist</td>\n      <td>UNKNOWN</td>\n      <td>3737 Lone Tree Way, suite F</td>\n      <td>Antioch</td>\n      <td>Contra Costa</td>\n      <td>...</td>\n      <td>1</td>\n      <td>AIU</td>\n      <td>Designated Payee Name not Found</td>\n      <td>1427388875</td>\n      <td>21250.0</td>\n      <td>21250.0</td>\n      <td>37.983654</td>\n      <td>-121.805014</td>\n      <td>Vontela</td>\n      <td>Rekha</td>\n    </tr>\n    <tr>\n      <th>3</th>\n      <td>-117.265614</td>\n      <td>34.050607</td>\n      <td>4</td>\n      <td>Pardo, Andrea</td>\n      <td>1003010059</td>\n      <td>Physician</td>\n      <td>UNKNOWN</td>\n      <td>11175 Campus St, Room A1120C</td>\n      <td>Loma Linda</td>\n      <td>San Bernardino</td>\n      <td>...</td>\n      <td>2</td>\n      <td>MU</td>\n      <td>PHYSICIANS         FACULTY</td>\n      <td>1275583007</td>\n      <td>29750.0</td>\n      <td>8500.0</td>\n      <td>34.050607</td>\n      <td>-117.265614</td>\n      <td>Pardo</td>\n      <td>Andrea</td>\n    </tr>\n    <tr>\n      <th>4</th>\n      <td>-117.867478</td>\n      <td>33.779086</td>\n      <td>5</td>\n      <td>Lim, Kyung a</td>\n      <td>1003010372</td>\n      <td>Dentist</td>\n      <td>UNKNOWN</td>\n      <td>530 South Main St.</td>\n      <td>Orange</td>\n      <td>Orange</td>\n      <td>...</td>\n      <td>1</td>\n      <td>AIU</td>\n      <td>Dental Western</td>\n      <td>1477627156</td>\n      <td>21250.0</td>\n      <td>21250.0</td>\n      <td>33.779086</td>\n      <td>-117.867478</td>\n      <td>Lim</td>\n      <td>Kyung a</td>\n    </tr>\n    <tr>\n      <th>...</th>\n      <td>...</td>\n      <td>...</td>\n      <td>...</td>\n      <td>...</td>\n      <td>...</td>\n      <td>...</td>\n      <td>...</td>\n      <td>...</td>\n      <td>...</td>\n      <td>...</td>\n      <td>...</td>\n      <td>...</td>\n      <td>...</td>\n      <td>...</td>\n      <td>...</td>\n      <td>...</td>\n      <td>...</td>\n      <td>...</td>\n      <td>...</td>\n      <td>...</td>\n      <td>...</td>\n    </tr>\n    <tr>\n      <th>25686</th>\n      <td>-118.284093</td>\n      <td>33.960036</td>\n      <td>25687</td>\n      <td>Anakwenze, Vicki</td>\n      <td>1992986947</td>\n      <td>Physician</td>\n      <td>GENERAL PRACTICE</td>\n      <td>600 W MANCHESTER AVE STE 3</td>\n      <td>Los Angeles</td>\n      <td>Los Angeles</td>\n      <td>...</td>\n      <td>1</td>\n      <td>AIU</td>\n      <td>CARE MED GROUP     VICTORIAN</td>\n      <td>1821172008</td>\n      <td>21250.0</td>\n      <td>21250.0</td>\n      <td>33.960036</td>\n      <td>-118.284093</td>\n      <td>Anakwenze</td>\n      <td>Vicki</td>\n    </tr>\n    <tr>\n      <th>25687</th>\n      <td>-118.344352</td>\n      <td>33.965712</td>\n      <td>25688</td>\n      <td>Kushnirenko, Tatyana</td>\n      <td>1992989305</td>\n      <td>Nurse Practitioner</td>\n      <td>UNKNOWN</td>\n      <td>301 N Prairie Blvd #300</td>\n      <td>Inglewood</td>\n      <td>Los Angeles</td>\n      <td>...</td>\n      <td>2</td>\n      <td>MU</td>\n      <td>CITY COMMUNITY       MISSION</td>\n      <td>1760409791</td>\n      <td>29750.0</td>\n      <td>8500.0</td>\n      <td>33.965712</td>\n      <td>-118.344352</td>\n      <td>Kushnirenko</td>\n      <td>Tatyana</td>\n    </tr>\n    <tr>\n      <th>25688</th>\n      <td>-122.408336</td>\n      <td>37.793989</td>\n      <td>25689</td>\n      <td>Yuen, Jenny</td>\n      <td>1992999569</td>\n      <td>Doctor of Optometry</td>\n      <td>UNKNOWN</td>\n      <td>929 Clay St., Ste. 503</td>\n      <td>San Francisco</td>\n      <td>San Francisco</td>\n      <td>...</td>\n      <td>1</td>\n      <td>AIU</td>\n      <td>Designated Payee Name not Found</td>\n      <td>1972835452</td>\n      <td>21250.0</td>\n      <td>21250.0</td>\n      <td>37.793989</td>\n      <td>-122.408336</td>\n      <td>Yuen</td>\n      <td>Jenny</td>\n    </tr>\n    <tr>\n      <th>25689</th>\n      <td>-118.445983</td>\n      <td>34.324488</td>\n      <td>25690</td>\n      <td>Toy, Lisa</td>\n      <td>1992975403</td>\n      <td>Physician</td>\n      <td>UNKNOWN</td>\n      <td>14445 Olive View Drive, Olive View-UCLA Med Ct...</td>\n      <td>Sylmar</td>\n      <td>Los Angeles</td>\n      <td>...</td>\n      <td>1</td>\n      <td>AIU</td>\n      <td>ANGELES CO     LOS</td>\n      <td>1316969934</td>\n      <td>21250.0</td>\n      <td>21250.0</td>\n      <td>34.324488</td>\n      <td>-118.445983</td>\n      <td>Toy</td>\n      <td>Lisa</td>\n    </tr>\n    <tr>\n      <th>25690</th>\n      <td>-120.839790</td>\n      <td>38.682213</td>\n      <td>25691</td>\n      <td>Ziese, Siri</td>\n      <td>1992998496</td>\n      <td>Dentist</td>\n      <td>UNKNOWN</td>\n      <td>6400 Pleasant Valley Road</td>\n      <td>El Dorado</td>\n      <td>El Dorado</td>\n      <td>...</td>\n      <td>1</td>\n      <td>AIU</td>\n      <td>Designated Payee Name not Found</td>\n      <td>1992998496</td>\n      <td>21250.0</td>\n      <td>21250.0</td>\n      <td>38.682213</td>\n      <td>-120.839790</td>\n      <td>Ziese</td>\n      <td>Siri</td>\n    </tr>\n  </tbody>\n</table>\n<p>25691 rows × 24 columns</p>\n</div>"
          },
          "metadata": {}
        }
      ],
      "execution_count": 15,
      "metadata": {
        "collapsed": true,
        "jupyter": {
          "source_hidden": false,
          "outputs_hidden": false
        },
        "nteract": {
          "transient": {
            "deleting": false
          }
        },
        "execution": {
          "iopub.status.busy": "2021-03-07T00:28:27.108Z",
          "iopub.execute_input": "2021-03-07T00:28:27.114Z",
          "iopub.status.idle": "2021-03-07T00:28:27.124Z",
          "shell.execute_reply": "2021-03-07T00:28:26.738Z"
        }
      }
    },
    {
      "cell_type": "code",
      "source": [
        "ehr_data['Business_Street_Address'] = ehr_data['Business_Street_Address'].apply(lambda x: x.title())"
      ],
      "outputs": [],
      "execution_count": 16,
      "metadata": {
        "collapsed": true,
        "jupyter": {
          "source_hidden": false,
          "outputs_hidden": false
        },
        "nteract": {
          "transient": {
            "deleting": false
          }
        },
        "execution": {
          "iopub.status.busy": "2021-03-07T00:28:27.135Z",
          "iopub.execute_input": "2021-03-07T00:28:27.166Z",
          "iopub.status.idle": "2021-03-07T00:28:27.172Z",
          "shell.execute_reply": "2021-03-07T00:28:26.746Z"
        }
      }
    },
    {
      "cell_type": "code",
      "source": [
        "ehr_data['Business_City'] = ehr_data['Business_City'].str.capitalize()"
      ],
      "outputs": [],
      "execution_count": 17,
      "metadata": {
        "collapsed": true,
        "jupyter": {
          "source_hidden": false,
          "outputs_hidden": false
        },
        "nteract": {
          "transient": {
            "deleting": false
          }
        },
        "execution": {
          "iopub.status.busy": "2021-03-07T00:28:27.180Z",
          "iopub.execute_input": "2021-03-07T00:28:27.186Z",
          "iopub.status.idle": "2021-03-07T00:28:27.192Z",
          "shell.execute_reply": "2021-03-07T00:28:26.753Z"
        }
      }
    },
    {
      "cell_type": "code",
      "source": [
        "ehr_data['Business_County'] = ehr_data['Business_County'].str.capitalize()"
      ],
      "outputs": [],
      "execution_count": 18,
      "metadata": {
        "collapsed": true,
        "jupyter": {
          "source_hidden": false,
          "outputs_hidden": false
        },
        "nteract": {
          "transient": {
            "deleting": false
          }
        },
        "execution": {
          "iopub.status.busy": "2021-03-07T00:28:27.202Z",
          "iopub.execute_input": "2021-03-07T00:28:27.207Z",
          "iopub.status.idle": "2021-03-07T00:28:27.213Z",
          "shell.execute_reply": "2021-03-07T00:28:26.760Z"
        }
      }
    },
    {
      "cell_type": "code",
      "source": [
        "ehr_data"
      ],
      "outputs": [
        {
          "output_type": "execute_result",
          "execution_count": 19,
          "data": {
            "text/plain": "                X          Y  OBJECTID         Provider_Name         NPI  \\\n0     -121.376390  38.556297         1          Choti, Supak  1003003781   \n1     -122.242829  37.781795         2      Sheikh, Mohammad  1003009077   \n2     -121.805014  37.983654         3        Vontela, Rekha  1003009440   \n3     -117.265614  34.050607         4         Pardo, Andrea  1003010059   \n4     -117.867478  33.779086         5          Lim, Kyung a  1003010372   \n...           ...        ...       ...                   ...         ...   \n25686 -118.284093  33.960036     25687      Anakwenze, Vicki  1992986947   \n25687 -118.344352  33.965712     25688  Kushnirenko, Tatyana  1992989305   \n25688 -122.408336  37.793989     25689           Yuen, Jenny  1992999569   \n25689 -118.445983  34.324488     25690             Toy, Lisa  1992975403   \n25690 -120.839790  38.682213     25691           Ziese, Siri  1992998496   \n\n      Medicaid_EP_Hospital_Type         Specialty  \\\n0                       Dentist           UNKNOWN   \n1                     Physician        PSYCHIATRY   \n2                       Dentist           UNKNOWN   \n3                     Physician           UNKNOWN   \n4                       Dentist           UNKNOWN   \n...                         ...               ...   \n25686                 Physician  GENERAL PRACTICE   \n25687        Nurse Practitioner           UNKNOWN   \n25688       Doctor of Optometry           UNKNOWN   \n25689                 Physician           UNKNOWN   \n25690                   Dentist           UNKNOWN   \n\n                                 Business_Street_Address  Business_City  \\\n0                                  8890 Cal Center Drive     Sacramento   \n1                               2000 Embarcadero Ste 101        Oakland   \n2                            3737 Lone Tree Way, Suite F        Antioch   \n3                           11175 Campus St, Room A1120C     Loma linda   \n4                                     530 South Main St.         Orange   \n...                                                  ...            ...   \n25686                         600 W Manchester Ave Ste 3    Los angeles   \n25687                            301 N Prairie Blvd #300      Inglewood   \n25688                             929 Clay St., Ste. 503  San francisco   \n25689  14445 Olive View Drive, Olive View-Ucla Med Ct...         Sylmar   \n25690                          6400 Pleasant Valley Road      El dorado   \n\n      Business_County  ...  Payment_Year_Number Payment_Criteria_Medicaid  \\\n0          Sacramento  ...                    3                        MU   \n1             Alameda  ...                    1                       AIU   \n2        Contra costa  ...                    1                       AIU   \n3      San bernardino  ...                    2                        MU   \n4              Orange  ...                    1                       AIU   \n...               ...  ...                  ...                       ...   \n25686     Los angeles  ...                    1                       AIU   \n25687     Los angeles  ...                    2                        MU   \n25688   San francisco  ...                    1                       AIU   \n25689     Los angeles  ...                    1                       AIU   \n25690       El dorado  ...                    1                       AIU   \n\n                            Payee_Name   Payee_NPI  total_payments  \\\n0         DINSHAW SARKARI ADC   CHERAG  1821152562         38250.0   \n1                    of Alameda County  1659402303         21250.0   \n2      Designated Payee Name not Found  1427388875         21250.0   \n3           PHYSICIANS         FACULTY  1275583007         29750.0   \n4                       Dental Western  1477627156         21250.0   \n...                                ...         ...             ...   \n25686     CARE MED GROUP     VICTORIAN  1821172008         21250.0   \n25687     CITY COMMUNITY       MISSION  1760409791         29750.0   \n25688  Designated Payee Name not Found  1972835452         21250.0   \n25689               ANGELES CO     LOS  1316969934         21250.0   \n25690  Designated Payee Name not Found  1992998496         21250.0   \n\n      total_recent_payments   Latitude   Longitude    Last_Name  First_Name  \n0                    8500.0  38.556297 -121.376390        Choti       Supak  \n1                   21250.0  37.781795 -122.242829       Sheikh    Mohammad  \n2                   21250.0  37.983654 -121.805014      Vontela       Rekha  \n3                    8500.0  34.050607 -117.265614        Pardo      Andrea  \n4                   21250.0  33.779086 -117.867478          Lim     Kyung a  \n...                     ...        ...         ...          ...         ...  \n25686               21250.0  33.960036 -118.284093    Anakwenze       Vicki  \n25687                8500.0  33.965712 -118.344352  Kushnirenko     Tatyana  \n25688               21250.0  37.793989 -122.408336         Yuen       Jenny  \n25689               21250.0  34.324488 -118.445983          Toy        Lisa  \n25690               21250.0  38.682213 -120.839790        Ziese        Siri  \n\n[25691 rows x 24 columns]",
            "text/html": "<div>\n<style scoped>\n    .dataframe tbody tr th:only-of-type {\n        vertical-align: middle;\n    }\n\n    .dataframe tbody tr th {\n        vertical-align: top;\n    }\n\n    .dataframe thead th {\n        text-align: right;\n    }\n</style>\n<table border=\"1\" class=\"dataframe\">\n  <thead>\n    <tr style=\"text-align: right;\">\n      <th></th>\n      <th>X</th>\n      <th>Y</th>\n      <th>OBJECTID</th>\n      <th>Provider_Name</th>\n      <th>NPI</th>\n      <th>Medicaid_EP_Hospital_Type</th>\n      <th>Specialty</th>\n      <th>Business_Street_Address</th>\n      <th>Business_City</th>\n      <th>Business_County</th>\n      <th>...</th>\n      <th>Payment_Year_Number</th>\n      <th>Payment_Criteria_Medicaid</th>\n      <th>Payee_Name</th>\n      <th>Payee_NPI</th>\n      <th>total_payments</th>\n      <th>total_recent_payments</th>\n      <th>Latitude</th>\n      <th>Longitude</th>\n      <th>Last_Name</th>\n      <th>First_Name</th>\n    </tr>\n  </thead>\n  <tbody>\n    <tr>\n      <th>0</th>\n      <td>-121.376390</td>\n      <td>38.556297</td>\n      <td>1</td>\n      <td>Choti, Supak</td>\n      <td>1003003781</td>\n      <td>Dentist</td>\n      <td>UNKNOWN</td>\n      <td>8890 Cal Center Drive</td>\n      <td>Sacramento</td>\n      <td>Sacramento</td>\n      <td>...</td>\n      <td>3</td>\n      <td>MU</td>\n      <td>DINSHAW SARKARI ADC   CHERAG</td>\n      <td>1821152562</td>\n      <td>38250.0</td>\n      <td>8500.0</td>\n      <td>38.556297</td>\n      <td>-121.376390</td>\n      <td>Choti</td>\n      <td>Supak</td>\n    </tr>\n    <tr>\n      <th>1</th>\n      <td>-122.242829</td>\n      <td>37.781795</td>\n      <td>2</td>\n      <td>Sheikh, Mohammad</td>\n      <td>1003009077</td>\n      <td>Physician</td>\n      <td>PSYCHIATRY</td>\n      <td>2000 Embarcadero Ste 101</td>\n      <td>Oakland</td>\n      <td>Alameda</td>\n      <td>...</td>\n      <td>1</td>\n      <td>AIU</td>\n      <td>of Alameda County</td>\n      <td>1659402303</td>\n      <td>21250.0</td>\n      <td>21250.0</td>\n      <td>37.781795</td>\n      <td>-122.242829</td>\n      <td>Sheikh</td>\n      <td>Mohammad</td>\n    </tr>\n    <tr>\n      <th>2</th>\n      <td>-121.805014</td>\n      <td>37.983654</td>\n      <td>3</td>\n      <td>Vontela, Rekha</td>\n      <td>1003009440</td>\n      <td>Dentist</td>\n      <td>UNKNOWN</td>\n      <td>3737 Lone Tree Way, Suite F</td>\n      <td>Antioch</td>\n      <td>Contra costa</td>\n      <td>...</td>\n      <td>1</td>\n      <td>AIU</td>\n      <td>Designated Payee Name not Found</td>\n      <td>1427388875</td>\n      <td>21250.0</td>\n      <td>21250.0</td>\n      <td>37.983654</td>\n      <td>-121.805014</td>\n      <td>Vontela</td>\n      <td>Rekha</td>\n    </tr>\n    <tr>\n      <th>3</th>\n      <td>-117.265614</td>\n      <td>34.050607</td>\n      <td>4</td>\n      <td>Pardo, Andrea</td>\n      <td>1003010059</td>\n      <td>Physician</td>\n      <td>UNKNOWN</td>\n      <td>11175 Campus St, Room A1120C</td>\n      <td>Loma linda</td>\n      <td>San bernardino</td>\n      <td>...</td>\n      <td>2</td>\n      <td>MU</td>\n      <td>PHYSICIANS         FACULTY</td>\n      <td>1275583007</td>\n      <td>29750.0</td>\n      <td>8500.0</td>\n      <td>34.050607</td>\n      <td>-117.265614</td>\n      <td>Pardo</td>\n      <td>Andrea</td>\n    </tr>\n    <tr>\n      <th>4</th>\n      <td>-117.867478</td>\n      <td>33.779086</td>\n      <td>5</td>\n      <td>Lim, Kyung a</td>\n      <td>1003010372</td>\n      <td>Dentist</td>\n      <td>UNKNOWN</td>\n      <td>530 South Main St.</td>\n      <td>Orange</td>\n      <td>Orange</td>\n      <td>...</td>\n      <td>1</td>\n      <td>AIU</td>\n      <td>Dental Western</td>\n      <td>1477627156</td>\n      <td>21250.0</td>\n      <td>21250.0</td>\n      <td>33.779086</td>\n      <td>-117.867478</td>\n      <td>Lim</td>\n      <td>Kyung a</td>\n    </tr>\n    <tr>\n      <th>...</th>\n      <td>...</td>\n      <td>...</td>\n      <td>...</td>\n      <td>...</td>\n      <td>...</td>\n      <td>...</td>\n      <td>...</td>\n      <td>...</td>\n      <td>...</td>\n      <td>...</td>\n      <td>...</td>\n      <td>...</td>\n      <td>...</td>\n      <td>...</td>\n      <td>...</td>\n      <td>...</td>\n      <td>...</td>\n      <td>...</td>\n      <td>...</td>\n      <td>...</td>\n      <td>...</td>\n    </tr>\n    <tr>\n      <th>25686</th>\n      <td>-118.284093</td>\n      <td>33.960036</td>\n      <td>25687</td>\n      <td>Anakwenze, Vicki</td>\n      <td>1992986947</td>\n      <td>Physician</td>\n      <td>GENERAL PRACTICE</td>\n      <td>600 W Manchester Ave Ste 3</td>\n      <td>Los angeles</td>\n      <td>Los angeles</td>\n      <td>...</td>\n      <td>1</td>\n      <td>AIU</td>\n      <td>CARE MED GROUP     VICTORIAN</td>\n      <td>1821172008</td>\n      <td>21250.0</td>\n      <td>21250.0</td>\n      <td>33.960036</td>\n      <td>-118.284093</td>\n      <td>Anakwenze</td>\n      <td>Vicki</td>\n    </tr>\n    <tr>\n      <th>25687</th>\n      <td>-118.344352</td>\n      <td>33.965712</td>\n      <td>25688</td>\n      <td>Kushnirenko, Tatyana</td>\n      <td>1992989305</td>\n      <td>Nurse Practitioner</td>\n      <td>UNKNOWN</td>\n      <td>301 N Prairie Blvd #300</td>\n      <td>Inglewood</td>\n      <td>Los angeles</td>\n      <td>...</td>\n      <td>2</td>\n      <td>MU</td>\n      <td>CITY COMMUNITY       MISSION</td>\n      <td>1760409791</td>\n      <td>29750.0</td>\n      <td>8500.0</td>\n      <td>33.965712</td>\n      <td>-118.344352</td>\n      <td>Kushnirenko</td>\n      <td>Tatyana</td>\n    </tr>\n    <tr>\n      <th>25688</th>\n      <td>-122.408336</td>\n      <td>37.793989</td>\n      <td>25689</td>\n      <td>Yuen, Jenny</td>\n      <td>1992999569</td>\n      <td>Doctor of Optometry</td>\n      <td>UNKNOWN</td>\n      <td>929 Clay St., Ste. 503</td>\n      <td>San francisco</td>\n      <td>San francisco</td>\n      <td>...</td>\n      <td>1</td>\n      <td>AIU</td>\n      <td>Designated Payee Name not Found</td>\n      <td>1972835452</td>\n      <td>21250.0</td>\n      <td>21250.0</td>\n      <td>37.793989</td>\n      <td>-122.408336</td>\n      <td>Yuen</td>\n      <td>Jenny</td>\n    </tr>\n    <tr>\n      <th>25689</th>\n      <td>-118.445983</td>\n      <td>34.324488</td>\n      <td>25690</td>\n      <td>Toy, Lisa</td>\n      <td>1992975403</td>\n      <td>Physician</td>\n      <td>UNKNOWN</td>\n      <td>14445 Olive View Drive, Olive View-Ucla Med Ct...</td>\n      <td>Sylmar</td>\n      <td>Los angeles</td>\n      <td>...</td>\n      <td>1</td>\n      <td>AIU</td>\n      <td>ANGELES CO     LOS</td>\n      <td>1316969934</td>\n      <td>21250.0</td>\n      <td>21250.0</td>\n      <td>34.324488</td>\n      <td>-118.445983</td>\n      <td>Toy</td>\n      <td>Lisa</td>\n    </tr>\n    <tr>\n      <th>25690</th>\n      <td>-120.839790</td>\n      <td>38.682213</td>\n      <td>25691</td>\n      <td>Ziese, Siri</td>\n      <td>1992998496</td>\n      <td>Dentist</td>\n      <td>UNKNOWN</td>\n      <td>6400 Pleasant Valley Road</td>\n      <td>El dorado</td>\n      <td>El dorado</td>\n      <td>...</td>\n      <td>1</td>\n      <td>AIU</td>\n      <td>Designated Payee Name not Found</td>\n      <td>1992998496</td>\n      <td>21250.0</td>\n      <td>21250.0</td>\n      <td>38.682213</td>\n      <td>-120.839790</td>\n      <td>Ziese</td>\n      <td>Siri</td>\n    </tr>\n  </tbody>\n</table>\n<p>25691 rows × 24 columns</p>\n</div>"
          },
          "metadata": {}
        }
      ],
      "execution_count": 19,
      "metadata": {
        "collapsed": true,
        "jupyter": {
          "source_hidden": false,
          "outputs_hidden": false
        },
        "nteract": {
          "transient": {
            "deleting": false
          }
        },
        "execution": {
          "iopub.status.busy": "2021-03-07T00:28:27.222Z",
          "iopub.execute_input": "2021-03-07T00:28:27.229Z",
          "iopub.status.idle": "2021-03-07T00:28:27.240Z",
          "shell.execute_reply": "2021-03-07T00:28:26.780Z"
        }
      }
    },
    {
      "cell_type": "code",
      "source": [
        "ehr_data.to_csv(\"EHR_clean.csv\")"
      ],
      "outputs": [],
      "execution_count": 20,
      "metadata": {
        "collapsed": true,
        "jupyter": {
          "source_hidden": false,
          "outputs_hidden": false
        },
        "nteract": {
          "transient": {
            "deleting": false
          }
        },
        "execution": {
          "iopub.status.busy": "2021-03-07T00:28:27.250Z",
          "iopub.execute_input": "2021-03-07T00:28:27.255Z",
          "iopub.status.idle": "2021-03-07T00:28:27.264Z",
          "shell.execute_reply": "2021-03-07T00:28:27.355Z"
        }
      }
    }
  ],
  "metadata": {
    "kernel_info": {
      "name": "python3"
    },
    "language_info": {
      "name": "python",
      "version": "3.6.12",
      "mimetype": "text/x-python",
      "codemirror_mode": {
        "name": "ipython",
        "version": 3
      },
      "pygments_lexer": "ipython3",
      "nbconvert_exporter": "python",
      "file_extension": ".py"
    },
    "kernelspec": {
      "argv": [
        "C:/Users/Tin Hang/Anaconda3\\python.exe",
        "-m",
        "ipykernel_launcher",
        "-f",
        "{connection_file}"
      ],
      "display_name": "Python 3",
      "language": "python",
      "name": "python3"
    },
    "nteract": {
      "version": "0.28.0"
    }
  },
  "nbformat": 4,
  "nbformat_minor": 0
}